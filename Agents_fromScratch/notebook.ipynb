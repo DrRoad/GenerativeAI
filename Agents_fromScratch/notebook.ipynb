{
 "cells": [
  {
   "cell_type": "markdown",
   "id": "8214420c-1936-472c-930e-1f4c9efb3809",
   "metadata": {},
   "source": [
    "# GenAI with Python: Agents from scratch"
   ]
  },
  {
   "cell_type": "markdown",
   "id": "53219017-c57b-4ae8-8442-b89f95ff8bdc",
   "metadata": {},
   "source": [
    "###### [Article: TowardsDataScience]()"
   ]
  },
  {
   "cell_type": "markdown",
   "id": "fbd5a8e7-d0ca-4c6c-88b4-1c1e27591b84",
   "metadata": {
    "jp-MarkdownHeadingCollapsed": true
   },
   "source": [
    "### 0 - Setup"
   ]
  },
  {
   "cell_type": "code",
   "execution_count": 1,
   "id": "10f53cd6-8254-40ff-aca4-ca18a1bc7a8a",
   "metadata": {},
   "outputs": [],
   "source": [
    "#pip install langchain --> 0.2.14\n",
    "#pip install langgraph --> 0.2.19\n",
    "#pip install ollama --> 0.3.1\n",
    "#pip install duckduckgo-search --> 6.2.12\n",
    "#pip install wikipedia --> 1.4.0"
   ]
  },
  {
   "cell_type": "code",
   "execution_count": 2,
   "id": "ac37da15-9f5f-46b7-99cb-7bb4301ef088",
   "metadata": {},
   "outputs": [
    {
     "data": {
      "text/plain": [
       "{'model': 'llama3.1',\n",
       " 'created_at': '2024-09-23T14:28:23.111671Z',\n",
       " 'message': {'role': 'assistant',\n",
       "  'content': \"I'm a large language model, I do not have the ability to predict or know the future. Additionally, I do not have real-time access to information about upcoming events, including deaths.\\n\\nHowever, I can suggest some possible sources where you may be able to find information about notable individuals who passed away on September 9, 2024 (if this has actually occurred):\\n\\n1. **News archives**: Websites like CNN, BBC News, or The New York Times often report on celebrity and notable deaths.\\n2. **Obituaries databases**: Online databases like Legacy.com or Obituary Daily Times may have information about deceased individuals, including dates of death.\\n3. **Social media and news feeds**: You can also check social media platforms, online news feeds, or blogs related to specific fields (e.g., entertainment, politics) for updates on notable deaths.\\n\\nIf you're looking for information about a specific individual who passed away on September 9, 2024, please let me know their name, and I'll do my best to find relevant information.\"},\n",
       " 'done_reason': 'stop',\n",
       " 'done': True,\n",
       " 'total_duration': 52969153631,\n",
       " 'load_duration': 12758710651,\n",
       " 'prompt_eval_count': 22,\n",
       " 'prompt_eval_duration': 2143723000,\n",
       " 'eval_count': 214,\n",
       " 'eval_duration': 38025639000}"
      ]
     },
     "execution_count": 2,
     "metadata": {},
     "output_type": "execute_result"
    }
   ],
   "source": [
    "import ollama\n",
    "\n",
    "llm = \"llama3.1\"\n",
    "q = '''who died on September 9, 2024?'''\n",
    "\n",
    "res = ollama.chat(model=llm, \n",
    "                  messages=[{\"role\":\"system\", \"content\":\"\"},\n",
    "                            {\"role\":\"user\", \"content\":q}])\n",
    "res"
   ]
  },
  {
   "cell_type": "markdown",
   "id": "65c648ef-bed3-4179-8dcb-d6678abc0faa",
   "metadata": {
    "jp-MarkdownHeadingCollapsed": true
   },
   "source": [
    "### 1 - Tools"
   ]
  },
  {
   "cell_type": "code",
   "execution_count": 3,
   "id": "f6aa2dbe-0aa0-4d57-964b-b8c7aac331e0",
   "metadata": {},
   "outputs": [
    {
     "name": "stderr",
     "output_type": "stream",
     "text": [
      "/var/folders/_z/cl6cx94516g2tlbhzcbl4nfc0000gn/T/ipykernel_5825/2076258990.py:9: LangChainDeprecationWarning: The method `BaseTool.__call__` was deprecated in langchain-core 0.1.47 and will be removed in 1.0. Use invoke instead.\n",
      "  print( tool_browser(q) )\n"
     ]
    },
    {
     "name": "stdout",
     "output_type": "stream",
     "text": [
      "Alberto Fujimori (1938-2024) Sep 11 President of Peru (1990-2000), dies of cancer at 86 [1] Sep 11 Chad McQueen, American actor (Nightforce; The Karate Kid), dies at 63. Sep 14 Otis Davis, American athlete (Olympic gold 400m WR 44.9, 4x400m relay WR 3:02.2 1960), dies at 92. Sep 15 Gheorghe Mulțescu, Romanian soccer midfielder (16 caps; Jiul ... Rochester, Indiana. September 9, 2024 (79 years old) Vickey Karen Bryant. Atkins, Arkansas. September 9, 2024 (72 years old) Kathleen A. Jenkins. Yonkers, New York. September 9, 2024 (73 years old) Tommy Collins Jr. Actor James Earl Jones, known for his booming voice and many memorable performances, died Monday morning, according to his agent Barry McPherson. ... Mon September 9, 2024 Link Copied! September 9, 2024 1:33pm. James Earl Jones in 2015 WireImage. James Earl Jones, the revered actor who voiced Star Wars villain Darth Vader, starred in Field of Dreams and many other films and ... Updated 6:03 PM PDT, September 9, 2024. NEW YORK (AP) — James Earl Jones, who overcame racial prejudice and a severe stutter to become a celebrated icon of stage and screen — eventually lending his deep, commanding voice to CNN, \"The Lion King\" and Darth Vader — has died. He was 93.\n"
     ]
    }
   ],
   "source": [
    "from langchain_core.tools import tool\n",
    "from langchain_community.tools import DuckDuckGoSearchRun\n",
    "\n",
    "@tool(\"tool_browser\")\n",
    "def tool_browser(q:str) -> str:\n",
    "    \"\"\"Search on DuckDuckGo browser\"\"\"\n",
    "    return DuckDuckGoSearchRun().run(q)\n",
    "\n",
    "print( tool_browser(q) )"
   ]
  },
  {
   "cell_type": "code",
   "execution_count": 4,
   "id": "95293ae9-3422-4f48-af4c-6eb4be196416",
   "metadata": {},
   "outputs": [
    {
     "name": "stdout",
     "output_type": "stream",
     "text": [
      "yo\n"
     ]
    }
   ],
   "source": [
    "@tool(\"final_answer\")\n",
    "def final_answer(text:str) -> str:\n",
    "    \"\"\"Returns a natural language response to the user. \n",
    "    You should provide as much context as possible and specify the source of the information.\n",
    "    \"\"\"\n",
    "    return text\n",
    "\n",
    "print( final_answer(\"yo\") )"
   ]
  },
  {
   "cell_type": "code",
   "execution_count": 5,
   "id": "79657a90-ef3c-42db-a067-6829018f3f7b",
   "metadata": {},
   "outputs": [],
   "source": [
    "dic_tools = {\"tool_browser\":tool_browser, \n",
    "             \"final_answer\":final_answer}"
   ]
  },
  {
   "cell_type": "markdown",
   "id": "f182ae77-bed0-4262-b559-3f9c5a4de070",
   "metadata": {
    "jp-MarkdownHeadingCollapsed": true
   },
   "source": [
    "### 2 - Decision Making"
   ]
  },
  {
   "cell_type": "code",
   "execution_count": 6,
   "id": "952d7dad-b331-4e74-8f2d-6301d0d39f3a",
   "metadata": {},
   "outputs": [],
   "source": [
    "prompt = \"\"\"\n",
    "You know everything, you must answer every question from the user, you can use the list of tools provided to you.\n",
    "Your goal is to provide the user with the best possible answer, including key information about the sources and tools used.\n",
    "\n",
    "Note, when using a tool, you provide the tool name and the arguments to use in JSON format. \n",
    "For each call, you MUST ONLY use one tool AND the response format must ALWAYS be in the pattern:\n",
    "```json\n",
    "{\"name\":\"<tool_name>\", \"parameters\": {\"<tool_input_key>\":<tool_input_value>}}\n",
    "```\n",
    "Remember, do NOT use any tool with the same query more than once.\n",
    "Remember, if the user doesn't ask a specific question, you MUST use the `final_answer` tool directly.\n",
    "\n",
    "Every time the user asks a question, you take note in the memory.\n",
    "Every time you find some information related to the user's question, you take note in the memory.\n",
    "\n",
    "You should aim to collect information from a diverse range of sources before providing the answer to the user. \n",
    "Once you have collected plenty of information to answer the user's question use the `final_answer` tool.\n",
    "\"\"\""
   ]
  },
  {
   "cell_type": "code",
   "execution_count": 7,
   "id": "52813d8f-2579-4925-98df-55bfa5df1d53",
   "metadata": {},
   "outputs": [
    {
     "name": "stdout",
     "output_type": "stream",
     "text": [
      "You can use the following tools:\n",
      "1. `tool_browser`: Search on DuckDuckGo browser\n",
      "2. `final_answer`: Returns a natural language response to the user. \n",
      "    You should provide as much context as possible and specify the source of the information.\n"
     ]
    }
   ],
   "source": [
    "str_tools = \"\\n\".join([str(n+1)+\". `\"+str(v.name)+\"`: \"+str(v.description) for n,v in enumerate(dic_tools.values())])\n",
    "\n",
    "prompt_tools = f\"You can use the following tools:\\n{str_tools}\"\n",
    "print(prompt_tools)"
   ]
  },
  {
   "cell_type": "code",
   "execution_count": 8,
   "id": "c76fbe59-b967-458f-b8f3-a99b54bf4a0a",
   "metadata": {},
   "outputs": [
    {
     "name": "stdout",
     "output_type": "stream",
     "text": [
      "{'created_at': '2024-09-23T14:29:17.769977Z',\n",
      " 'done': True,\n",
      " 'done_reason': 'stop',\n",
      " 'eval_count': 34,\n",
      " 'eval_duration': 7764503000,\n",
      " 'load_duration': 205387360,\n",
      " 'message': {'content': '{\"name\":\"final_answer\", \"parameters\": {\"text\":\"Hello! '\n",
      "                        \"It's nice to meet you. I'm here to help answer any \"\n",
      "                        'questions you have.\"}}',\n",
      "             'role': 'assistant'},\n",
      " 'model': 'llama3.1',\n",
      " 'prompt_eval_count': 303,\n",
      " 'prompt_eval_duration': 43707999000,\n",
      " 'total_duration': 51688753277}\n"
     ]
    }
   ],
   "source": [
    "# LLM deciding what tool to use\n",
    "from pprint import pprint\n",
    "\n",
    "llm_res = ollama.chat(\n",
    "    model=llm,\n",
    "    messages=[{\"role\":\"system\", \"content\":prompt+\"\\n\"+prompt_tools},\n",
    "              {\"role\":\"user\", \"content\":\"hello\"}\n",
    "             ], format=\"json\")\n",
    "\n",
    "pprint(llm_res)"
   ]
  },
  {
   "cell_type": "code",
   "execution_count": 9,
   "id": "9e61195b-cd68-4e22-b335-3a88477c8f6e",
   "metadata": {},
   "outputs": [
    {
     "data": {
      "text/plain": [
       "'{\"name\":\"tool_browser\", \"parameters\": {\"q\":\"September 9 2024 death\"}}'"
      ]
     },
     "execution_count": 9,
     "metadata": {},
     "output_type": "execute_result"
    }
   ],
   "source": [
    "# LLM deciding what tool to use (output format = json)\n",
    "llm_res = ollama.chat(\n",
    "    model=llm,\n",
    "    messages=[{\"role\":\"system\", \"content\":prompt+\"\\n\"+prompt_tools},\n",
    "              {\"role\":\"user\", \"content\":q}\n",
    "             ], format=\"json\")\n",
    "\n",
    "llm_res[\"message\"][\"content\"]"
   ]
  },
  {
   "cell_type": "code",
   "execution_count": 10,
   "id": "b97d4e7f-4d9a-439c-a508-9c40cc44a3f3",
   "metadata": {},
   "outputs": [
    {
     "data": {
      "text/plain": [
       "'September 9 2024 death'"
      ]
     },
     "execution_count": 10,
     "metadata": {},
     "output_type": "execute_result"
    }
   ],
   "source": [
    "import json\n",
    "\n",
    "input = json.loads(llm_res[\"message\"][\"content\"])[\"parameters\"][\"q\"]\n",
    "input"
   ]
  },
  {
   "cell_type": "code",
   "execution_count": 11,
   "id": "b37eb027-6fe8-448c-8094-570679c89fa8",
   "metadata": {},
   "outputs": [
    {
     "name": "stdout",
     "output_type": "stream",
     "text": [
      "tool output:\n",
      " Alberto Fujimori (1938-2024) Sep 11 President of Peru (1990-2000), dies of cancer at 86 [1] Sep 11 Chad McQueen, American actor (Nightforce; The Karate Kid), dies at 63. Sep 14 Otis Davis, American athlete (Olympic gold 400m WR 44.9, 4x400m relay WR 3:02.2 1960), dies at 92. Sep 15 Gheorghe Mulțescu, Romanian soccer midfielder (16 caps; Jiul ... Actor James Earl Jones, known for his booming voice and many memorable performances, died Monday morning, according to his agent Barry McPherson. ... Mon September 9, 2024 Link Copied! Read on to remember the life and work of the celebrities who have died in 2024, including Beverly Hills, 90210 star Shannen Doherty, ... died on Monday Sept. 9 at 93. The actor, ... Died September 9 2024. News Obituaries James Earl Jones (1931-2024), the voice of Darth Vader and Mufasa. by Linnea Crowther September 9, 2024. Here are some notable people who have died in 2024. ... James Earl Jones, an award-winning actor whose career spanned seven decades, died Monday, September 9, at the age of 93, according to his ...\n",
      "\n",
      "llm output:\n",
      " Shannen Doherty (according to a different article not provided) and James Earl Jones, an award-winning actor, both passed away on September 9, 2024. However, the provided text states that James Earl Jones was reported by his agent to have died \"Monday morning\", but it does not explicitly confirm that he is deceased as Shannen Doherty's death is confirmed in another source.\n"
     ]
    }
   ],
   "source": [
    "# LLM with context\n",
    "context = tool_browser(input)\n",
    "print(\"tool output:\\n\", context)\n",
    "\n",
    "llm_output = ollama.chat(\n",
    "    model=llm,\n",
    "    messages=[{\"role\":\"system\", \"content\":\"Give the most accurate answer using the folling information:\\n\"+context},\n",
    "              {\"role\":\"user\", \"content\":q}\n",
    "             ])\n",
    "\n",
    "print(\"\\nllm output:\\n\", llm_output[\"message\"][\"content\"])"
   ]
  },
  {
   "cell_type": "markdown",
   "id": "abc0ff2b-28cf-43f2-beda-cd620c4f534a",
   "metadata": {
    "jp-MarkdownHeadingCollapsed": true
   },
   "source": [
    "### 3 - Agent"
   ]
  },
  {
   "cell_type": "markdown",
   "id": "46a2a13d-72eb-4fcb-a925-2326aed74869",
   "metadata": {},
   "source": [
    "##### Data Structure"
   ]
  },
  {
   "cell_type": "code",
   "execution_count": 12,
   "id": "fe47f093-1152-46a9-98c1-6bf60a725603",
   "metadata": {},
   "outputs": [
    {
     "name": "stdout",
     "output_type": "stream",
     "text": [
      "from\n",
      " {\"name\":\"tool_browser\", \"parameters\": {\"q\":\"September 9 2024 death\"}} \n",
      "to\n"
     ]
    },
    {
     "data": {
      "text/plain": [
       "AgentRes(tool_name='tool_browser', tool_input={'q': 'September 9 2024 death'}, tool_output=None)"
      ]
     },
     "execution_count": 12,
     "metadata": {},
     "output_type": "execute_result"
    }
   ],
   "source": [
    "from pydantic import BaseModel #this is the standard class\n",
    "\n",
    "# Taking for example the last LLM response, I want this structure:\n",
    "# {tool_name: 'tool_browser', \n",
    "#  tool_input: {'q':'September 9 2024 deaths'}, \n",
    "#  tool_output: str( tool_browser({'q':'September 9 2024 deaths'})) }\n",
    "\n",
    "class AgentRes(BaseModel):\n",
    "    tool_name: str  #<--must be a string = 'tool_browser'\n",
    "    tool_input: dict #<--must be a dictionary = {'q':'September 9 2024 deaths'}\n",
    "    tool_output: str | None = None #can be a string or None, default = None\n",
    "    \n",
    "    @classmethod\n",
    "    def from_llm(cls, res:dict): #<--return the class itself\n",
    "        try:\n",
    "            out = json.loads(res[\"message\"][\"content\"])\n",
    "            return cls(tool_name=out[\"name\"], tool_input=out[\"parameters\"])\n",
    "        except Exception as e:\n",
    "            print(f\"Error from Ollama:\\n{res}\\n\")\n",
    "            raise e\n",
    "\n",
    "# test\n",
    "agent_res = AgentRes.from_llm(llm_res)\n",
    "print(\"from\\n\", llm_res[\"message\"][\"content\"], \"\\nto\")\n",
    "agent_res"
   ]
  },
  {
   "cell_type": "code",
   "execution_count": 13,
   "id": "cb5339f4-4a1e-454b-b764-a2e0346e3ef4",
   "metadata": {},
   "outputs": [
    {
     "data": {
      "text/plain": [
       "AgentRes(tool_name='tool_browser', tool_input={'q': 'September 9 2024 deaths'}, tool_output='Famous deaths in September 2024. Learn about 24 historical figures, notable people and celebrities who died in Sep 2024 like James Earl Jones and Alberto Fujimori. Menu. ... James Earl Jones (1931-2024) Sep 9 American Tony, Emmy, Grammy, and Golden Globe winning actor (The Great White Hope; Star Wars - \"voice of Darth Vader\"; Field Of Dreams\"), ... Died September 9 2024. News Obituaries James Earl Jones (1931-2024), the voice of Darth Vader and Mufasa. by Linnea Crowther September 9, 2024. Updated on September 22, 2024 08:29PM EDT. After saying sad and shocking goodbyes to the many stars who died in 2023, ... died at Aug. 9 at age 74. A cause of death was not immediately released ... The following notable deaths occurred in 2024. Names are reported under the date of death, in alphabetical order. A typical entry reports information in the following sequence: ... This page was last edited on 22 September 2024, at 18:30 (UTC). Text is available under the Creative Commons Attribution-ShareAlike License 4.0; additional terms may ... 1926 William S. Scarborough, American linguist and author (Birds of Aristophanes), dies at 74. 1931 Lujo Brentano, German economist and social reformer, dies at 86. 1934 Roger Fry, English artist and art critic, dies at 67. 1941 Gustav Ehrismann, German author and expert on the German language, dies at 85.')"
      ]
     },
     "execution_count": 13,
     "metadata": {},
     "output_type": "execute_result"
    }
   ],
   "source": [
    "# test the tool output\n",
    "AgentRes(tool_name=\"tool_browser\", \n",
    "         tool_input={'q':'September 9 2024 deaths'}, \n",
    "         tool_output=str( tool_browser({'q':'September 9 2024 deaths'})) )"
   ]
  },
  {
   "cell_type": "markdown",
   "id": "f89d37c6-a49f-47e4-9e83-89e0a1e7b111",
   "metadata": {},
   "source": [
    "##### Memory System"
   ]
  },
  {
   "cell_type": "code",
   "execution_count": 14,
   "id": "05a313a5-eab2-4bfc-a96d-7fd0cd0cd870",
   "metadata": {},
   "outputs": [
    {
     "data": {
      "text/plain": [
       "[]"
      ]
     },
     "execution_count": 14,
     "metadata": {},
     "output_type": "execute_result"
    }
   ],
   "source": [
    "'''\n",
    "Messages in Memory will have this structure:\n",
    "[{'role':'assistant', 'content':'{\"name\":\"final_answer\", \"parameters\":{\"text\":\"How can I assist you today?\"}}'},\n",
    " {'role':'user', 'content':None}]\n",
    "'''\n",
    "\n",
    "def save_memory(lst_res:list[AgentRes], user_q:str) -> list:\n",
    "    ## create\n",
    "    memory = []\n",
    "    for res in [res for res in lst_res if res.tool_output is not None]:\n",
    "        memory.extend([\n",
    "            ### assistant message\n",
    "            {\"role\": \"assistant\", \"content\": json.dumps({\"name\":res.tool_name, \"parameters\":res.tool_input})},\n",
    "            ### user message\n",
    "            {\"role\":\"user\", \"content\":res.tool_output}\n",
    "        ])\n",
    "    \n",
    "    ## add a reminder of the original goal\n",
    "    if memory:\n",
    "        memory += [{\"role\":\"user\", \"content\":(f'''\n",
    "                This is just a reminder that my original query was `{user_q}`.\n",
    "                Only answer to the original query, and nothing else, but use the information I gave you. \n",
    "                Provide as much information as possible when you use the `final_answer` tool.\n",
    "                ''')}]\n",
    "    return memory\n",
    "\n",
    "save_memory(lst_res=[agent_res], user_q=q)"
   ]
  },
  {
   "cell_type": "code",
   "execution_count": 15,
   "id": "8587b83a-c1aa-4b78-a23a-ba1db31571b6",
   "metadata": {},
   "outputs": [],
   "source": [
    "chat_history = [{\"role\": \"user\", \"content\": \"hi there, how are you?\"},\n",
    "                {\"role\": \"assistant\", \"content\": \"I'm good, thanks!\"},\n",
    "                {\"role\": \"user\", \"content\": \"I have a question\"},\n",
    "                {\"role\": \"assistant\", \"content\": \"tell me\"}]"
   ]
  },
  {
   "cell_type": "markdown",
   "id": "22fc2702-61d5-4ed5-b958-8d0c29645c18",
   "metadata": {},
   "source": [
    "##### Run the Agent"
   ]
  },
  {
   "cell_type": "code",
   "execution_count": 16,
   "id": "623dcfac-fde3-41a2-bc74-9aa47d1d1b51",
   "metadata": {},
   "outputs": [
    {
     "name": "stdout",
     "output_type": "stream",
     "text": [
      "[{'content': '\\n'\n",
      "             'You know everything, you must answer every question from the '\n",
      "             'user, you can use the list of tools provided to you.\\n'\n",
      "             'Your goal is to provide the user with the best possible answer, '\n",
      "             'including key information about the sources and tools used.\\n'\n",
      "             '\\n'\n",
      "             'Note, when using a tool, you provide the tool name and the '\n",
      "             'arguments to use in JSON format. \\n'\n",
      "             'For each call, you MUST ONLY use one tool AND the response '\n",
      "             'format must ALWAYS be in the pattern:\\n'\n",
      "             '```json\\n'\n",
      "             '{\"name\":\"<tool_name>\", \"parameters\": '\n",
      "             '{\"<tool_input_key>\":<tool_input_value>}}\\n'\n",
      "             '```\\n'\n",
      "             'Remember, do NOT use any tool with the same query more than '\n",
      "             'once.\\n'\n",
      "             \"Remember, if the user doesn't ask a specific question, you MUST \"\n",
      "             'use the `final_answer` tool directly.\\n'\n",
      "             '\\n'\n",
      "             'Every time the user asks a question, you take note in the '\n",
      "             'memory.\\n'\n",
      "             \"Every time you find some information related to the user's \"\n",
      "             'question, you take note in the memory.\\n'\n",
      "             '\\n'\n",
      "             'You should aim to collect information from a diverse range of '\n",
      "             'sources before providing the answer to the user. \\n'\n",
      "             'Once you have collected plenty of information to answer the '\n",
      "             \"user's question use the `final_answer` tool.\\n\"\n",
      "             '\\n'\n",
      "             'You can use the following tools:\\n'\n",
      "             '1. `tool_browser`: Search on DuckDuckGo browser\\n'\n",
      "             '2. `final_answer`: Returns a natural language response to the '\n",
      "             'user. \\n'\n",
      "             '    You should provide as much context as possible and specify '\n",
      "             'the source of the information.',\n",
      "  'role': 'system'},\n",
      " {'content': 'hi there, how are you?', 'role': 'user'},\n",
      " {'content': \"I'm good, thanks!\", 'role': 'assistant'},\n",
      " {'content': 'I have a question', 'role': 'user'},\n",
      " {'content': 'tell me', 'role': 'assistant'},\n",
      " {'content': 'who died on September 9, 2024?', 'role': 'user'}]\n",
      "\n",
      "agent_res: tool_name='tool_browser' tool_input={'q': 'September 9 2024 deaths'} tool_output=None\n"
     ]
    }
   ],
   "source": [
    "def run_agent(prompt:str, dic_tools:dict, user_q:str, chat_history:list[dict], lst_res:list[AgentRes]) -> AgentRes:\n",
    "    ## start memory\n",
    "    memory = save_memory(lst_res=lst_res, user_q=user_q)\n",
    "    \n",
    "    ## track used tools\n",
    "    if memory:\n",
    "        tools_used = [res.tool_name for res in lst_res]\n",
    "        if len(tools_used) >= len(dic_tools.keys()):\n",
    "            memory[-1][\"content\"] = \"You must now use the `final_answer` tool.\"\n",
    "\n",
    "    ## prompt tools\n",
    "    str_tools = \"\\n\".join([str(n+1)+\". `\"+str(v.name)+\"`: \"+str(v.description) for n,v in enumerate(dic_tools.values())])\n",
    "    prompt_tools = f\"You can use the following tools:\\n{str_tools}\"\n",
    "        \n",
    "    ## messages\n",
    "    messages = [{\"role\":\"system\", \"content\":prompt+\"\\n\"+prompt_tools},\n",
    "                *chat_history,\n",
    "                {\"role\":\"user\", \"content\":user_q},\n",
    "                *memory]\n",
    "    pprint(messages)\n",
    "    \n",
    "    ## output\n",
    "    llm_res = ollama.chat(model=llm, messages=messages, format=\"json\")\n",
    "    return AgentRes.from_llm(llm_res)\n",
    "\n",
    "# test\n",
    "agent_res = run_agent(prompt=prompt, dic_tools=dic_tools, user_q=q, chat_history=chat_history, lst_res=[])\n",
    "print(\"\\nagent_res:\", agent_res)"
   ]
  },
  {
   "cell_type": "markdown",
   "id": "d9ab77b7-8380-4b4c-9914-c34c0404798f",
   "metadata": {},
   "source": [
    "### 4 - Graph Workflow"
   ]
  },
  {
   "cell_type": "markdown",
   "id": "79e9aad9-b664-4cc1-8085-26364bf041a1",
   "metadata": {},
   "source": [
    "##### State"
   ]
  },
  {
   "cell_type": "code",
   "execution_count": 76,
   "id": "fd64eaa3-6bc7-41e0-86a3-6061ba24b468",
   "metadata": {},
   "outputs": [
    {
     "data": {
      "text/plain": [
       "{'user_q': 'who died on September 9, 2024?',\n",
       " 'chat_history': [{'role': 'user', 'content': 'hi there, how are you?'},\n",
       "  {'role': 'assistant', 'content': \"I'm good, thanks!\"},\n",
       "  {'role': 'user', 'content': 'I have a question'},\n",
       "  {'role': 'assistant', 'content': 'tell me'}],\n",
       " 'lst_res': [AgentRes(tool_name='tool_browser', tool_input={'q': 'September 9 2024 deaths'}, tool_output=None)],\n",
       " 'output': {}}"
      ]
     },
     "execution_count": 76,
     "metadata": {},
     "output_type": "execute_result"
    }
   ],
   "source": [
    "import typing\n",
    "\n",
    "class State(typing.TypedDict):\n",
    "    user_q: str\n",
    "    chat_history: list \n",
    "    lst_res: list[AgentRes]\n",
    "    output: dict\n",
    "\n",
    "# test\n",
    "state = State({\"user_q\":q, \"chat_history\":chat_history, \"lst_res\":[agent_res], \"output\":{}})\n",
    "state"
   ]
  },
  {
   "cell_type": "markdown",
   "id": "8d0581b8-ca39-4e08-b279-f69b9fdedb2c",
   "metadata": {},
   "source": [
    "##### Nodes"
   ]
  },
  {
   "cell_type": "code",
   "execution_count": 77,
   "id": "982a35b4-2523-44b7-99e8-8537a19ce0f5",
   "metadata": {},
   "outputs": [
    {
     "name": "stdout",
     "output_type": "stream",
     "text": [
      "--- node_agent ---\n",
      "[{'content': '\\n'\n",
      "             'You know everything, you must answer every question from the '\n",
      "             'user, you can use the list of tools provided to you.\\n'\n",
      "             'Your goal is to provide the user with the best possible answer, '\n",
      "             'including key information about the sources and tools used.\\n'\n",
      "             '\\n'\n",
      "             'Note, when using a tool, you provide the tool name and the '\n",
      "             'arguments to use in JSON format. \\n'\n",
      "             'For each call, you MUST ONLY use one tool AND the response '\n",
      "             'format must ALWAYS be in the pattern:\\n'\n",
      "             '```json\\n'\n",
      "             '{\"name\":\"<tool_name>\", \"parameters\": '\n",
      "             '{\"<tool_input_key>\":<tool_input_value>}}\\n'\n",
      "             '```\\n'\n",
      "             'Remember, do NOT use any tool with the same query more than '\n",
      "             'once.\\n'\n",
      "             \"Remember, if the user doesn't ask a specific question, you MUST \"\n",
      "             'use the `final_answer` tool directly.\\n'\n",
      "             '\\n'\n",
      "             'Every time the user asks a question, you take note in the '\n",
      "             'memory.\\n'\n",
      "             \"Every time you find some information related to the user's \"\n",
      "             'question, you take note in the memory.\\n'\n",
      "             '\\n'\n",
      "             'You should aim to collect information from a diverse range of '\n",
      "             'sources before providing the answer to the user. \\n'\n",
      "             'Once you have collected plenty of information to answer the '\n",
      "             \"user's question use the `final_answer` tool.\\n\"\n",
      "             '\\n'\n",
      "             'You can use the following tools:\\n'\n",
      "             '1. `tool_browser`: Search on DuckDuckGo browser\\n'\n",
      "             '2. `final_answer`: Returns a natural language response to the '\n",
      "             'user. \\n'\n",
      "             '    You should provide as much context as possible and specify '\n",
      "             'the source of the information.',\n",
      "  'role': 'system'},\n",
      " {'content': 'hi there, how are you?', 'role': 'user'},\n",
      " {'content': \"I'm good, thanks!\", 'role': 'assistant'},\n",
      " {'content': 'I have a question', 'role': 'user'},\n",
      " {'content': 'tell me', 'role': 'assistant'},\n",
      " {'content': 'who died on September 9, 2024?', 'role': 'user'}]\n"
     ]
    },
    {
     "data": {
      "text/plain": [
       "{'lst_res': [AgentRes(tool_name='tool_browser', tool_input={'q': 'death on September 9, 2024'}, tool_output=None)]}"
      ]
     },
     "execution_count": 77,
     "metadata": {},
     "output_type": "execute_result"
    }
   ],
   "source": [
    "# Agent\n",
    "def node_agent(state):\n",
    "    print(\"--- node_agent ---\")\n",
    "    agent_res = run_agent(prompt=prompt, dic_tools=dic_tools,\n",
    "                          user_q=state[\"user_q\"], \n",
    "                          chat_history=state[\"chat_history\"], \n",
    "                          lst_res=state[\"lst_res\"])\n",
    "    return {\"lst_res\":[agent_res]} #<--must return a the list of agent_res\n",
    "\n",
    "# test\n",
    "node_agent(state)"
   ]
  },
  {
   "cell_type": "code",
   "execution_count": 78,
   "id": "7d66fa3e-7de0-4ea7-90e7-26665cb9b3df",
   "metadata": {},
   "outputs": [
    {
     "name": "stdout",
     "output_type": "stream",
     "text": [
      "--- node_tool ---\n",
      "tool_browser(input={'q': 'September 9 2024 deaths'})\n"
     ]
    },
    {
     "data": {
      "text/plain": [
       "{'lst_res': [AgentRes(tool_name='tool_browser', tool_input={'q': 'September 9 2024 deaths'}, tool_output='Famous deaths in September 2024. Learn about 24 historical figures, notable people and celebrities who died in Sep 2024 like James Earl Jones and Alberto Fujimori. Menu. ... James Earl Jones (1931-2024) Sep 9 American Tony, Emmy, Grammy, and Golden Globe winning actor (The Great White Hope; Star Wars - \"voice of Darth Vader\"; Field Of Dreams\"), ... Died September 9 2024. News Obituaries James Earl Jones (1931-2024), the voice of Darth Vader and Mufasa. by Linnea Crowther September 9, 2024. 1926 William S. Scarborough, American linguist and author (Birds of Aristophanes), dies at 74. 1931 Lujo Brentano, German economist and social reformer, dies at 86. 1934 Roger Fry, English artist and art critic, dies at 67. 1941 Gustav Ehrismann, German author and expert on the German language, dies at 85. Updated on September 22, 2024 08:29PM EDT. After saying sad and shocking goodbyes to the many stars who died in 2023, ... died at Aug. 9 at age 74. A cause of death was not immediately released ... Search in Canada of people who died on September 9, 2024 obituaries and condolences. Find an obituary, get service details, leave condolence messages or send flowers or gifts in memory of a loved one.')]}"
      ]
     },
     "execution_count": 78,
     "metadata": {},
     "output_type": "execute_result"
    }
   ],
   "source": [
    "# Tools\n",
    "def node_tool(state):\n",
    "    print(\"--- node_tool ---\")\n",
    "    res = state[\"lst_res\"][-1]\n",
    "    print(f\"{res.tool_name}(input={res.tool_input})\")\n",
    "    \n",
    "    agent_res = AgentRes(tool_name=res.tool_name, \n",
    "                         tool_input=res.tool_input, \n",
    "                         tool_output=str(dic_tools[res.tool_name](res.tool_input)) )\n",
    "    \n",
    "    return {\"output\":agent_res} if res.tool_name == \"final_answer\" else {\"lst_res\":[agent_res]}\n",
    "\n",
    "# test\n",
    "node_tool(state)"
   ]
  },
  {
   "cell_type": "markdown",
   "id": "f0b55681-db5b-4650-955a-875d1c7da163",
   "metadata": {},
   "source": [
    "##### Edges"
   ]
  },
  {
   "cell_type": "code",
   "execution_count": 79,
   "id": "fe58b028-e548-430c-a009-608b144aae72",
   "metadata": {},
   "outputs": [
    {
     "name": "stdout",
     "output_type": "stream",
     "text": [
      "--- conditional edges ---\n"
     ]
    },
    {
     "data": {
      "text/plain": [
       "'tool_browser'"
      ]
     },
     "execution_count": 79,
     "metadata": {},
     "output_type": "execute_result"
    }
   ],
   "source": [
    "def conditional_edges(state):\n",
    "    print(\"--- conditional edges ---\")\n",
    "    last_res = state[\"lst_res\"][-1]\n",
    "    return last_res.tool_name if isinstance(state[\"lst_res\"], list) else \"final_answer\"\n",
    "\n",
    "# test\n",
    "conditional_edges(state)"
   ]
  },
  {
   "cell_type": "markdown",
   "id": "6cb86f8a-f7c6-41d5-b314-c07c7b385ba9",
   "metadata": {},
   "source": [
    "##### Graph"
   ]
  },
  {
   "cell_type": "code",
   "execution_count": 80,
   "id": "3559fc30-33ce-466a-88be-ebe85985084b",
   "metadata": {},
   "outputs": [],
   "source": [
    "from langgraph.graph import StateGraph, END\n",
    "\n",
    "## start the graph\n",
    "workflow = StateGraph(State)\n",
    "\n",
    "## add Agent node\n",
    "workflow.add_node(node=\"Agent\", action=node_agent) \n",
    "workflow.set_entry_point(key=\"Agent\")  #<--user query\n",
    "\n",
    "## add Tools nodes\n",
    "for k in dic_tools.keys():\n",
    "    workflow.add_node(node=k, action=node_tool)\n",
    "\n",
    "## conditional_edges from Agent\n",
    "workflow.add_conditional_edges(source=\"Agent\", path=conditional_edges)\n",
    "\n",
    "## normal_edges to Agent\n",
    "for k in dic_tools.keys():\n",
    "    if k != \"final_answer\":\n",
    "        workflow.add_edge(start_key=k, end_key=\"Agent\")\n",
    "\n",
    "## end the graph\n",
    "workflow.add_edge(start_key=\"final_answer\", end_key=END)\n",
    "g = workflow.compile()"
   ]
  },
  {
   "cell_type": "code",
   "execution_count": 81,
   "id": "5ccd3876-579f-463c-8a8f-29baea3c5574",
   "metadata": {},
   "outputs": [
    {
     "data": {
      "image/jpeg": "[encoded data removed]",
      "text/plain": [
       "<IPython.core.display.Image object>"
      ]
     },
     "metadata": {},
     "output_type": "display_data"
    }
   ],
   "source": [
    "from IPython.display import Image, display\n",
    "from langchain_core.runnables.graph import MermaidDrawMethod\n",
    "\n",
    "display(Image(\n",
    "    g.get_graph().draw_mermaid_png(draw_method=MermaidDrawMethod.API)\n",
    "))"
   ]
  },
  {
   "cell_type": "markdown",
   "id": "1daf810a-4da2-46a3-91b5-87693c58c658",
   "metadata": {},
   "source": [
    "##### Run"
   ]
  },
  {
   "cell_type": "code",
   "execution_count": 82,
   "id": "20367e09-9a6a-4005-96dd-d1064376efd8",
   "metadata": {},
   "outputs": [],
   "source": [
    "## input initial state\n",
    "state = {'user_q':q,\n",
    "         'chat_history':chat_history, \n",
    "         'lst_res':[], \n",
    "         'output':{} }"
   ]
  },
  {
   "cell_type": "code",
   "execution_count": 85,
   "id": "b38fc540-3b6f-44bf-aa08-652ae56ddeb1",
   "metadata": {
    "scrolled": true
   },
   "outputs": [
    {
     "name": "stdout",
     "output_type": "stream",
     "text": [
      "--- node_agent ---\n",
      "[{'content': '\\n'\n",
      "             'You know everything, you must answer every question from the '\n",
      "             'user, you can use the list of tools provided to you.\\n'\n",
      "             'Your goal is to provide the user with the best possible answer, '\n",
      "             'including key information about the sources and tools used.\\n'\n",
      "             '\\n'\n",
      "             'Note, when using a tool, you provide the tool name and the '\n",
      "             'arguments to use in JSON format. \\n'\n",
      "             'For each call, you MUST ONLY use one tool AND the response '\n",
      "             'format must ALWAYS be in the pattern:\\n'\n",
      "             '```json\\n'\n",
      "             '{\"name\":\"<tool_name>\", \"parameters\": '\n",
      "             '{\"<tool_input_key>\":<tool_input_value>}}\\n'\n",
      "             '```\\n'\n",
      "             'Remember, do NOT use any tool with the same query more than '\n",
      "             'once.\\n'\n",
      "             \"Remember, if the user doesn't ask a specific question, you MUST \"\n",
      "             'use the `final_answer` tool directly.\\n'\n",
      "             '\\n'\n",
      "             'Every time the user asks a question, you take note in the '\n",
      "             'memory.\\n'\n",
      "             \"Every time you find some information related to the user's \"\n",
      "             'question, you take note in the memory.\\n'\n",
      "             '\\n'\n",
      "             'You should aim to collect information from a diverse range of '\n",
      "             'sources before providing the answer to the user. \\n'\n",
      "             'Once you have collected plenty of information to answer the '\n",
      "             \"user's question use the `final_answer` tool.\\n\"\n",
      "             '\\n'\n",
      "             'You can use the following tools:\\n'\n",
      "             '1. `tool_browser`: Search on DuckDuckGo browser\\n'\n",
      "             '2. `final_answer`: Returns a natural language response to the '\n",
      "             'user. \\n'\n",
      "             '    You should provide as much context as possible and specify '\n",
      "             'the source of the information.',\n",
      "  'role': 'system'},\n",
      " {'content': 'hi there, how are you?', 'role': 'user'},\n",
      " {'content': \"I'm good, thanks!\", 'role': 'assistant'},\n",
      " {'content': 'I have a question', 'role': 'user'},\n",
      " {'content': 'tell me', 'role': 'assistant'},\n",
      " {'content': 'who died on September 9, 2024?', 'role': 'user'}]\n",
      "--- conditional edges ---\n",
      "--- node_tool ---\n",
      "tool_browser(input={'q': 'September 9 2024 death'})\n",
      "--- node_agent ---\n",
      "[{'content': '\\n'\n",
      "             'You know everything, you must answer every question from the '\n",
      "             'user, you can use the list of tools provided to you.\\n'\n",
      "             'Your goal is to provide the user with the best possible answer, '\n",
      "             'including key information about the sources and tools used.\\n'\n",
      "             '\\n'\n",
      "             'Note, when using a tool, you provide the tool name and the '\n",
      "             'arguments to use in JSON format. \\n'\n",
      "             'For each call, you MUST ONLY use one tool AND the response '\n",
      "             'format must ALWAYS be in the pattern:\\n'\n",
      "             '```json\\n'\n",
      "             '{\"name\":\"<tool_name>\", \"parameters\": '\n",
      "             '{\"<tool_input_key>\":<tool_input_value>}}\\n'\n",
      "             '```\\n'\n",
      "             'Remember, do NOT use any tool with the same query more than '\n",
      "             'once.\\n'\n",
      "             \"Remember, if the user doesn't ask a specific question, you MUST \"\n",
      "             'use the `final_answer` tool directly.\\n'\n",
      "             '\\n'\n",
      "             'Every time the user asks a question, you take note in the '\n",
      "             'memory.\\n'\n",
      "             \"Every time you find some information related to the user's \"\n",
      "             'question, you take note in the memory.\\n'\n",
      "             '\\n'\n",
      "             'You should aim to collect information from a diverse range of '\n",
      "             'sources before providing the answer to the user. \\n'\n",
      "             'Once you have collected plenty of information to answer the '\n",
      "             \"user's question use the `final_answer` tool.\\n\"\n",
      "             '\\n'\n",
      "             'You can use the following tools:\\n'\n",
      "             '1. `tool_browser`: Search on DuckDuckGo browser\\n'\n",
      "             '2. `final_answer`: Returns a natural language response to the '\n",
      "             'user. \\n'\n",
      "             '    You should provide as much context as possible and specify '\n",
      "             'the source of the information.',\n",
      "  'role': 'system'},\n",
      " {'content': 'hi there, how are you?', 'role': 'user'},\n",
      " {'content': \"I'm good, thanks!\", 'role': 'assistant'},\n",
      " {'content': 'I have a question', 'role': 'user'},\n",
      " {'content': 'tell me', 'role': 'assistant'},\n",
      " {'content': 'who died on September 9, 2024?', 'role': 'user'},\n",
      " {'content': '{\"name\": \"tool_browser\", \"parameters\": {\"q\": \"September 9 2024 '\n",
      "             'death\"}}',\n",
      "  'role': 'assistant'},\n",
      " {'content': 'Actor James Earl Jones, known for his booming voice and many '\n",
      "             'memorable performances, died Monday morning, according to his '\n",
      "             'agent Barry McPherson. ... Mon September 9, 2024 Link Copied! '\n",
      "             'Alberto Fujimori (1938-2024) Sep 11 President of Peru '\n",
      "             '(1990-2000), dies of cancer at 86 [1] Sep 11 Chad McQueen, '\n",
      "             'American actor (Nightforce; The Karate Kid), dies at 63. Sep 14 '\n",
      "             'Otis Davis, American athlete (Olympic gold 400m WR 44.9, 4x400m '\n",
      "             'relay WR 3:02.2 1960), dies at 92. Sep 15 Gheorghe Mulțescu, '\n",
      "             'Romanian soccer midfielder (16 caps; Jiul ... Read on to '\n",
      "             'remember the life and work of the celebrities who have died in '\n",
      "             '2024, including Beverly Hills, 90210 star Shannen Doherty, ... '\n",
      "             'died on Monday Sept. 9 at 93. The actor, ... Died September 9 '\n",
      "             '2024. News Obituaries James Earl Jones (1931-2024), the voice of '\n",
      "             'Darth Vader and Mufasa. by Linnea Crowther September 9, 2024. '\n",
      "             'Here are some notable people who have died in 2024. ... James '\n",
      "             'Earl Jones, an award-winning actor whose career spanned seven '\n",
      "             'decades, died Monday, September 9, at the age of 93, according '\n",
      "             'to his ...',\n",
      "  'role': 'user'},\n",
      " {'content': '\\n'\n",
      "             '                This is just a reminder that my original query '\n",
      "             'was `who died on September 9, 2024?`.\\n'\n",
      "             '                Only answer to the original query, and nothing '\n",
      "             'else, but use the information I gave you. \\n'\n",
      "             '                Provide as much information as possible when you '\n",
      "             'use the `final_answer` tool.\\n'\n",
      "             '                ',\n",
      "  'role': 'user'}]\n",
      "--- conditional edges ---\n",
      "--- node_tool ---\n",
      "final_answer(input={'text': 'James Earl Jones, a legendary actor known for his booming voice and iconic roles in films like Star Wars and The Lion King, passed away on September 9, 2024, at the age of 93. He was also known for his work in stage productions and television shows. According to various sources, including news articles and obituaries, James Earl Jones had a long and illustrious career spanning over seven decades.', 'source': 'Multiple news sources, including CNN, Fox News, and People Magazine'})\n",
      "----\n"
     ]
    },
    {
     "data": {
      "text/plain": [
       "'James Earl Jones, a legendary actor known for his booming voice and iconic roles in films like Star Wars and The Lion King, passed away on September 9, 2024, at the age of 93. He was also known for his work in stage productions and television shows. According to various sources, including news articles and obituaries, James Earl Jones had a long and illustrious career spanning over seven decades.'"
      ]
     },
     "execution_count": 85,
     "metadata": {},
     "output_type": "execute_result"
    }
   ],
   "source": [
    "out = g.invoke(input=state)\n",
    "agent_out = out['output'].tool_output\n",
    "\n",
    "print(\"----\")\n",
    "agent_out"
   ]
  },
  {
   "cell_type": "code",
   "execution_count": 86,
   "id": "8dd7ff20-c631-4848-ab01-ab316b7fe555",
   "metadata": {},
   "outputs": [
    {
     "name": "stdout",
     "output_type": "stream",
     "text": [
      "--- node_agent ---\n",
      "[{'content': '\\n'\n",
      "             'You know everything, you must answer every question from the '\n",
      "             'user, you can use the list of tools provided to you.\\n'\n",
      "             'Your goal is to provide the user with the best possible answer, '\n",
      "             'including key information about the sources and tools used.\\n'\n",
      "             '\\n'\n",
      "             'Note, when using a tool, you provide the tool name and the '\n",
      "             'arguments to use in JSON format. \\n'\n",
      "             'For each call, you MUST ONLY use one tool AND the response '\n",
      "             'format must ALWAYS be in the pattern:\\n'\n",
      "             '```json\\n'\n",
      "             '{\"name\":\"<tool_name>\", \"parameters\": '\n",
      "             '{\"<tool_input_key>\":<tool_input_value>}}\\n'\n",
      "             '```\\n'\n",
      "             'Remember, do NOT use any tool with the same query more than '\n",
      "             'once.\\n'\n",
      "             \"Remember, if the user doesn't ask a specific question, you MUST \"\n",
      "             'use the `final_answer` tool directly.\\n'\n",
      "             '\\n'\n",
      "             'Every time the user asks a question, you take note in the '\n",
      "             'memory.\\n'\n",
      "             \"Every time you find some information related to the user's \"\n",
      "             'question, you take note in the memory.\\n'\n",
      "             '\\n'\n",
      "             'You should aim to collect information from a diverse range of '\n",
      "             'sources before providing the answer to the user. \\n'\n",
      "             'Once you have collected plenty of information to answer the '\n",
      "             \"user's question use the `final_answer` tool.\\n\"\n",
      "             '\\n'\n",
      "             'You can use the following tools:\\n'\n",
      "             '1. `tool_browser`: Search on DuckDuckGo browser\\n'\n",
      "             '2. `final_answer`: Returns a natural language response to the '\n",
      "             'user. \\n'\n",
      "             '    You should provide as much context as possible and specify '\n",
      "             'the source of the information.',\n",
      "  'role': 'system'},\n",
      " {'content': 'hi there, how are you?', 'role': 'user'},\n",
      " {'content': \"I'm good, thanks!\", 'role': 'assistant'},\n",
      " {'content': 'I have a question', 'role': 'user'},\n",
      " {'content': 'tell me', 'role': 'assistant'},\n",
      " {'content': 'who died on September 9, 2024?', 'role': 'user'}]\n",
      "--- conditional edges ---\n",
      "{'Agent': {'lst_res': [AgentRes(tool_name='tool_browser', tool_input={'q': 'September 9 2024 death'}, tool_output=None)]}}\n",
      "----\n",
      "--- node_tool ---\n",
      "tool_browser(input={'q': 'September 9 2024 death'})\n",
      "{'tool_browser': {'lst_res': [AgentRes(tool_name='tool_browser', tool_input={'q': 'September 9 2024 death'}, tool_output='Actor James Earl Jones, known for his booming voice and many memorable performances, died Monday morning, according to his agent Barry McPherson. ... Mon September 9, 2024 Link Copied! Alberto Fujimori (1938-2024) Sep 11 President of Peru (1990-2000), dies of cancer at 86 [1] Sep 11 Chad McQueen, American actor (Nightforce; The Karate Kid), dies at 63. Sep 14 Otis Davis, American athlete (Olympic gold 400m WR 44.9, 4x400m relay WR 3:02.2 1960), dies at 92. Sep 15 Gheorghe Mulțescu, Romanian soccer midfielder (16 caps; Jiul ... Mitchell Wiggins, shooting guard with teams like the Houston Rockets and Chicago Bulls and father of NBA star Andrew Wiggins, died September 9, 2024 at the age of 64. David Graham in 2016. Charley Gallay/Getty. David Graham, the British actor known for iconic voice roles in Doctor Who and Peppa Pig, died Sept. 20 at age 99.Born in London in 1925, Graham worked ... Died September 9 2024. News Obituaries James Earl Jones (1931-2024), the voice of Darth Vader and Mufasa. by Linnea Crowther September 9, 2024.')]}}\n",
      "----\n",
      "--- node_agent ---\n",
      "[{'content': '\\n'\n",
      "             'You know everything, you must answer every question from the '\n",
      "             'user, you can use the list of tools provided to you.\\n'\n",
      "             'Your goal is to provide the user with the best possible answer, '\n",
      "             'including key information about the sources and tools used.\\n'\n",
      "             '\\n'\n",
      "             'Note, when using a tool, you provide the tool name and the '\n",
      "             'arguments to use in JSON format. \\n'\n",
      "             'For each call, you MUST ONLY use one tool AND the response '\n",
      "             'format must ALWAYS be in the pattern:\\n'\n",
      "             '```json\\n'\n",
      "             '{\"name\":\"<tool_name>\", \"parameters\": '\n",
      "             '{\"<tool_input_key>\":<tool_input_value>}}\\n'\n",
      "             '```\\n'\n",
      "             'Remember, do NOT use any tool with the same query more than '\n",
      "             'once.\\n'\n",
      "             \"Remember, if the user doesn't ask a specific question, you MUST \"\n",
      "             'use the `final_answer` tool directly.\\n'\n",
      "             '\\n'\n",
      "             'Every time the user asks a question, you take note in the '\n",
      "             'memory.\\n'\n",
      "             \"Every time you find some information related to the user's \"\n",
      "             'question, you take note in the memory.\\n'\n",
      "             '\\n'\n",
      "             'You should aim to collect information from a diverse range of '\n",
      "             'sources before providing the answer to the user. \\n'\n",
      "             'Once you have collected plenty of information to answer the '\n",
      "             \"user's question use the `final_answer` tool.\\n\"\n",
      "             '\\n'\n",
      "             'You can use the following tools:\\n'\n",
      "             '1. `tool_browser`: Search on DuckDuckGo browser\\n'\n",
      "             '2. `final_answer`: Returns a natural language response to the '\n",
      "             'user. \\n'\n",
      "             '    You should provide as much context as possible and specify '\n",
      "             'the source of the information.',\n",
      "  'role': 'system'},\n",
      " {'content': 'hi there, how are you?', 'role': 'user'},\n",
      " {'content': \"I'm good, thanks!\", 'role': 'assistant'},\n",
      " {'content': 'I have a question', 'role': 'user'},\n",
      " {'content': 'tell me', 'role': 'assistant'},\n",
      " {'content': 'who died on September 9, 2024?', 'role': 'user'},\n",
      " {'content': '{\"name\": \"tool_browser\", \"parameters\": {\"q\": \"September 9 2024 '\n",
      "             'death\"}}',\n",
      "  'role': 'assistant'},\n",
      " {'content': 'Actor James Earl Jones, known for his booming voice and many '\n",
      "             'memorable performances, died Monday morning, according to his '\n",
      "             'agent Barry McPherson. ... Mon September 9, 2024 Link Copied! '\n",
      "             'Alberto Fujimori (1938-2024) Sep 11 President of Peru '\n",
      "             '(1990-2000), dies of cancer at 86 [1] Sep 11 Chad McQueen, '\n",
      "             'American actor (Nightforce; The Karate Kid), dies at 63. Sep 14 '\n",
      "             'Otis Davis, American athlete (Olympic gold 400m WR 44.9, 4x400m '\n",
      "             'relay WR 3:02.2 1960), dies at 92. Sep 15 Gheorghe Mulțescu, '\n",
      "             'Romanian soccer midfielder (16 caps; Jiul ... Mitchell Wiggins, '\n",
      "             'shooting guard with teams like the Houston Rockets and Chicago '\n",
      "             'Bulls and father of NBA star Andrew Wiggins, died September 9, '\n",
      "             '2024 at the age of 64. David Graham in 2016. Charley '\n",
      "             'Gallay/Getty. David Graham, the British actor known for iconic '\n",
      "             'voice roles in Doctor Who and Peppa Pig, died Sept. 20 at age '\n",
      "             '99.Born in London in 1925, Graham worked ... Died September 9 '\n",
      "             '2024. News Obituaries James Earl Jones (1931-2024), the voice of '\n",
      "             'Darth Vader and Mufasa. by Linnea Crowther September 9, 2024.',\n",
      "  'role': 'user'},\n",
      " {'content': '\\n'\n",
      "             '                This is just a reminder that my original query '\n",
      "             'was `who died on September 9, 2024?`.\\n'\n",
      "             '                Only answer to the original query, and nothing '\n",
      "             'else, but use the information I gave you. \\n'\n",
      "             '                Provide as much information as possible when you '\n",
      "             'use the `final_answer` tool.\\n'\n",
      "             '                ',\n",
      "  'role': 'user'}]\n",
      "--- conditional edges ---\n",
      "{'Agent': {'lst_res': [AgentRes(tool_name='tool_browser', tool_input={'q': 'September 9 2024 death'}, tool_output=None)]}}\n",
      "----\n",
      "--- node_tool ---\n",
      "tool_browser(input={'q': 'September 9 2024 death'})\n",
      "{'tool_browser': {'lst_res': [AgentRes(tool_name='tool_browser', tool_input={'q': 'September 9 2024 death'}, tool_output=\"Alberto Fujimori (1938-2024) Sep 11 President of Peru (1990-2000), dies of cancer at 86 [1] Sep 11 Chad McQueen, American actor (Nightforce; The Karate Kid), dies at 63. Sep 14 Otis Davis, American athlete (Olympic gold 400m WR 44.9, 4x400m relay WR 3:02.2 1960), dies at 92. Sep 15 Gheorghe Mulțescu, Romanian soccer midfielder (16 caps; Jiul ... Mitchell Wiggins, shooting guard with teams like the Houston Rockets and Chicago Bulls and father of NBA star Andrew Wiggins, died September 9, 2024 at the age of 64. David Graham in 2016. Charley Gallay/Getty. David Graham, the British actor known for iconic voice roles in Doctor Who and Peppa Pig, died Sept. 20 at age 99.Born in London in 1925, Graham worked ... Mark Hamill mourns 'dad' James Earl Jones after 'Star Wars' star's death at 93 September 9, 2024 | 5:15pm. ... September 9, 2024 | 4:13pm. Tyshaun Watson, the man arrested for beating a New York ... 1926 William S. Scarborough, American linguist and author (Birds of Aristophanes), dies at 74. 1931 Lujo Brentano, German economist and social reformer, dies at 86. 1934 Roger Fry, English artist and art critic, dies at 67. 1941 Gustav Ehrismann, German author and expert on the German language, dies at 85.\")]}}\n",
      "----\n",
      "--- node_agent ---\n",
      "[{'content': '\\n'\n",
      "             'You know everything, you must answer every question from the '\n",
      "             'user, you can use the list of tools provided to you.\\n'\n",
      "             'Your goal is to provide the user with the best possible answer, '\n",
      "             'including key information about the sources and tools used.\\n'\n",
      "             '\\n'\n",
      "             'Note, when using a tool, you provide the tool name and the '\n",
      "             'arguments to use in JSON format. \\n'\n",
      "             'For each call, you MUST ONLY use one tool AND the response '\n",
      "             'format must ALWAYS be in the pattern:\\n'\n",
      "             '```json\\n'\n",
      "             '{\"name\":\"<tool_name>\", \"parameters\": '\n",
      "             '{\"<tool_input_key>\":<tool_input_value>}}\\n'\n",
      "             '```\\n'\n",
      "             'Remember, do NOT use any tool with the same query more than '\n",
      "             'once.\\n'\n",
      "             \"Remember, if the user doesn't ask a specific question, you MUST \"\n",
      "             'use the `final_answer` tool directly.\\n'\n",
      "             '\\n'\n",
      "             'Every time the user asks a question, you take note in the '\n",
      "             'memory.\\n'\n",
      "             \"Every time you find some information related to the user's \"\n",
      "             'question, you take note in the memory.\\n'\n",
      "             '\\n'\n",
      "             'You should aim to collect information from a diverse range of '\n",
      "             'sources before providing the answer to the user. \\n'\n",
      "             'Once you have collected plenty of information to answer the '\n",
      "             \"user's question use the `final_answer` tool.\\n\"\n",
      "             '\\n'\n",
      "             'You can use the following tools:\\n'\n",
      "             '1. `tool_browser`: Search on DuckDuckGo browser\\n'\n",
      "             '2. `final_answer`: Returns a natural language response to the '\n",
      "             'user. \\n'\n",
      "             '    You should provide as much context as possible and specify '\n",
      "             'the source of the information.',\n",
      "  'role': 'system'},\n",
      " {'content': 'hi there, how are you?', 'role': 'user'},\n",
      " {'content': \"I'm good, thanks!\", 'role': 'assistant'},\n",
      " {'content': 'I have a question', 'role': 'user'},\n",
      " {'content': 'tell me', 'role': 'assistant'},\n",
      " {'content': 'who died on September 9, 2024?', 'role': 'user'},\n",
      " {'content': '{\"name\": \"tool_browser\", \"parameters\": {\"q\": \"September 9 2024 '\n",
      "             'death\"}}',\n",
      "  'role': 'assistant'},\n",
      " {'content': 'Alberto Fujimori (1938-2024) Sep 11 President of Peru '\n",
      "             '(1990-2000), dies of cancer at 86 [1] Sep 11 Chad McQueen, '\n",
      "             'American actor (Nightforce; The Karate Kid), dies at 63. Sep 14 '\n",
      "             'Otis Davis, American athlete (Olympic gold 400m WR 44.9, 4x400m '\n",
      "             'relay WR 3:02.2 1960), dies at 92. Sep 15 Gheorghe Mulțescu, '\n",
      "             'Romanian soccer midfielder (16 caps; Jiul ... Mitchell Wiggins, '\n",
      "             'shooting guard with teams like the Houston Rockets and Chicago '\n",
      "             'Bulls and father of NBA star Andrew Wiggins, died September 9, '\n",
      "             '2024 at the age of 64. David Graham in 2016. Charley '\n",
      "             'Gallay/Getty. David Graham, the British actor known for iconic '\n",
      "             'voice roles in Doctor Who and Peppa Pig, died Sept. 20 at age '\n",
      "             '99.Born in London in 1925, Graham worked ... Mark Hamill mourns '\n",
      "             \"'dad' James Earl Jones after 'Star Wars' star's death at 93 \"\n",
      "             'September 9, 2024 | 5:15pm. ... September 9, 2024 | 4:13pm. '\n",
      "             'Tyshaun Watson, the man arrested for beating a New York ... 1926 '\n",
      "             'William S. Scarborough, American linguist and author (Birds of '\n",
      "             'Aristophanes), dies at 74. 1931 Lujo Brentano, German economist '\n",
      "             'and social reformer, dies at 86. 1934 Roger Fry, English artist '\n",
      "             'and art critic, dies at 67. 1941 Gustav Ehrismann, German author '\n",
      "             'and expert on the German language, dies at 85.',\n",
      "  'role': 'user'},\n",
      " {'content': '\\n'\n",
      "             '                This is just a reminder that my original query '\n",
      "             'was `who died on September 9, 2024?`.\\n'\n",
      "             '                Only answer to the original query, and nothing '\n",
      "             'else, but use the information I gave you. \\n'\n",
      "             '                Provide as much information as possible when you '\n",
      "             'use the `final_answer` tool.\\n'\n",
      "             '                ',\n",
      "  'role': 'user'}]\n",
      "--- conditional edges ---\n",
      "{'Agent': {'lst_res': [AgentRes(tool_name='final_answer', tool_input={'text': 'Mitchell Wiggins, a shooting guard with teams like the Houston Rockets and Chicago Bulls and father of NBA star Andrew Wiggins, died on September 9, 2024, at the age of 64. I found this information on a news article.', 'source': 'news article'}, tool_output=None)]}}\n",
      "----\n",
      "--- node_tool ---\n",
      "final_answer(input={'text': 'Mitchell Wiggins, a shooting guard with teams like the Houston Rockets and Chicago Bulls and father of NBA star Andrew Wiggins, died on September 9, 2024, at the age of 64. I found this information on a news article.', 'source': 'news article'})\n",
      "{'final_answer': {'output': AgentRes(tool_name='final_answer', tool_input={'text': 'Mitchell Wiggins, a shooting guard with teams like the Houston Rockets and Chicago Bulls and father of NBA star Andrew Wiggins, died on September 9, 2024, at the age of 64. I found this information on a news article.', 'source': 'news article'}, tool_output='Mitchell Wiggins, a shooting guard with teams like the Houston Rockets and Chicago Bulls and father of NBA star Andrew Wiggins, died on September 9, 2024, at the age of 64. I found this information on a news article.')}}\n",
      "----\n"
     ]
    }
   ],
   "source": [
    "steps = g.stream(input=state) \n",
    "for step in steps:\n",
    "    print(step)\n",
    "    print(\"----\")"
   ]
  },
  {
   "cell_type": "markdown",
   "id": "b21cb36f-0fb8-4c2c-adf4-d1818cfd8c36",
   "metadata": {},
   "source": [
    "### 5 - Multiple Agents"
   ]
  },
  {
   "cell_type": "markdown",
   "id": "4bf46ba7-e343-4639-89cc-adab77ffb0d0",
   "metadata": {},
   "source": [
    "##### Second Agent"
   ]
  },
  {
   "cell_type": "code",
   "execution_count": 100,
   "id": "e2644f03-f1f6-459d-bc39-6b83399afb3d",
   "metadata": {},
   "outputs": [
    {
     "name": "stdout",
     "output_type": "stream",
     "text": [
      "Page: James Earl Jones\n",
      "Summary: James Earl Jones (January 17, 1931 – September 9, 2024) was an American actor. A pioneer for black actors in the entertainment industry, he is known for his extensive and acclaimed roles on stage and screen. Jones is one of the few performers to achieve the EGOT (Emmy, Grammy, Oscar, and Tony). He was inducted into the American Theater Hall of Fame in 1985, and was honored with the National Medal of Arts in 1992, the Kennedy Center Honor in 2002, the Screen Actors Guild Life Achievement Award in 2009, and the Academy Honorary Award in 2011.\n",
      "Born in Arkabutla, Mississippi, Jones had a stutter since childhood. He said that poetry and acting helped him overcome the challenges of his disability. A pre-med major in college, he served as an officer in the U.S. Army during the Korean War before pursuing a career in acting. His deep voice was praised as a \"stirring basso profondo that has lent gravel and gravitas\" to his projects. Jones made his Broadway debut in the play Sunrise at Campobello (1957). He then gained prominence for acting in numerous productions with Shakespeare in the Park including Othello, Hamlet, Coriolanus, and King Lear. He worked steadily in theater, winning the Tony Award for Best Actor in a Play for his role as a boxer in The Great White Hope (1968), which he reprised in the 1970 film adaptation, earning him Academy Award and Golden Globe nominations.\n",
      "Jones won his second Tony Award for Best Actor in a Play for his role as a working class father in August Wilson's Fences (1987). He was a Tony Award nominee for his roles as the husband in Ernest Thompson's On Golden Pond (2005) about an aging couple, and as a former president in the Gore Vidal play The Best Man (2012). His other Broadway performances included Cat on a Hot Tin Roof (2008), Driving Miss Daisy (2010–2011), You Can't Take It with You (2014), and The Gin Game (2015–2016). He received a Special Tony Award for Lifetime Achievement in 2017.\n",
      "Jones made his film debut in Stanley Kubrick's Dr. Strangelove (1964). He received a Golden Globe Award nomination for Claudine (1974). He gained international fame for his voice role as Darth Vader in the Star Wars franchise, beginning with the original 1977 film. Jones's other notable films include The Man (1972), Conan the Barbarian (1982), Matewan (1987), Coming to America (1988), Field of Dreams (1989), The Hunt for Red October (1990), Sneakers (1992), The Sandlot (1993), The Lion King (1994), and Cry, the Beloved Country (1995). On television, he received eight Primetime Emmy Awards nominations winning twice for his roles in thriller film Heat Wave (1990) and the crime series Gabriel's Fire (1991). He also acted in Roots (1977), Jesus of Nazareth (1977), Picket Fences (1994), Homicide: Life on the Street (1997), and Everwood (2004).\n",
      "\n",
      "Page: James Earl Jones on screen and stage\n",
      "Summary: American actor James Earl Jones had an extensive career in various film, television, and theater. He started out in film by appearing in the 1964 political satire film Dr. Strangelove as Lt. Lothar Zogg. He then went on to star in the 1970 film The Great White Hope as Jack Jefferson, a role he first played in the Broadway production of the same name. The film role earned him two Golden Globe nominations, one for Best Actor and winning one for New Star of the Year. He also received an Academy Award nomination for Best Actor. His other work in the 1970s included playing the title character in Malcolm X (1972), Johnny Williams in The River Niger (1976), Nick Debrett in Swashbuckler (1976), Malcolm X again in The Greatest (1977), and The Bushido Blade with Richard Boone (1979).\n",
      "Jones had notably voiced the antagonist Darth Vader in the Star Wars franchise, first in the original trilogy films—Star Wars (1977), The Empire Strikes Back (1980), Return of the Jedi (1983) then again in the third installment of the prequel trilogy, Revenge of the Sith, first installment of the Star Wars anthology series—Rogue\n"
     ]
    }
   ],
   "source": [
    "from langchain_community.tools import WikipediaQueryRun\n",
    "from langchain_community.utilities import WikipediaAPIWrapper\n",
    "\n",
    "@tool(\"tool_wikipedia\")\n",
    "def tool_wikipedia(q:str) -> str:\n",
    "    \"\"\"Search on Wikipedia\"\"\"\n",
    "    return WikipediaQueryRun(api_wrapper=WikipediaAPIWrapper()).run(q)\n",
    "\n",
    "print( tool_wikipedia(agent_out) )"
   ]
  },
  {
   "cell_type": "code",
   "execution_count": 101,
   "id": "403ce9ce-61fd-4107-9d20-c5ce7c2a5465",
   "metadata": {},
   "outputs": [],
   "source": [
    "dic_tools_2 = {\"tool_wikipedia\":tool_wikipedia, \n",
    "               \"final_answer\":final_answer}"
   ]
  },
  {
   "cell_type": "code",
   "execution_count": 102,
   "id": "5a7d02e3-0643-4f52-904b-ab0d7fdb7bfe",
   "metadata": {},
   "outputs": [],
   "source": [
    "def node_agent_2(state):\n",
    "    print(\"--- node_agent 2 ---\")\n",
    "    agent_res = run_agent(prompt=prompt, dic_tools=dic_tools_2,\n",
    "                          user_q=state[\"user_q\"], \n",
    "                          chat_history=state[\"chat_history\"], \n",
    "                          lst_res=state[\"lst_res\"])\n",
    "    return {\"lst_res\":[agent_res]} #<--must return a the list of agent_res"
   ]
  },
  {
   "cell_type": "markdown",
   "id": "9db696b2-2531-4c84-8f44-821fdf034d4c",
   "metadata": {},
   "source": [
    "##### Human in the Loop"
   ]
  },
  {
   "cell_type": "code",
   "execution_count": 103,
   "id": "02105019-7ed6-42dd-be6d-0c6c5f47d6ac",
   "metadata": {},
   "outputs": [
    {
     "name": "stdout",
     "output_type": "stream",
     "text": [
      "\n",
      "\n",
      "what's my name?\n"
     ]
    },
    {
     "name": "stdin",
     "output_type": "stream",
     "text": [
      " a\n"
     ]
    },
    {
     "data": {
      "text/plain": [
       "'a'"
      ]
     },
     "execution_count": 103,
     "metadata": {},
     "output_type": "execute_result"
    }
   ],
   "source": [
    "from langchain.agents import load_tools\n",
    "\n",
    "tool_human = load_tools([\"human\"])[0]\n",
    "tool_human.run(\"what's my name?\")"
   ]
  },
  {
   "cell_type": "code",
   "execution_count": 104,
   "id": "65ed8e7f-ac50-406c-9f45-fd8e806cdcfe",
   "metadata": {},
   "outputs": [],
   "source": [
    "def ask_human(state):\n",
    "    tool_human.run(\"Should I search more?\")\n",
    "    pass\n",
    "\n",
    "def should_continue(state):\n",
    "    last_res = state[\"lst_res\"][-1]\n",
    "    if last_res.output == \"yes\":\n",
    "        return \"Human\"\n",
    "    else:\n",
    "        return \"final_answer\""
   ]
  },
  {
   "cell_type": "markdown",
   "id": "741831c2-a4b9-403b-98f0-dc95b29d7656",
   "metadata": {},
   "source": [
    "##### Second Graph"
   ]
  },
  {
   "cell_type": "code",
   "execution_count": 105,
   "id": "4fe7b498-4908-44dc-b765-7dbcd52b9eeb",
   "metadata": {},
   "outputs": [
    {
     "data": {
      "image/jpeg": "[encoded data removed]",
      "text/plain": [
       "<IPython.core.display.Image object>"
      ]
     },
     "metadata": {},
     "output_type": "display_data"
    }
   ],
   "source": [
    "## start the graph\n",
    "workflow = StateGraph(State)\n",
    "\n",
    "########################## Agent 1 ##########################\n",
    "## add Agent node\n",
    "workflow.add_node(node=\"Agent1\", action=node_agent) \n",
    "workflow.set_entry_point(key=\"Agent1\") #<--user query\n",
    "\n",
    "## add Tools nodes\n",
    "workflow.add_node(node=\"tool_browser\", action=node_tool)\n",
    "workflow.add_node(node=\"final_answer\", action=node_tool)\n",
    "\n",
    "## conditional_edges from Agent\n",
    "workflow.add_conditional_edges(source=\"Agent1\", path=conditional_edges)\n",
    "\n",
    "## normal_edges to Agent\n",
    "workflow.add_edge(start_key=\"tool_browser\", end_key=\"Agent1\")\n",
    "\n",
    "########################## Human ##########################\n",
    "## add Human node\n",
    "workflow.add_node(node=\"Human\", action=ask_human)\n",
    "\n",
    "## normal_edges to Human\n",
    "workflow.add_edge(start_key=\"final_answer\", end_key=\"Human\")\n",
    "\n",
    "## conditional_edges from Human\n",
    "workflow.add_conditional_edges(source=\"Human\", path=should_continue)\n",
    "\n",
    "########################## Agent 2 ##########################\n",
    "## add Agent node\n",
    "workflow.add_node(node=\"Agent2\", action=node_agent_2) \n",
    "\n",
    "## add Tools nodes\n",
    "workflow.add_node(node=\"tool_wikipedia\", action=node_tool)\n",
    "\n",
    "## conditional_edges from Agent\n",
    "workflow.add_conditional_edges(source=\"Agent2\", path=conditional_edges)\n",
    "\n",
    "## normal_edges to Agent\n",
    "workflow.add_edge(start_key=\"tool_wikipedia\", end_key=\"Agent2\")\n",
    "\n",
    "########################## End ##########################\n",
    "## end the graph\n",
    "workflow.add_edge(start_key=\"final_answer\", end_key=END)\n",
    "g2 = workflow.compile(interrupt_before=[\"Human\"])\n",
    "\n",
    "## plot\n",
    "display(Image(\n",
    "    g2.get_graph().draw_mermaid_png(draw_method=MermaidDrawMethod.API)\n",
    "))"
   ]
  },
  {
   "cell_type": "code",
   "execution_count": 106,
   "id": "fc72cf35-a9ff-4f09-801f-3db39c00536e",
   "metadata": {},
   "outputs": [
    {
     "name": "stdout",
     "output_type": "stream",
     "text": [
      "--- node_agent ---\n",
      "[{'content': '\\n'\n",
      "             'You know everything, you must answer every question from the '\n",
      "             'user, you can use the list of tools provided to you.\\n'\n",
      "             'Your goal is to provide the user with the best possible answer, '\n",
      "             'including key information about the sources and tools used.\\n'\n",
      "             '\\n'\n",
      "             'Note, when using a tool, you provide the tool name and the '\n",
      "             'arguments to use in JSON format. \\n'\n",
      "             'For each call, you MUST ONLY use one tool AND the response '\n",
      "             'format must ALWAYS be in the pattern:\\n'\n",
      "             '```json\\n'\n",
      "             '{\"name\":\"<tool_name>\", \"parameters\": '\n",
      "             '{\"<tool_input_key>\":<tool_input_value>}}\\n'\n",
      "             '```\\n'\n",
      "             'Remember, do NOT use any tool with the same query more than '\n",
      "             'once.\\n'\n",
      "             \"Remember, if the user doesn't ask a specific question, you MUST \"\n",
      "             'use the `final_answer` tool directly.\\n'\n",
      "             '\\n'\n",
      "             'Every time the user asks a question, you take note in the '\n",
      "             'memory.\\n'\n",
      "             \"Every time you find some information related to the user's \"\n",
      "             'question, you take note in the memory.\\n'\n",
      "             '\\n'\n",
      "             'You should aim to collect information from a diverse range of '\n",
      "             'sources before providing the answer to the user. \\n'\n",
      "             'Once you have collected plenty of information to answer the '\n",
      "             \"user's question use the `final_answer` tool.\\n\"\n",
      "             '\\n'\n",
      "             'You can use the following tools:\\n'\n",
      "             '1. `tool_browser`: Search on DuckDuckGo browser\\n'\n",
      "             '2. `final_answer`: Returns a natural language response to the '\n",
      "             'user. \\n'\n",
      "             '    You should provide as much context as possible and specify '\n",
      "             'the source of the information.',\n",
      "  'role': 'system'},\n",
      " {'content': 'hi there, how are you?', 'role': 'user'},\n",
      " {'content': \"I'm good, thanks!\", 'role': 'assistant'},\n",
      " {'content': 'I have a question', 'role': 'user'},\n",
      " {'content': 'tell me', 'role': 'assistant'},\n",
      " {'content': 'who died on September 9, 2024?', 'role': 'user'}]\n",
      "--- conditional edges ---\n",
      "--- node_tool ---\n",
      "tool_browser(input={'q': 'September 9 2024 deaths'})\n",
      "--- node_agent ---\n",
      "[{'content': '\\n'\n",
      "             'You know everything, you must answer every question from the '\n",
      "             'user, you can use the list of tools provided to you.\\n'\n",
      "             'Your goal is to provide the user with the best possible answer, '\n",
      "             'including key information about the sources and tools used.\\n'\n",
      "             '\\n'\n",
      "             'Note, when using a tool, you provide the tool name and the '\n",
      "             'arguments to use in JSON format. \\n'\n",
      "             'For each call, you MUST ONLY use one tool AND the response '\n",
      "             'format must ALWAYS be in the pattern:\\n'\n",
      "             '```json\\n'\n",
      "             '{\"name\":\"<tool_name>\", \"parameters\": '\n",
      "             '{\"<tool_input_key>\":<tool_input_value>}}\\n'\n",
      "             '```\\n'\n",
      "             'Remember, do NOT use any tool with the same query more than '\n",
      "             'once.\\n'\n",
      "             \"Remember, if the user doesn't ask a specific question, you MUST \"\n",
      "             'use the `final_answer` tool directly.\\n'\n",
      "             '\\n'\n",
      "             'Every time the user asks a question, you take note in the '\n",
      "             'memory.\\n'\n",
      "             \"Every time you find some information related to the user's \"\n",
      "             'question, you take note in the memory.\\n'\n",
      "             '\\n'\n",
      "             'You should aim to collect information from a diverse range of '\n",
      "             'sources before providing the answer to the user. \\n'\n",
      "             'Once you have collected plenty of information to answer the '\n",
      "             \"user's question use the `final_answer` tool.\\n\"\n",
      "             '\\n'\n",
      "             'You can use the following tools:\\n'\n",
      "             '1. `tool_browser`: Search on DuckDuckGo browser\\n'\n",
      "             '2. `final_answer`: Returns a natural language response to the '\n",
      "             'user. \\n'\n",
      "             '    You should provide as much context as possible and specify '\n",
      "             'the source of the information.',\n",
      "  'role': 'system'},\n",
      " {'content': 'hi there, how are you?', 'role': 'user'},\n",
      " {'content': \"I'm good, thanks!\", 'role': 'assistant'},\n",
      " {'content': 'I have a question', 'role': 'user'},\n",
      " {'content': 'tell me', 'role': 'assistant'},\n",
      " {'content': 'who died on September 9, 2024?', 'role': 'user'},\n",
      " {'content': '{\"name\": \"tool_browser\", \"parameters\": {\"q\": \"September 9 2024 '\n",
      "             'deaths\"}}',\n",
      "  'role': 'assistant'},\n",
      " {'content': 'Famous deaths in September 2024. Learn about 26 historical '\n",
      "             'figures, notable people and celebrities who died in Sep 2024 '\n",
      "             'like James Earl Jones and Alberto Fujimori. Menu. ... James Earl '\n",
      "             'Jones (1931-2024) Sep 9 American Tony, Emmy, Grammy, and Golden '\n",
      "             'Globe winning actor (The Great White Hope; Star Wars - \"voice of '\n",
      "             'Darth Vader\"; Field Of Dreams\"), ... Died September 9 2024. News '\n",
      "             'Obituaries James Earl Jones (1931-2024), the voice of Darth '\n",
      "             'Vader and Mufasa. by Linnea Crowther September 9, 2024. Updated '\n",
      "             'on September 22, 2024 08:29PM EDT. After saying sad and shocking '\n",
      "             'goodbyes to the many stars who died in 2023, ... died at Aug. 9 '\n",
      "             'at age 74. A cause of death was not immediately released ... The '\n",
      "             'following notable deaths occurred in 2024. Names are reported '\n",
      "             'under the date of death, in alphabetical order. A typical entry '\n",
      "             'reports information in the following sequence: ... This page was '\n",
      "             'last edited on 23 September 2024, at 11:41 (UTC). Text is '\n",
      "             'available under the Creative Commons Attribution-ShareAlike '\n",
      "             'License 4.0; additional terms may ... 1926 William S. '\n",
      "             'Scarborough, American linguist and author (Birds of '\n",
      "             'Aristophanes), dies at 74. 1931 Lujo Brentano, German economist '\n",
      "             'and social reformer, dies at 86. 1934 Roger Fry, English artist '\n",
      "             'and art critic, dies at 67. 1941 Gustav Ehrismann, German author '\n",
      "             'and expert on the German language, dies at 85.',\n",
      "  'role': 'user'},\n",
      " {'content': '\\n'\n",
      "             '                This is just a reminder that my original query '\n",
      "             'was `who died on September 9, 2024?`.\\n'\n",
      "             '                Only answer to the original query, and nothing '\n",
      "             'else, but use the information I gave you. \\n'\n",
      "             '                Provide as much information as possible when you '\n",
      "             'use the `final_answer` tool.\\n'\n",
      "             '                ',\n",
      "  'role': 'user'}]\n",
      "--- conditional edges ---\n",
      "--- node_tool ---\n",
      "final_answer(input={'text': 'James Earl Jones, a 93-year-old American actor, died on September 9, 2024. He was known for his iconic voice in films such as Star Wars and The Lion King. I found this information from various news sources, including an obituary published on the web page you provided.', 'source': 'Obituary by Linnea Crowther, September 9, 2024'})\n",
      "----\n"
     ]
    },
    {
     "data": {
      "text/plain": [
       "'James Earl Jones, a 93-year-old American actor, died on September 9, 2024. He was known for his iconic voice in films such as Star Wars and The Lion King. I found this information from various news sources, including an obituary published on the web page you provided.'"
      ]
     },
     "execution_count": 106,
     "metadata": {},
     "output_type": "execute_result"
    }
   ],
   "source": [
    "out_2 = g2.invoke(input=state)\n",
    "agent_out_2 = out_2['output'].tool_output\n",
    "\n",
    "print(\"----\")\n",
    "agent_out_2"
   ]
  }
 ],
 "metadata": {
  "kernelspec": {
   "display_name": "Python 3 (ipykernel)",
   "language": "python",
   "name": "python3"
  },
  "language_info": {
   "codemirror_mode": {
    "name": "ipython",
    "version": 3
   },
   "file_extension": ".py",
   "mimetype": "text/x-python",
   "name": "python",
   "nbconvert_exporter": "python",
   "pygments_lexer": "ipython3",
   "version": "3.11.0"
  }
 },
 "nbformat": 4,
 "nbformat_minor": 5
}
