{
 "cells": [
  {
   "cell_type": "markdown",
   "id": "8214420c-1936-472c-930e-1f4c9efb3809",
   "metadata": {},
   "source": [
    "# GenAI with Python: Agents from scratch"
   ]
  },
  {
   "cell_type": "markdown",
   "id": "53219017-c57b-4ae8-8442-b89f95ff8bdc",
   "metadata": {},
   "source": [
    "###### [Article: TowardsDataScience]()"
   ]
  },
  {
   "cell_type": "markdown",
   "id": "fbd5a8e7-d0ca-4c6c-88b4-1c1e27591b84",
   "metadata": {
    "jp-MarkdownHeadingCollapsed": true
   },
   "source": [
    "### 0 - Setup"
   ]
  },
  {
   "cell_type": "code",
   "execution_count": 1,
   "id": "10f53cd6-8254-40ff-aca4-ca18a1bc7a8a",
   "metadata": {},
   "outputs": [],
   "source": [
    "#pip install langchain --> 0.2.14\n",
    "#pip install langgraph --> 0.2.19\n",
    "#pip install ollama --> 0.3.1\n",
    "#pip install duckduckgo-search --> 6.2.12\n",
    "#pip install wikipedia --> 1.4.0"
   ]
  },
  {
   "cell_type": "code",
   "execution_count": 2,
   "id": "ac37da15-9f5f-46b7-99cb-7bb4301ef088",
   "metadata": {},
   "outputs": [
    {
     "data": {
      "text/plain": [
       "{'model': 'llama3.1',\n",
       " 'created_at': '2024-09-25T12:19:23.428632Z',\n",
       " 'message': {'role': 'assistant',\n",
       "  'content': \"I can't search for information about specific individuals. Is there anything else I can help you with?\"},\n",
       " 'done_reason': 'stop',\n",
       " 'done': True,\n",
       " 'total_duration': 14687313152,\n",
       " 'load_duration': 9723544130,\n",
       " 'prompt_eval_count': 22,\n",
       " 'prompt_eval_duration': 1903214000,\n",
       " 'eval_count': 21,\n",
       " 'eval_duration': 3029963000}"
      ]
     },
     "execution_count": 2,
     "metadata": {},
     "output_type": "execute_result"
    }
   ],
   "source": [
    "import ollama\n",
    "\n",
    "llm = \"llama3.1\"\n",
    "q = '''who died on September 9, 2024?'''\n",
    "\n",
    "res = ollama.chat(model=llm, \n",
    "                  messages=[{\"role\":\"system\", \"content\":\"\"},\n",
    "                            {\"role\":\"user\", \"content\":q}])\n",
    "res"
   ]
  },
  {
   "cell_type": "markdown",
   "id": "65c648ef-bed3-4179-8dcb-d6678abc0faa",
   "metadata": {
    "jp-MarkdownHeadingCollapsed": true
   },
   "source": [
    "### 1 - Tools"
   ]
  },
  {
   "cell_type": "code",
   "execution_count": 5,
   "id": "f6aa2dbe-0aa0-4d57-964b-b8c7aac331e0",
   "metadata": {},
   "outputs": [
    {
     "name": "stdout",
     "output_type": "stream",
     "text": [
      "Alberto Fujimori (1938-2024) Sep 11 President of Peru (1990-2000), dies of cancer at 86 [1] Sep 11 Chad McQueen, American actor (Nightforce; The Karate Kid), dies at 63. Sep 14 Otis Davis, American athlete (Olympic gold 400m WR 44.9, 4x400m relay WR 3:02.2 1960), dies at 92. Sep 15 Gheorghe Mulțescu, Romanian soccer midfielder (16 caps; Jiul ... Rochester, Indiana. September 9, 2024 (79 years old) Vickey Karen Bryant. Atkins, Arkansas. September 9, 2024 (72 years old) Kathleen A. Jenkins. Yonkers, New York. September 9, 2024 (73 years old) Tommy Collins Jr. 1:16. James Earl Jones, whose acting career was every bit as rich and resonant as the iconic bass voice that gave sinister malevolence to Darth Vader in the \"Star Wars \" films, died Monday. He was ... Updated 6:03 PM PDT, September 9, 2024. NEW YORK (AP) — James Earl Jones, who overcame racial prejudice and a severe stutter to become a celebrated icon of stage and screen — eventually lending his deep, commanding voice to CNN, \"The Lion King\" and Darth Vader — has died. He was 93. September 9, 2024 1:33pm. James Earl Jones in 2015 WireImage. James Earl Jones, the revered actor who voiced Star Wars villain Darth Vader, starred in Field of Dreams and many other films and ...\n"
     ]
    }
   ],
   "source": [
    "from langchain_core.tools import tool\n",
    "from langchain_community.tools import DuckDuckGoSearchRun\n",
    "\n",
    "@tool(\"tool_browser\")\n",
    "def tool_browser(q:str) -> str:\n",
    "    \"\"\"Search on DuckDuckGo browser by passing the input `q`\"\"\"\n",
    "    return DuckDuckGoSearchRun().run(q)\n",
    "\n",
    "# test\n",
    "print( tool_browser(q) )"
   ]
  },
  {
   "cell_type": "code",
   "execution_count": 52,
   "id": "95293ae9-3422-4f48-af4c-6eb4be196416",
   "metadata": {},
   "outputs": [
    {
     "name": "stdout",
     "output_type": "stream",
     "text": [
      "yo\n"
     ]
    }
   ],
   "source": [
    "@tool(\"final_answer\")\n",
    "def final_answer(text:str) -> str:\n",
    "    \"\"\"Returns a natural language response to the user by passing the input `text`. \n",
    "    You should provide as much context as possible and specify the source of the information.\n",
    "    \"\"\"\n",
    "    return text\n",
    "\n",
    "# test\n",
    "print( final_answer(\"yo\") )"
   ]
  },
  {
   "cell_type": "code",
   "execution_count": 7,
   "id": "79657a90-ef3c-42db-a067-6829018f3f7b",
   "metadata": {},
   "outputs": [],
   "source": [
    "dic_tools = {\"tool_browser\":tool_browser, \n",
    "             \"final_answer\":final_answer}"
   ]
  },
  {
   "cell_type": "markdown",
   "id": "f182ae77-bed0-4262-b559-3f9c5a4de070",
   "metadata": {
    "jp-MarkdownHeadingCollapsed": true
   },
   "source": [
    "### 2 - Decision Making"
   ]
  },
  {
   "cell_type": "code",
   "execution_count": 8,
   "id": "952d7dad-b331-4e74-8f2d-6301d0d39f3a",
   "metadata": {},
   "outputs": [],
   "source": [
    "prompt = \"\"\"\n",
    "You know everything, you must answer every question from the user, you can use the list of tools provided to you.\n",
    "Your goal is to provide the user with the best possible answer, including key information about the sources and tools used.\n",
    "\n",
    "Note, when using a tool, you provide the tool name and the arguments to use in JSON format. \n",
    "For each call, you MUST ONLY use one tool AND the response format must ALWAYS be in the pattern:\n",
    "```json\n",
    "{\"name\":\"<tool_name>\", \"parameters\": {\"<tool_input_key>\":<tool_input_value>}}\n",
    "```\n",
    "Remember, do NOT use any tool with the same query more than once.\n",
    "Remember, if the user doesn't ask a specific question, you MUST use the `final_answer` tool directly.\n",
    "\n",
    "Every time the user asks a question, you take note in the memory.\n",
    "Every time you find some information related to the user's question, you take note in the memory.\n",
    "\n",
    "You should aim to collect information from a diverse range of sources before providing the answer to the user. \n",
    "Once you have collected plenty of information to answer the user's question use the `final_answer` tool.\n",
    "\"\"\""
   ]
  },
  {
   "cell_type": "code",
   "execution_count": 9,
   "id": "52813d8f-2579-4925-98df-55bfa5df1d53",
   "metadata": {},
   "outputs": [
    {
     "name": "stdout",
     "output_type": "stream",
     "text": [
      "You can use the following tools:\n",
      "1. `tool_browser`: Search on DuckDuckGo browser\n",
      "2. `final_answer`: Returns a natural language response to the user. \n",
      "    You should provide as much context as possible and specify the source of the information.\n"
     ]
    }
   ],
   "source": [
    "str_tools = \"\\n\".join([str(n+1)+\". `\"+str(v.name)+\"`: \"+str(v.description) for n,v in enumerate(dic_tools.values())])\n",
    "\n",
    "prompt_tools = f\"You can use the following tools:\\n{str_tools}\"\n",
    "print(prompt_tools)"
   ]
  },
  {
   "cell_type": "code",
   "execution_count": 10,
   "id": "c76fbe59-b967-458f-b8f3-a99b54bf4a0a",
   "metadata": {},
   "outputs": [
    {
     "name": "stdout",
     "output_type": "stream",
     "text": [
      "{'created_at': '2024-09-25T12:22:47.112509Z',\n",
      " 'done': True,\n",
      " 'done_reason': 'stop',\n",
      " 'eval_count': 28,\n",
      " 'eval_duration': 4395794000,\n",
      " 'load_duration': 36759906,\n",
      " 'message': {'content': '{\"name\":\"final_answer\", \"parameters\": '\n",
      "                        '{\"context\":\"Hello! This conversation just started. '\n",
      "                        'What can I help you with?\"}}',\n",
      "             'role': 'assistant'},\n",
      " 'model': 'llama3.1',\n",
      " 'prompt_eval_count': 303,\n",
      " 'prompt_eval_duration': 28568198000,\n",
      " 'total_duration': 33012113191}\n"
     ]
    }
   ],
   "source": [
    "# LLM deciding what tool to use\n",
    "from pprint import pprint\n",
    "\n",
    "llm_res = ollama.chat(\n",
    "    model=llm,\n",
    "    messages=[{\"role\":\"system\", \"content\":prompt+\"\\n\"+prompt_tools},\n",
    "              {\"role\":\"user\", \"content\":\"hello\"}\n",
    "             ], format=\"json\")\n",
    "\n",
    "pprint(llm_res)"
   ]
  },
  {
   "cell_type": "code",
   "execution_count": 11,
   "id": "9e61195b-cd68-4e22-b335-3a88477c8f6e",
   "metadata": {},
   "outputs": [
    {
     "data": {
      "text/plain": [
       "'{\"name\":\"tool_browser\", \"parameters\": {\"q\":\"died september 9 2024\"}}'"
      ]
     },
     "execution_count": 11,
     "metadata": {},
     "output_type": "execute_result"
    }
   ],
   "source": [
    "# LLM deciding what tool to use (output format = json)\n",
    "llm_res = ollama.chat(\n",
    "    model=llm,\n",
    "    messages=[{\"role\":\"system\", \"content\":prompt+\"\\n\"+prompt_tools},\n",
    "              {\"role\":\"user\", \"content\":q}\n",
    "             ], format=\"json\")\n",
    "\n",
    "llm_res[\"message\"][\"content\"]"
   ]
  },
  {
   "cell_type": "code",
   "execution_count": 12,
   "id": "b97d4e7f-4d9a-439c-a508-9c40cc44a3f3",
   "metadata": {},
   "outputs": [
    {
     "data": {
      "text/plain": [
       "'died september 9 2024'"
      ]
     },
     "execution_count": 12,
     "metadata": {},
     "output_type": "execute_result"
    }
   ],
   "source": [
    "import json\n",
    "\n",
    "tool_input = json.loads(llm_res[\"message\"][\"content\"])[\"parameters\"][\"q\"]\n",
    "tool_input"
   ]
  },
  {
   "cell_type": "code",
   "execution_count": 13,
   "id": "b37eb027-6fe8-448c-8094-570679c89fa8",
   "metadata": {},
   "outputs": [
    {
     "name": "stdout",
     "output_type": "stream",
     "text": [
      "tool output:\n",
      " Alberto Fujimori (1938-2024) Sep 11 President of Peru (1990-2000), dies of cancer at 86 [1] Sep 11 Chad McQueen, American actor (Nightforce; The Karate Kid), dies at 63. Sep 14 Otis Davis, American athlete (Olympic gold 400m WR 44.9, 4x400m relay WR 3:02.2 1960), dies at 92. Sep 15 Gheorghe Mulțescu, Romanian soccer midfielder (16 caps; Jiul ... Search in the United States of people who died on September 22, 2024 obituaries and condolences. Find an obituary, get service details, leave condolence messages or send flowers or gifts in memory of a loved one. Actor James Earl Jones, known for his booming voice and many memorable performances, died Monday morning, according to his agent Barry McPherson. ... Mon September 9, 2024 Link Copied! Died September 9 2024. News Obituaries James Earl Jones (1931-2024), the voice of Darth Vader and Mufasa. by Linnea Crowther September 9, 2024. Kathryn Crosby, the actress and widow of Bing Crosby, died Sept. 20at age 90 .Crosby died of natural causes around 9pm on Friday at her home in Hillsborough, Calif., surrounded by family. Born in ...\n",
      "\n",
      "llm output:\n",
      " According to the text, James Earl Jones and Kathryn Crosby's death dates are not correct. However, it mentions that Alberto Fujimori, Chad McQueen, Otis Davis, Gheorghe Mulțescu, and Kathryn Crosby died in different years (all before 2024).\n",
      "\n",
      "The only person mentioned who actually died on a specific date is James Earl Jones, but his death occurred on September 9, 2024, not the other individuals.\n"
     ]
    }
   ],
   "source": [
    "# LLM with context\n",
    "context = tool_browser(tool_input)\n",
    "print(\"tool output:\\n\", context)\n",
    "\n",
    "llm_output = ollama.chat(\n",
    "    model=llm,\n",
    "    messages=[{\"role\":\"system\", \"content\":\"Give the most accurate answer using the folling information:\\n\"+context},\n",
    "              {\"role\":\"user\", \"content\":q}\n",
    "             ])\n",
    "\n",
    "print(\"\\nllm output:\\n\", llm_output[\"message\"][\"content\"])"
   ]
  },
  {
   "cell_type": "markdown",
   "id": "abc0ff2b-28cf-43f2-beda-cd620c4f534a",
   "metadata": {
    "jp-MarkdownHeadingCollapsed": true
   },
   "source": [
    "### 3 - Agent"
   ]
  },
  {
   "cell_type": "markdown",
   "id": "46a2a13d-72eb-4fcb-a925-2326aed74869",
   "metadata": {},
   "source": [
    "##### Data Structure"
   ]
  },
  {
   "cell_type": "code",
   "execution_count": 14,
   "id": "fe47f093-1152-46a9-98c1-6bf60a725603",
   "metadata": {},
   "outputs": [
    {
     "name": "stdout",
     "output_type": "stream",
     "text": [
      "from\n",
      " {\"name\":\"tool_browser\", \"parameters\": {\"q\":\"died september 9 2024\"}} \n",
      "to\n"
     ]
    },
    {
     "data": {
      "text/plain": [
       "AgentRes(tool_name='tool_browser', tool_input={'q': 'died september 9 2024'}, tool_output=None)"
      ]
     },
     "execution_count": 14,
     "metadata": {},
     "output_type": "execute_result"
    }
   ],
   "source": [
    "from pydantic import BaseModel #this is the standard class\n",
    "\n",
    "# Taking for example the last LLM response, I want this structure:\n",
    "# {tool_name: 'tool_browser', \n",
    "#  tool_input: {'q':'September 9 2024 deaths'}, \n",
    "#  tool_output: str( tool_browser({'q':'September 9 2024 deaths'})) }\n",
    "\n",
    "class AgentRes(BaseModel):\n",
    "    tool_name: str  #<--must be a string = 'tool_browser'\n",
    "    tool_input: dict #<--must be a dictionary = {'q':'September 9 2024 deaths'}\n",
    "    tool_output: str | None = None #can be a string or None, default = None\n",
    "    \n",
    "    @classmethod\n",
    "    def from_llm(cls, res:dict): #<--return the class itself\n",
    "        try:\n",
    "            out = json.loads(res[\"message\"][\"content\"])\n",
    "            return cls(tool_name=out[\"name\"], tool_input=out[\"parameters\"])\n",
    "        except Exception as e:\n",
    "            print(f\"Error from Ollama:\\n{res}\\n\")\n",
    "            raise e\n",
    "\n",
    "# test\n",
    "agent_res = AgentRes.from_llm(llm_res)\n",
    "print(\"from\\n\", llm_res[\"message\"][\"content\"], \"\\nto\")\n",
    "agent_res"
   ]
  },
  {
   "cell_type": "code",
   "execution_count": 15,
   "id": "cb5339f4-4a1e-454b-b764-a2e0346e3ef4",
   "metadata": {},
   "outputs": [
    {
     "data": {
      "text/plain": [
       "AgentRes(tool_name='tool_browser', tool_input={'q': 'September 9 2024 deaths'}, tool_output='Famous deaths in September 2024. Learn about 26 historical figures, notable people and celebrities who died in Sep 2024 like James Earl Jones and Alberto Fujimori. Menu. ... James Earl Jones (1931-2024) Sep 9 American Tony, Emmy, Grammy, and Golden Globe winning actor (The Great White Hope; Star Wars - \"voice of Darth Vader\"; Field Of Dreams\"), ... Died September 9 2024. News Obituaries James Earl Jones (1931-2024), the voice of Darth Vader and Mufasa. by Linnea Crowther September 9, 2024. Famous deaths for the 9th of September. See which celebrities, historical figures, scientists and criminals died throughout history on September 9. Menu. Channels On This Day. Calendar; ... James Earl Jones (1931-2024) American Tony, Emmy, Grammy, and Golden Globe winning actor (The Great White Hope; Star Wars - \"voice of Darth Vader\"; ... Remembering the entertainers and other notable figures who passed away in 2024, including Phil Donahue, John Aprea, Maurice Williams, Alain Delon, and more. See their photos, tributes, and causes ... A list of notable deaths that occurred in 2024, sorted by date and name. Includes information on the person\\'s nationality, occupation, cause of death, and reference.')"
      ]
     },
     "execution_count": 15,
     "metadata": {},
     "output_type": "execute_result"
    }
   ],
   "source": [
    "# test the tool output\n",
    "AgentRes(tool_name=\"tool_browser\", \n",
    "         tool_input={'q':'September 9 2024 deaths'}, \n",
    "         tool_output=str( tool_browser({'q':'September 9 2024 deaths'})) )"
   ]
  },
  {
   "cell_type": "markdown",
   "id": "f89d37c6-a49f-47e4-9e83-89e0a1e7b111",
   "metadata": {},
   "source": [
    "##### Memory System"
   ]
  },
  {
   "cell_type": "code",
   "execution_count": 16,
   "id": "05a313a5-eab2-4bfc-a96d-7fd0cd0cd870",
   "metadata": {},
   "outputs": [
    {
     "data": {
      "text/plain": [
       "[]"
      ]
     },
     "execution_count": 16,
     "metadata": {},
     "output_type": "execute_result"
    }
   ],
   "source": [
    "'''\n",
    "Messages in Memory will have this structure:\n",
    "[{'role':'assistant', 'content':'{\"name\":\"final_answer\", \"parameters\":{\"text\":\"How can I assist you today?\"}}'},\n",
    " {'role':'user', 'content':None}]\n",
    "'''\n",
    "\n",
    "def save_memory(lst_res:list[AgentRes], user_q:str) -> list:\n",
    "    ## create\n",
    "    memory = []\n",
    "    for res in [res for res in lst_res if res.tool_output is not None]:\n",
    "        memory.extend([\n",
    "            ### assistant message\n",
    "            {\"role\":\"assistant\", \"content\":json.dumps({\"name\":res.tool_name, \"parameters\":res.tool_input})},\n",
    "            ### user message\n",
    "            {\"role\":\"user\", \"content\":res.tool_output}\n",
    "        ])\n",
    "    \n",
    "    ## add a reminder of the original goal\n",
    "    if memory:\n",
    "        memory += [{\"role\":\"user\", \"content\":(f'''\n",
    "                This is just a reminder that my original query was `{user_q}`.\n",
    "                Only answer to the original query, and nothing else, but use the information I gave you. \n",
    "                Provide as much information as possible when you use the `final_answer` tool.\n",
    "                ''')}]\n",
    "    return memory\n",
    "\n",
    "# test\n",
    "save_memory(lst_res=[agent_res], user_q=q)"
   ]
  },
  {
   "cell_type": "code",
   "execution_count": 17,
   "id": "8587b83a-c1aa-4b78-a23a-ba1db31571b6",
   "metadata": {},
   "outputs": [],
   "source": [
    "chat_history = [{\"role\": \"user\", \"content\": \"hi there, how are you?\"},\n",
    "                {\"role\": \"assistant\", \"content\": \"I'm good, thanks!\"},\n",
    "                {\"role\": \"user\", \"content\": \"I have a question\"},\n",
    "                {\"role\": \"assistant\", \"content\": \"tell me\"}]"
   ]
  },
  {
   "cell_type": "markdown",
   "id": "22fc2702-61d5-4ed5-b958-8d0c29645c18",
   "metadata": {},
   "source": [
    "##### Run the Agent"
   ]
  },
  {
   "cell_type": "code",
   "execution_count": 18,
   "id": "623dcfac-fde3-41a2-bc74-9aa47d1d1b51",
   "metadata": {},
   "outputs": [
    {
     "name": "stdout",
     "output_type": "stream",
     "text": [
      "\n",
      "agent_res: tool_name='tool_browser' tool_input={'q': 'September 9 2024 deaths'} tool_output=None\n"
     ]
    }
   ],
   "source": [
    "def run_agent(prompt:str, dic_tools:dict, user_q:str, chat_history:list[dict], lst_res:list[AgentRes]) -> AgentRes:\n",
    "    ## start memory\n",
    "    memory = save_memory(lst_res=lst_res, user_q=user_q)\n",
    "    \n",
    "    ## track used tools\n",
    "    if memory:\n",
    "        tools_used = [res.tool_name for res in lst_res]\n",
    "        if len(tools_used) >= len(dic_tools.keys()):\n",
    "            memory[-1][\"content\"] = \"You must now use the `final_answer` tool.\"\n",
    "\n",
    "    ## prompt tools\n",
    "    str_tools = \"\\n\".join([str(n+1)+\". `\"+str(v.name)+\"`: \"+str(v.description) for n,v in enumerate(dic_tools.values())])\n",
    "    prompt_tools = f\"You can use the following tools:\\n{str_tools}\"\n",
    "        \n",
    "    ## messages\n",
    "    messages = [{\"role\":\"system\", \"content\":prompt+\"\\n\"+prompt_tools},\n",
    "                *chat_history,\n",
    "                {\"role\":\"user\", \"content\":user_q},\n",
    "                *memory]\n",
    "    #pprint(messages) #<--print to see prompt + tools + chat_history\n",
    "    \n",
    "    ## output\n",
    "    llm_res = ollama.chat(model=llm, messages=messages, format=\"json\")\n",
    "    return AgentRes.from_llm(llm_res)\n",
    "\n",
    "# test\n",
    "agent_res = run_agent(prompt=prompt, dic_tools=dic_tools, user_q=q, chat_history=chat_history, lst_res=[])\n",
    "print(\"\\nagent_res:\", agent_res)"
   ]
  },
  {
   "cell_type": "markdown",
   "id": "d9ab77b7-8380-4b4c-9914-c34c0404798f",
   "metadata": {
    "jp-MarkdownHeadingCollapsed": true
   },
   "source": [
    "### 4 - Graph Workflow"
   ]
  },
  {
   "cell_type": "markdown",
   "id": "79e9aad9-b664-4cc1-8085-26364bf041a1",
   "metadata": {},
   "source": [
    "##### State"
   ]
  },
  {
   "cell_type": "code",
   "execution_count": 19,
   "id": "fd64eaa3-6bc7-41e0-86a3-6061ba24b468",
   "metadata": {},
   "outputs": [
    {
     "data": {
      "text/plain": [
       "{'user_q': 'who died on September 9, 2024?',\n",
       " 'chat_history': [{'role': 'user', 'content': 'hi there, how are you?'},\n",
       "  {'role': 'assistant', 'content': \"I'm good, thanks!\"},\n",
       "  {'role': 'user', 'content': 'I have a question'},\n",
       "  {'role': 'assistant', 'content': 'tell me'}],\n",
       " 'lst_res': [AgentRes(tool_name='tool_browser', tool_input={'q': 'September 9 2024 deaths'}, tool_output=None)],\n",
       " 'output': {}}"
      ]
     },
     "execution_count": 19,
     "metadata": {},
     "output_type": "execute_result"
    }
   ],
   "source": [
    "import typing\n",
    "\n",
    "class State(typing.TypedDict):\n",
    "    user_q: str\n",
    "    chat_history: list \n",
    "    lst_res: list[AgentRes]\n",
    "    output: dict\n",
    "\n",
    "# test\n",
    "state = State({\"user_q\":q, \"chat_history\":chat_history, \"lst_res\":[agent_res], \"output\":{}})\n",
    "state"
   ]
  },
  {
   "cell_type": "markdown",
   "id": "8d0581b8-ca39-4e08-b279-f69b9fdedb2c",
   "metadata": {},
   "source": [
    "##### Nodes"
   ]
  },
  {
   "cell_type": "code",
   "execution_count": 20,
   "id": "982a35b4-2523-44b7-99e8-8537a19ce0f5",
   "metadata": {},
   "outputs": [
    {
     "name": "stdout",
     "output_type": "stream",
     "text": [
      "--- node_agent ---\n",
      "tool_name='tool_browser' tool_input={'q': 'September 9 2024 death'} tool_output=None\n"
     ]
    },
    {
     "data": {
      "text/plain": [
       "{'lst_res': [AgentRes(tool_name='tool_browser', tool_input={'q': 'September 9 2024 death'}, tool_output=None)]}"
      ]
     },
     "execution_count": 20,
     "metadata": {},
     "output_type": "execute_result"
    }
   ],
   "source": [
    "# Agent\n",
    "def node_agent(state):\n",
    "    print(\"--- node_agent ---\")\n",
    "    agent_res = run_agent(prompt=prompt, \n",
    "                          dic_tools={k:v for k,v in dic_tools.items() if k in [\"tool_browser\",\"final_answer\"]},\n",
    "                          user_q=state[\"user_q\"], \n",
    "                          chat_history=state[\"chat_history\"], \n",
    "                          lst_res=state[\"lst_res\"])\n",
    "    print(agent_res)\n",
    "    return {\"lst_res\":[agent_res]} #<--must return a the list of agent_res\n",
    "\n",
    "# test\n",
    "node_agent(state)"
   ]
  },
  {
   "cell_type": "code",
   "execution_count": 21,
   "id": "7d66fa3e-7de0-4ea7-90e7-26665cb9b3df",
   "metadata": {},
   "outputs": [
    {
     "name": "stdout",
     "output_type": "stream",
     "text": [
      "--- node_tool ---\n",
      "tool_browser(input={'q': 'September 9 2024 deaths'})\n"
     ]
    },
    {
     "data": {
      "text/plain": [
       "{'lst_res': [AgentRes(tool_name='tool_browser', tool_input={'q': 'September 9 2024 deaths'}, tool_output='Famous deaths in September 2024. Learn about 26 historical figures, notable people and celebrities who died in Sep 2024 like James Earl Jones and Alberto Fujimori. Menu. ... James Earl Jones (1931-2024) Sep 9 American Tony, Emmy, Grammy, and Golden Globe winning actor (The Great White Hope; Star Wars - \"voice of Darth Vader\"; Field Of Dreams\"), ... Died September 9 2024. News Obituaries James Earl Jones (1931-2024), the voice of Darth Vader and Mufasa. by Linnea Crowther September 9, 2024. 1926 William S. Scarborough, American linguist and author (Birds of Aristophanes), dies at 74. 1931 Lujo Brentano, German economist and social reformer, dies at 86. 1934 Roger Fry, English artist and art critic, dies at 67. 1941 Gustav Ehrismann, German author and expert on the German language, dies at 85. Updated on September 22, 2024 08:29PM EDT. After saying sad and shocking goodbyes to the many stars who died in 2023, ... died at Aug. 9 at age 74. A cause of death was not immediately released ... The following notable deaths occurred in 2024. Names are reported under the date of death, in alphabetical order. A typical entry reports information in the following sequence: Name, age, country of citizenship at birth, subsequent nationality (if applicable), what subject was noted for, cause of death (if known), and reference.')]}"
      ]
     },
     "execution_count": 21,
     "metadata": {},
     "output_type": "execute_result"
    }
   ],
   "source": [
    "# Tools\n",
    "def node_tool(state):\n",
    "    print(\"--- node_tool ---\")\n",
    "    res = state[\"lst_res\"][-1]\n",
    "    print(f\"{res.tool_name}(input={res.tool_input})\")\n",
    "    \n",
    "    agent_res = AgentRes(tool_name=res.tool_name, \n",
    "                         tool_input=res.tool_input, \n",
    "                         tool_output=str(dic_tools[res.tool_name](res.tool_input)) )\n",
    "    \n",
    "    return {\"output\":agent_res} if res.tool_name == \"final_answer\" else {\"lst_res\":[agent_res]}\n",
    "\n",
    "# test\n",
    "node_tool(state)"
   ]
  },
  {
   "cell_type": "markdown",
   "id": "f0b55681-db5b-4650-955a-875d1c7da163",
   "metadata": {},
   "source": [
    "##### Edges"
   ]
  },
  {
   "cell_type": "code",
   "execution_count": 22,
   "id": "fe58b028-e548-430c-a009-608b144aae72",
   "metadata": {},
   "outputs": [
    {
     "name": "stdout",
     "output_type": "stream",
     "text": [
      "--- conditional_edges ---\n",
      "next_node: tool_browser\n"
     ]
    },
    {
     "data": {
      "text/plain": [
       "'tool_browser'"
      ]
     },
     "execution_count": 22,
     "metadata": {},
     "output_type": "execute_result"
    }
   ],
   "source": [
    "def conditional_edges(state):\n",
    "    print(\"--- conditional_edges ---\")\n",
    "    last_res = state[\"lst_res\"][-1]\n",
    "    next_node = last_res.tool_name if isinstance(state[\"lst_res\"], list) else \"final_answer\"\n",
    "    print(\"next_node:\", next_node)\n",
    "    return next_node #<--must return the next node to go\n",
    "\n",
    "# test\n",
    "conditional_edges(state)"
   ]
  },
  {
   "cell_type": "markdown",
   "id": "6cb86f8a-f7c6-41d5-b314-c07c7b385ba9",
   "metadata": {},
   "source": [
    "##### Graph"
   ]
  },
  {
   "cell_type": "code",
   "execution_count": 23,
   "id": "3559fc30-33ce-466a-88be-ebe85985084b",
   "metadata": {},
   "outputs": [],
   "source": [
    "from langgraph.graph import StateGraph, END\n",
    "\n",
    "## start the graph\n",
    "workflow = StateGraph(State)\n",
    "\n",
    "## add Agent node\n",
    "workflow.add_node(node=\"Agent\", action=node_agent) \n",
    "workflow.set_entry_point(key=\"Agent\")  #<--user query\n",
    "\n",
    "## add Tools nodes\n",
    "for k in dic_tools.keys():\n",
    "    workflow.add_node(node=k, action=node_tool)\n",
    "\n",
    "## conditional_edges from Agent\n",
    "workflow.add_conditional_edges(source=\"Agent\", path=conditional_edges)\n",
    "\n",
    "## normal_edges to Agent\n",
    "for k in dic_tools.keys():\n",
    "    if k != \"final_answer\":\n",
    "        workflow.add_edge(start_key=k, end_key=\"Agent\")\n",
    "\n",
    "## end the graph\n",
    "workflow.add_edge(start_key=\"final_answer\", end_key=END)\n",
    "g = workflow.compile()"
   ]
  },
  {
   "cell_type": "code",
   "execution_count": 24,
   "id": "5ccd3876-579f-463c-8a8f-29baea3c5574",
   "metadata": {},
   "outputs": [
    {
     "data": {
      "image/jpeg": "[encoded data removed]",
      "text/plain": [
       "<IPython.core.display.Image object>"
      ]
     },
     "metadata": {},
     "output_type": "display_data"
    }
   ],
   "source": [
    "from IPython.display import Image, display\n",
    "from langchain_core.runnables.graph import MermaidDrawMethod\n",
    "\n",
    "display(Image(\n",
    "    g.get_graph().draw_mermaid_png(draw_method=MermaidDrawMethod.API)\n",
    "))"
   ]
  },
  {
   "cell_type": "markdown",
   "id": "1daf810a-4da2-46a3-91b5-87693c58c658",
   "metadata": {},
   "source": [
    "##### Run"
   ]
  },
  {
   "cell_type": "code",
   "execution_count": 25,
   "id": "20367e09-9a6a-4005-96dd-d1064376efd8",
   "metadata": {},
   "outputs": [],
   "source": [
    "## input initial state\n",
    "state = {'user_q':q,\n",
    "         'chat_history':chat_history, \n",
    "         'lst_res':[], \n",
    "         'output':{} }"
   ]
  },
  {
   "cell_type": "code",
   "execution_count": 26,
   "id": "b38fc540-3b6f-44bf-aa08-652ae56ddeb1",
   "metadata": {},
   "outputs": [
    {
     "name": "stdout",
     "output_type": "stream",
     "text": [
      "--- node_agent ---\n",
      "tool_name='tool_browser' tool_input={'q': 'September 9 2024 deaths'} tool_output=None\n",
      "--- conditional_edges ---\n",
      "next_node: tool_browser\n",
      "--- node_tool ---\n",
      "tool_browser(input={'q': 'September 9 2024 deaths'})\n",
      "--- node_agent ---\n",
      "tool_name='final_answer' tool_input={'text': 'James Earl Jones, an American Tony, Emmy, Grammy, and Golden Globe winning actor, passed away on September 9, 2024, at the age of 93. He was best known for his iconic voice as Darth Vader in the Star Wars franchise.', 'source': 'Various news sources, including Deadline and The Hollywood Reporter'} tool_output=None\n",
      "--- conditional_edges ---\n",
      "next_node: final_answer\n",
      "--- node_tool ---\n",
      "final_answer(input={'text': 'James Earl Jones, an American Tony, Emmy, Grammy, and Golden Globe winning actor, passed away on September 9, 2024, at the age of 93. He was best known for his iconic voice as Darth Vader in the Star Wars franchise.', 'source': 'Various news sources, including Deadline and The Hollywood Reporter'})\n",
      "----\n"
     ]
    },
    {
     "data": {
      "text/plain": [
       "'James Earl Jones, an American Tony, Emmy, Grammy, and Golden Globe winning actor, passed away on September 9, 2024, at the age of 93. He was best known for his iconic voice as Darth Vader in the Star Wars franchise.'"
      ]
     },
     "execution_count": 26,
     "metadata": {},
     "output_type": "execute_result"
    }
   ],
   "source": [
    "out = g.invoke(input=state)\n",
    "agent_out = out['output'].tool_output\n",
    "\n",
    "print(\"----\")\n",
    "agent_out"
   ]
  },
  {
   "cell_type": "code",
   "execution_count": 28,
   "id": "8dd7ff20-c631-4848-ab01-ab316b7fe555",
   "metadata": {},
   "outputs": [
    {
     "name": "stdout",
     "output_type": "stream",
     "text": [
      "--- node_agent ---\n",
      "tool_name='tool_browser' tool_input={'q': 'died september 9 2024'} tool_output=None\n",
      "--- conditional_edges ---\n",
      "next_node: tool_browser\n",
      "{'Agent': {'lst_res': [AgentRes(tool_name='tool_browser', tool_input={'q': 'died september 9 2024'}, tool_output=None)]}}\n",
      "----\n",
      "--- node_tool ---\n",
      "tool_browser(input={'q': 'died september 9 2024'})\n",
      "{'tool_browser': {'lst_res': [AgentRes(tool_name='tool_browser', tool_input={'q': 'died september 9 2024'}, tool_output='Alberto Fujimori (1938-2024) Sep 11 President of Peru (1990-2000), dies of cancer at 86 [1] Sep 11 Chad McQueen, American actor (Nightforce; The Karate Kid), dies at 63. Sep 14 Otis Davis, American athlete (Olympic gold 400m WR 44.9, 4x400m relay WR 3:02.2 1960), dies at 92. Sep 15 Gheorghe Mulțescu, Romanian soccer midfielder (16 caps; Jiul ... Actor James Earl Jones, known for his booming voice and many memorable performances, died Monday morning, according to his agent Barry McPherson. ... Mon September 9, 2024 Link Copied! Search in the United States of people who died on September 22, 2024 obituaries and condolences. Find an obituary, get service details, leave condolence messages or send flowers or gifts in memory of a loved one. Died September 9 2024. News Obituaries James Earl Jones (1931-2024), the voice of Darth Vader and Mufasa. by Linnea Crowther September 9, 2024. Updated 6:03 PM PDT, September 9, 2024. NEW YORK (AP) — James Earl Jones, who overcame racial prejudice and a severe stutter to become a celebrated icon of stage and screen — eventually lending his deep, commanding voice to CNN, \"The Lion King\" and Darth Vader — has died. He was 93.')]}}\n",
      "----\n",
      "--- node_agent ---\n",
      "tool_name='final_answer' tool_input={'person': 'James Earl Jones'} tool_output=None\n",
      "--- conditional_edges ---\n",
      "next_node: final_answer\n",
      "{'Agent': {'lst_res': [AgentRes(tool_name='final_answer', tool_input={'person': 'James Earl Jones'}, tool_output=None)]}}\n",
      "----\n",
      "--- node_tool ---\n",
      "final_answer(input={'person': 'James Earl Jones'})\n"
     ]
    },
    {
     "ename": "ValidationError",
     "evalue": "1 validation error for final_answerSchema\ntext\n  field required (type=value_error.missing)",
     "output_type": "error",
     "traceback": [
      "\u001b[0;31m---------------------------------------------------------------------------\u001b[0m",
      "\u001b[0;31mValidationError\u001b[0m                           Traceback (most recent call last)",
      "Cell \u001b[0;32mIn[28], line 2\u001b[0m\n\u001b[1;32m      1\u001b[0m steps \u001b[38;5;241m=\u001b[39m g\u001b[38;5;241m.\u001b[39mstream(\u001b[38;5;28minput\u001b[39m\u001b[38;5;241m=\u001b[39mstate) \n\u001b[0;32m----> 2\u001b[0m \u001b[38;5;28;01mfor\u001b[39;00m step \u001b[38;5;129;01min\u001b[39;00m steps:\n\u001b[1;32m      3\u001b[0m     \u001b[38;5;28mprint\u001b[39m(step)\n\u001b[1;32m      4\u001b[0m     \u001b[38;5;28mprint\u001b[39m(\u001b[38;5;124m\"\u001b[39m\u001b[38;5;124m----\u001b[39m\u001b[38;5;124m\"\u001b[39m)\n",
      "File \u001b[0;32m~/opt/anaconda3/envs/GENAI2/lib/python3.11/site-packages/langgraph/pregel/__init__.py:1221\u001b[0m, in \u001b[0;36mPregel.stream\u001b[0;34m(self, input, config, stream_mode, output_keys, interrupt_before, interrupt_after, debug, subgraphs)\u001b[0m\n\u001b[1;32m   1210\u001b[0m \u001b[38;5;66;03m# Similarly to Bulk Synchronous Parallel / Pregel model\u001b[39;00m\n\u001b[1;32m   1211\u001b[0m \u001b[38;5;66;03m# computation proceeds in steps, while there are channel updates\u001b[39;00m\n\u001b[1;32m   1212\u001b[0m \u001b[38;5;66;03m# channel updates from step N are only visible in step N+1\u001b[39;00m\n\u001b[1;32m   1213\u001b[0m \u001b[38;5;66;03m# channels are guaranteed to be immutable for the duration of the step,\u001b[39;00m\n\u001b[1;32m   1214\u001b[0m \u001b[38;5;66;03m# with channel updates applied only at the transition between steps\u001b[39;00m\n\u001b[1;32m   1215\u001b[0m \u001b[38;5;28;01mwhile\u001b[39;00m loop\u001b[38;5;241m.\u001b[39mtick(\n\u001b[1;32m   1216\u001b[0m     input_keys\u001b[38;5;241m=\u001b[39m\u001b[38;5;28mself\u001b[39m\u001b[38;5;241m.\u001b[39minput_channels,\n\u001b[1;32m   1217\u001b[0m     interrupt_before\u001b[38;5;241m=\u001b[39minterrupt_before,\n\u001b[1;32m   1218\u001b[0m     interrupt_after\u001b[38;5;241m=\u001b[39minterrupt_after,\n\u001b[1;32m   1219\u001b[0m     manager\u001b[38;5;241m=\u001b[39mrun_manager,\n\u001b[1;32m   1220\u001b[0m ):\n\u001b[0;32m-> 1221\u001b[0m     \u001b[38;5;28;01mfor\u001b[39;00m _ \u001b[38;5;129;01min\u001b[39;00m runner\u001b[38;5;241m.\u001b[39mtick(\n\u001b[1;32m   1222\u001b[0m         loop\u001b[38;5;241m.\u001b[39mtasks\u001b[38;5;241m.\u001b[39mvalues(),\n\u001b[1;32m   1223\u001b[0m         timeout\u001b[38;5;241m=\u001b[39m\u001b[38;5;28mself\u001b[39m\u001b[38;5;241m.\u001b[39mstep_timeout,\n\u001b[1;32m   1224\u001b[0m         retry_policy\u001b[38;5;241m=\u001b[39m\u001b[38;5;28mself\u001b[39m\u001b[38;5;241m.\u001b[39mretry_policy,\n\u001b[1;32m   1225\u001b[0m     ):\n\u001b[1;32m   1226\u001b[0m         \u001b[38;5;66;03m# emit output\u001b[39;00m\n\u001b[1;32m   1227\u001b[0m         \u001b[38;5;28;01mfor\u001b[39;00m o \u001b[38;5;129;01min\u001b[39;00m output():\n\u001b[1;32m   1228\u001b[0m             \u001b[38;5;28;01myield\u001b[39;00m o\n",
      "File \u001b[0;32m~/opt/anaconda3/envs/GENAI2/lib/python3.11/site-packages/langgraph/pregel/runner.py:87\u001b[0m, in \u001b[0;36mPregelRunner.tick\u001b[0;34m(self, tasks, timeout, retry_policy)\u001b[0m\n\u001b[1;32m     85\u001b[0m     \u001b[38;5;28;01myield\u001b[39;00m\n\u001b[1;32m     86\u001b[0m \u001b[38;5;66;03m# panic on failure or timeout\u001b[39;00m\n\u001b[0;32m---> 87\u001b[0m _panic_or_proceed(all_futures)\n",
      "File \u001b[0;32m~/opt/anaconda3/envs/GENAI2/lib/python3.11/site-packages/langgraph/pregel/runner.py:190\u001b[0m, in \u001b[0;36m_panic_or_proceed\u001b[0;34m(futs, timeout_exc_cls)\u001b[0m\n\u001b[1;32m    188\u001b[0m             inflight\u001b[38;5;241m.\u001b[39mpop()\u001b[38;5;241m.\u001b[39mcancel()\n\u001b[1;32m    189\u001b[0m         \u001b[38;5;66;03m# raise the exception\u001b[39;00m\n\u001b[0;32m--> 190\u001b[0m         \u001b[38;5;28;01mraise\u001b[39;00m exc\n\u001b[1;32m    191\u001b[0m \u001b[38;5;28;01mif\u001b[39;00m inflight:\n\u001b[1;32m    192\u001b[0m     \u001b[38;5;66;03m# if we got here means we timed out\u001b[39;00m\n\u001b[1;32m    193\u001b[0m     \u001b[38;5;28;01mwhile\u001b[39;00m inflight:\n\u001b[1;32m    194\u001b[0m         \u001b[38;5;66;03m# cancel all pending tasks\u001b[39;00m\n",
      "File \u001b[0;32m~/opt/anaconda3/envs/GENAI2/lib/python3.11/site-packages/langgraph/pregel/executor.py:59\u001b[0m, in \u001b[0;36mBackgroundExecutor.done\u001b[0;34m(self, task)\u001b[0m\n\u001b[1;32m     57\u001b[0m \u001b[38;5;28;01mdef\u001b[39;00m \u001b[38;5;21mdone\u001b[39m(\u001b[38;5;28mself\u001b[39m, task: concurrent\u001b[38;5;241m.\u001b[39mfutures\u001b[38;5;241m.\u001b[39mFuture) \u001b[38;5;241m-\u001b[39m\u001b[38;5;241m>\u001b[39m \u001b[38;5;28;01mNone\u001b[39;00m:\n\u001b[1;32m     58\u001b[0m     \u001b[38;5;28;01mtry\u001b[39;00m:\n\u001b[0;32m---> 59\u001b[0m         task\u001b[38;5;241m.\u001b[39mresult()\n\u001b[1;32m     60\u001b[0m     \u001b[38;5;28;01mexcept\u001b[39;00m GraphInterrupt:\n\u001b[1;32m     61\u001b[0m         \u001b[38;5;66;03m# This exception is an interruption signal, not an error\u001b[39;00m\n\u001b[1;32m     62\u001b[0m         \u001b[38;5;66;03m# so we don't want to re-raise it on exit\u001b[39;00m\n\u001b[1;32m     63\u001b[0m         \u001b[38;5;28mself\u001b[39m\u001b[38;5;241m.\u001b[39mtasks\u001b[38;5;241m.\u001b[39mpop(task)\n",
      "File \u001b[0;32m~/opt/anaconda3/envs/GENAI2/lib/python3.11/concurrent/futures/_base.py:449\u001b[0m, in \u001b[0;36mFuture.result\u001b[0;34m(self, timeout)\u001b[0m\n\u001b[1;32m    447\u001b[0m     \u001b[38;5;28;01mraise\u001b[39;00m CancelledError()\n\u001b[1;32m    448\u001b[0m \u001b[38;5;28;01melif\u001b[39;00m \u001b[38;5;28mself\u001b[39m\u001b[38;5;241m.\u001b[39m_state \u001b[38;5;241m==\u001b[39m FINISHED:\n\u001b[0;32m--> 449\u001b[0m     \u001b[38;5;28;01mreturn\u001b[39;00m \u001b[38;5;28mself\u001b[39m\u001b[38;5;241m.\u001b[39m__get_result()\n\u001b[1;32m    451\u001b[0m \u001b[38;5;28mself\u001b[39m\u001b[38;5;241m.\u001b[39m_condition\u001b[38;5;241m.\u001b[39mwait(timeout)\n\u001b[1;32m    453\u001b[0m \u001b[38;5;28;01mif\u001b[39;00m \u001b[38;5;28mself\u001b[39m\u001b[38;5;241m.\u001b[39m_state \u001b[38;5;129;01min\u001b[39;00m [CANCELLED, CANCELLED_AND_NOTIFIED]:\n",
      "File \u001b[0;32m~/opt/anaconda3/envs/GENAI2/lib/python3.11/concurrent/futures/_base.py:401\u001b[0m, in \u001b[0;36mFuture.__get_result\u001b[0;34m(self)\u001b[0m\n\u001b[1;32m    399\u001b[0m \u001b[38;5;28;01mif\u001b[39;00m \u001b[38;5;28mself\u001b[39m\u001b[38;5;241m.\u001b[39m_exception:\n\u001b[1;32m    400\u001b[0m     \u001b[38;5;28;01mtry\u001b[39;00m:\n\u001b[0;32m--> 401\u001b[0m         \u001b[38;5;28;01mraise\u001b[39;00m \u001b[38;5;28mself\u001b[39m\u001b[38;5;241m.\u001b[39m_exception\n\u001b[1;32m    402\u001b[0m     \u001b[38;5;28;01mfinally\u001b[39;00m:\n\u001b[1;32m    403\u001b[0m         \u001b[38;5;66;03m# Break a reference cycle with the exception in self._exception\u001b[39;00m\n\u001b[1;32m    404\u001b[0m         \u001b[38;5;28mself\u001b[39m \u001b[38;5;241m=\u001b[39m \u001b[38;5;28;01mNone\u001b[39;00m\n",
      "File \u001b[0;32m~/opt/anaconda3/envs/GENAI2/lib/python3.11/concurrent/futures/thread.py:58\u001b[0m, in \u001b[0;36m_WorkItem.run\u001b[0;34m(self)\u001b[0m\n\u001b[1;32m     55\u001b[0m     \u001b[38;5;28;01mreturn\u001b[39;00m\n\u001b[1;32m     57\u001b[0m \u001b[38;5;28;01mtry\u001b[39;00m:\n\u001b[0;32m---> 58\u001b[0m     result \u001b[38;5;241m=\u001b[39m \u001b[38;5;28mself\u001b[39m\u001b[38;5;241m.\u001b[39mfn(\u001b[38;5;241m*\u001b[39m\u001b[38;5;28mself\u001b[39m\u001b[38;5;241m.\u001b[39margs, \u001b[38;5;241m*\u001b[39m\u001b[38;5;241m*\u001b[39m\u001b[38;5;28mself\u001b[39m\u001b[38;5;241m.\u001b[39mkwargs)\n\u001b[1;32m     59\u001b[0m \u001b[38;5;28;01mexcept\u001b[39;00m \u001b[38;5;167;01mBaseException\u001b[39;00m \u001b[38;5;28;01mas\u001b[39;00m exc:\n\u001b[1;32m     60\u001b[0m     \u001b[38;5;28mself\u001b[39m\u001b[38;5;241m.\u001b[39mfuture\u001b[38;5;241m.\u001b[39mset_exception(exc)\n",
      "File \u001b[0;32m~/opt/anaconda3/envs/GENAI2/lib/python3.11/site-packages/langgraph/pregel/retry.py:26\u001b[0m, in \u001b[0;36mrun_with_retry\u001b[0;34m(task, retry_policy)\u001b[0m\n\u001b[1;32m     24\u001b[0m task\u001b[38;5;241m.\u001b[39mwrites\u001b[38;5;241m.\u001b[39mclear()\n\u001b[1;32m     25\u001b[0m \u001b[38;5;66;03m# run the task\u001b[39;00m\n\u001b[0;32m---> 26\u001b[0m task\u001b[38;5;241m.\u001b[39mproc\u001b[38;5;241m.\u001b[39minvoke(task\u001b[38;5;241m.\u001b[39minput, task\u001b[38;5;241m.\u001b[39mconfig)\n\u001b[1;32m     27\u001b[0m \u001b[38;5;66;03m# if successful, end\u001b[39;00m\n\u001b[1;32m     28\u001b[0m \u001b[38;5;28;01mbreak\u001b[39;00m\n",
      "File \u001b[0;32m~/opt/anaconda3/envs/GENAI2/lib/python3.11/site-packages/langgraph/utils/runnable.py:341\u001b[0m, in \u001b[0;36mRunnableSeq.invoke\u001b[0;34m(self, input, config, **kwargs)\u001b[0m\n\u001b[1;32m    339\u001b[0m context\u001b[38;5;241m.\u001b[39mrun(_set_config_context, config)\n\u001b[1;32m    340\u001b[0m \u001b[38;5;28;01mif\u001b[39;00m i \u001b[38;5;241m==\u001b[39m \u001b[38;5;241m0\u001b[39m:\n\u001b[0;32m--> 341\u001b[0m     \u001b[38;5;28minput\u001b[39m \u001b[38;5;241m=\u001b[39m context\u001b[38;5;241m.\u001b[39mrun(step\u001b[38;5;241m.\u001b[39minvoke, \u001b[38;5;28minput\u001b[39m, config, \u001b[38;5;241m*\u001b[39m\u001b[38;5;241m*\u001b[39mkwargs)\n\u001b[1;32m    342\u001b[0m \u001b[38;5;28;01melse\u001b[39;00m:\n\u001b[1;32m    343\u001b[0m     \u001b[38;5;28minput\u001b[39m \u001b[38;5;241m=\u001b[39m context\u001b[38;5;241m.\u001b[39mrun(step\u001b[38;5;241m.\u001b[39minvoke, \u001b[38;5;28minput\u001b[39m, config)\n",
      "File \u001b[0;32m~/opt/anaconda3/envs/GENAI2/lib/python3.11/site-packages/langgraph/utils/runnable.py:129\u001b[0m, in \u001b[0;36mRunnableCallable.invoke\u001b[0;34m(self, input, config, **kwargs)\u001b[0m\n\u001b[1;32m    127\u001b[0m \u001b[38;5;28;01melse\u001b[39;00m:\n\u001b[1;32m    128\u001b[0m     context\u001b[38;5;241m.\u001b[39mrun(_set_config_context, config)\n\u001b[0;32m--> 129\u001b[0m     ret \u001b[38;5;241m=\u001b[39m context\u001b[38;5;241m.\u001b[39mrun(\u001b[38;5;28mself\u001b[39m\u001b[38;5;241m.\u001b[39mfunc, \u001b[38;5;28minput\u001b[39m, \u001b[38;5;241m*\u001b[39m\u001b[38;5;241m*\u001b[39mkwargs)\n\u001b[1;32m    130\u001b[0m \u001b[38;5;28;01mif\u001b[39;00m \u001b[38;5;28misinstance\u001b[39m(ret, Runnable) \u001b[38;5;129;01mand\u001b[39;00m \u001b[38;5;28mself\u001b[39m\u001b[38;5;241m.\u001b[39mrecurse:\n\u001b[1;32m    131\u001b[0m     \u001b[38;5;28;01mreturn\u001b[39;00m ret\u001b[38;5;241m.\u001b[39minvoke(\u001b[38;5;28minput\u001b[39m, config)\n",
      "Cell \u001b[0;32mIn[21], line 9\u001b[0m, in \u001b[0;36mnode_tool\u001b[0;34m(state)\u001b[0m\n\u001b[1;32m      4\u001b[0m res \u001b[38;5;241m=\u001b[39m state[\u001b[38;5;124m\"\u001b[39m\u001b[38;5;124mlst_res\u001b[39m\u001b[38;5;124m\"\u001b[39m][\u001b[38;5;241m-\u001b[39m\u001b[38;5;241m1\u001b[39m]\n\u001b[1;32m      5\u001b[0m \u001b[38;5;28mprint\u001b[39m(\u001b[38;5;124mf\u001b[39m\u001b[38;5;124m\"\u001b[39m\u001b[38;5;132;01m{\u001b[39;00mres\u001b[38;5;241m.\u001b[39mtool_name\u001b[38;5;132;01m}\u001b[39;00m\u001b[38;5;124m(input=\u001b[39m\u001b[38;5;132;01m{\u001b[39;00mres\u001b[38;5;241m.\u001b[39mtool_input\u001b[38;5;132;01m}\u001b[39;00m\u001b[38;5;124m)\u001b[39m\u001b[38;5;124m\"\u001b[39m)\n\u001b[1;32m      7\u001b[0m agent_res \u001b[38;5;241m=\u001b[39m AgentRes(tool_name\u001b[38;5;241m=\u001b[39mres\u001b[38;5;241m.\u001b[39mtool_name, \n\u001b[1;32m      8\u001b[0m                      tool_input\u001b[38;5;241m=\u001b[39mres\u001b[38;5;241m.\u001b[39mtool_input, \n\u001b[0;32m----> 9\u001b[0m                      tool_output\u001b[38;5;241m=\u001b[39m\u001b[38;5;28mstr\u001b[39m(dic_tools[res\u001b[38;5;241m.\u001b[39mtool_name](res\u001b[38;5;241m.\u001b[39mtool_input)) )\n\u001b[1;32m     11\u001b[0m \u001b[38;5;28;01mreturn\u001b[39;00m {\u001b[38;5;124m\"\u001b[39m\u001b[38;5;124moutput\u001b[39m\u001b[38;5;124m\"\u001b[39m:agent_res} \u001b[38;5;28;01mif\u001b[39;00m res\u001b[38;5;241m.\u001b[39mtool_name \u001b[38;5;241m==\u001b[39m \u001b[38;5;124m\"\u001b[39m\u001b[38;5;124mfinal_answer\u001b[39m\u001b[38;5;124m\"\u001b[39m \u001b[38;5;28;01melse\u001b[39;00m {\u001b[38;5;124m\"\u001b[39m\u001b[38;5;124mlst_res\u001b[39m\u001b[38;5;124m\"\u001b[39m:[agent_res]}\n",
      "File \u001b[0;32m~/opt/anaconda3/envs/GENAI2/lib/python3.11/site-packages/langchain_core/_api/deprecation.py:180\u001b[0m, in \u001b[0;36mdeprecated.<locals>.deprecate.<locals>.warning_emitting_wrapper\u001b[0;34m(*args, **kwargs)\u001b[0m\n\u001b[1;32m    178\u001b[0m     warned \u001b[38;5;241m=\u001b[39m \u001b[38;5;28;01mTrue\u001b[39;00m\n\u001b[1;32m    179\u001b[0m     emit_warning()\n\u001b[0;32m--> 180\u001b[0m \u001b[38;5;28;01mreturn\u001b[39;00m wrapped(\u001b[38;5;241m*\u001b[39margs, \u001b[38;5;241m*\u001b[39m\u001b[38;5;241m*\u001b[39mkwargs)\n",
      "File \u001b[0;32m~/opt/anaconda3/envs/GENAI2/lib/python3.11/site-packages/langchain_core/tools/base.py:711\u001b[0m, in \u001b[0;36mBaseTool.__call__\u001b[0;34m(self, tool_input, callbacks)\u001b[0m\n\u001b[1;32m    708\u001b[0m \u001b[38;5;129m@deprecated\u001b[39m(\u001b[38;5;124m\"\u001b[39m\u001b[38;5;124m0.1.47\u001b[39m\u001b[38;5;124m\"\u001b[39m, alternative\u001b[38;5;241m=\u001b[39m\u001b[38;5;124m\"\u001b[39m\u001b[38;5;124minvoke\u001b[39m\u001b[38;5;124m\"\u001b[39m, removal\u001b[38;5;241m=\u001b[39m\u001b[38;5;124m\"\u001b[39m\u001b[38;5;124m1.0\u001b[39m\u001b[38;5;124m\"\u001b[39m)\n\u001b[1;32m    709\u001b[0m \u001b[38;5;28;01mdef\u001b[39;00m \u001b[38;5;21m__call__\u001b[39m(\u001b[38;5;28mself\u001b[39m, tool_input: \u001b[38;5;28mstr\u001b[39m, callbacks: Callbacks \u001b[38;5;241m=\u001b[39m \u001b[38;5;28;01mNone\u001b[39;00m) \u001b[38;5;241m-\u001b[39m\u001b[38;5;241m>\u001b[39m \u001b[38;5;28mstr\u001b[39m:\n\u001b[1;32m    710\u001b[0m \u001b[38;5;250m    \u001b[39m\u001b[38;5;124;03m\"\"\"Make tool callable.\"\"\"\u001b[39;00m\n\u001b[0;32m--> 711\u001b[0m     \u001b[38;5;28;01mreturn\u001b[39;00m \u001b[38;5;28mself\u001b[39m\u001b[38;5;241m.\u001b[39mrun(tool_input, callbacks\u001b[38;5;241m=\u001b[39mcallbacks)\n",
      "File \u001b[0;32m~/opt/anaconda3/envs/GENAI2/lib/python3.11/site-packages/langchain_core/tools/base.py:586\u001b[0m, in \u001b[0;36mBaseTool.run\u001b[0;34m(self, tool_input, verbose, start_color, color, callbacks, tags, metadata, run_name, run_id, config, tool_call_id, **kwargs)\u001b[0m\n\u001b[1;32m    584\u001b[0m \u001b[38;5;28;01mif\u001b[39;00m error_to_raise:\n\u001b[1;32m    585\u001b[0m     run_manager\u001b[38;5;241m.\u001b[39mon_tool_error(error_to_raise)\n\u001b[0;32m--> 586\u001b[0m     \u001b[38;5;28;01mraise\u001b[39;00m error_to_raise\n\u001b[1;32m    587\u001b[0m output \u001b[38;5;241m=\u001b[39m _format_output(content, artifact, tool_call_id, \u001b[38;5;28mself\u001b[39m\u001b[38;5;241m.\u001b[39mname, status)\n\u001b[1;32m    588\u001b[0m run_manager\u001b[38;5;241m.\u001b[39mon_tool_end(output, color\u001b[38;5;241m=\u001b[39mcolor, name\u001b[38;5;241m=\u001b[39m\u001b[38;5;28mself\u001b[39m\u001b[38;5;241m.\u001b[39mname, \u001b[38;5;241m*\u001b[39m\u001b[38;5;241m*\u001b[39mkwargs)\n",
      "File \u001b[0;32m~/opt/anaconda3/envs/GENAI2/lib/python3.11/site-packages/langchain_core/tools/base.py:549\u001b[0m, in \u001b[0;36mBaseTool.run\u001b[0;34m(self, tool_input, verbose, start_color, color, callbacks, tags, metadata, run_name, run_id, config, tool_call_id, **kwargs)\u001b[0m\n\u001b[1;32m    547\u001b[0m context \u001b[38;5;241m=\u001b[39m copy_context()\n\u001b[1;32m    548\u001b[0m context\u001b[38;5;241m.\u001b[39mrun(_set_config_context, child_config)\n\u001b[0;32m--> 549\u001b[0m tool_args, tool_kwargs \u001b[38;5;241m=\u001b[39m \u001b[38;5;28mself\u001b[39m\u001b[38;5;241m.\u001b[39m_to_args_and_kwargs(tool_input)\n\u001b[1;32m    550\u001b[0m \u001b[38;5;28;01mif\u001b[39;00m signature(\u001b[38;5;28mself\u001b[39m\u001b[38;5;241m.\u001b[39m_run)\u001b[38;5;241m.\u001b[39mparameters\u001b[38;5;241m.\u001b[39mget(\u001b[38;5;124m\"\u001b[39m\u001b[38;5;124mrun_manager\u001b[39m\u001b[38;5;124m\"\u001b[39m):\n\u001b[1;32m    551\u001b[0m     tool_kwargs[\u001b[38;5;124m\"\u001b[39m\u001b[38;5;124mrun_manager\u001b[39m\u001b[38;5;124m\"\u001b[39m] \u001b[38;5;241m=\u001b[39m run_manager\n",
      "File \u001b[0;32m~/opt/anaconda3/envs/GENAI2/lib/python3.11/site-packages/langchain_core/tools/base.py:472\u001b[0m, in \u001b[0;36mBaseTool._to_args_and_kwargs\u001b[0;34m(self, tool_input)\u001b[0m\n\u001b[1;32m    471\u001b[0m \u001b[38;5;28;01mdef\u001b[39;00m \u001b[38;5;21m_to_args_and_kwargs\u001b[39m(\u001b[38;5;28mself\u001b[39m, tool_input: Union[\u001b[38;5;28mstr\u001b[39m, Dict]) \u001b[38;5;241m-\u001b[39m\u001b[38;5;241m>\u001b[39m Tuple[Tuple, Dict]:\n\u001b[0;32m--> 472\u001b[0m     tool_input \u001b[38;5;241m=\u001b[39m \u001b[38;5;28mself\u001b[39m\u001b[38;5;241m.\u001b[39m_parse_input(tool_input)\n\u001b[1;32m    473\u001b[0m     \u001b[38;5;66;03m# For backwards compatibility, if run_input is a string,\u001b[39;00m\n\u001b[1;32m    474\u001b[0m     \u001b[38;5;66;03m# pass as a positional argument.\u001b[39;00m\n\u001b[1;32m    475\u001b[0m     \u001b[38;5;28;01mif\u001b[39;00m \u001b[38;5;28misinstance\u001b[39m(tool_input, \u001b[38;5;28mstr\u001b[39m):\n",
      "File \u001b[0;32m~/opt/anaconda3/envs/GENAI2/lib/python3.11/site-packages/langchain_core/tools/base.py:424\u001b[0m, in \u001b[0;36mBaseTool._parse_input\u001b[0;34m(self, tool_input)\u001b[0m\n\u001b[1;32m    422\u001b[0m \u001b[38;5;28;01melse\u001b[39;00m:\n\u001b[1;32m    423\u001b[0m     \u001b[38;5;28;01mif\u001b[39;00m input_args \u001b[38;5;129;01mis\u001b[39;00m \u001b[38;5;129;01mnot\u001b[39;00m \u001b[38;5;28;01mNone\u001b[39;00m:\n\u001b[0;32m--> 424\u001b[0m         result \u001b[38;5;241m=\u001b[39m input_args\u001b[38;5;241m.\u001b[39mparse_obj(tool_input)\n\u001b[1;32m    425\u001b[0m         \u001b[38;5;28;01mreturn\u001b[39;00m {\n\u001b[1;32m    426\u001b[0m             k: \u001b[38;5;28mgetattr\u001b[39m(result, k)\n\u001b[1;32m    427\u001b[0m             \u001b[38;5;28;01mfor\u001b[39;00m k, v \u001b[38;5;129;01min\u001b[39;00m result\u001b[38;5;241m.\u001b[39mdict()\u001b[38;5;241m.\u001b[39mitems()\n\u001b[1;32m    428\u001b[0m             \u001b[38;5;28;01mif\u001b[39;00m k \u001b[38;5;129;01min\u001b[39;00m tool_input\n\u001b[1;32m    429\u001b[0m         }\n\u001b[1;32m    430\u001b[0m     \u001b[38;5;28;01mreturn\u001b[39;00m tool_input\n",
      "File \u001b[0;32m~/opt/anaconda3/envs/GENAI2/lib/python3.11/site-packages/pydantic/v1/main.py:526\u001b[0m, in \u001b[0;36mBaseModel.parse_obj\u001b[0;34m(cls, obj)\u001b[0m\n\u001b[1;32m    524\u001b[0m         exc \u001b[38;5;241m=\u001b[39m \u001b[38;5;167;01mTypeError\u001b[39;00m(\u001b[38;5;124mf\u001b[39m\u001b[38;5;124m'\u001b[39m\u001b[38;5;132;01m{\u001b[39;00m\u001b[38;5;28mcls\u001b[39m\u001b[38;5;241m.\u001b[39m\u001b[38;5;18m__name__\u001b[39m\u001b[38;5;132;01m}\u001b[39;00m\u001b[38;5;124m expected dict not \u001b[39m\u001b[38;5;132;01m{\u001b[39;00mobj\u001b[38;5;241m.\u001b[39m\u001b[38;5;18m__class__\u001b[39m\u001b[38;5;241m.\u001b[39m\u001b[38;5;18m__name__\u001b[39m\u001b[38;5;132;01m}\u001b[39;00m\u001b[38;5;124m'\u001b[39m)\n\u001b[1;32m    525\u001b[0m         \u001b[38;5;28;01mraise\u001b[39;00m ValidationError([ErrorWrapper(exc, loc\u001b[38;5;241m=\u001b[39mROOT_KEY)], \u001b[38;5;28mcls\u001b[39m) \u001b[38;5;28;01mfrom\u001b[39;00m \u001b[38;5;21;01me\u001b[39;00m\n\u001b[0;32m--> 526\u001b[0m \u001b[38;5;28;01mreturn\u001b[39;00m \u001b[38;5;28mcls\u001b[39m(\u001b[38;5;241m*\u001b[39m\u001b[38;5;241m*\u001b[39mobj)\n",
      "File \u001b[0;32m~/opt/anaconda3/envs/GENAI2/lib/python3.11/site-packages/pydantic/v1/main.py:341\u001b[0m, in \u001b[0;36mBaseModel.__init__\u001b[0;34m(__pydantic_self__, **data)\u001b[0m\n\u001b[1;32m    339\u001b[0m values, fields_set, validation_error \u001b[38;5;241m=\u001b[39m validate_model(__pydantic_self__\u001b[38;5;241m.\u001b[39m\u001b[38;5;18m__class__\u001b[39m, data)\n\u001b[1;32m    340\u001b[0m \u001b[38;5;28;01mif\u001b[39;00m validation_error:\n\u001b[0;32m--> 341\u001b[0m     \u001b[38;5;28;01mraise\u001b[39;00m validation_error\n\u001b[1;32m    342\u001b[0m \u001b[38;5;28;01mtry\u001b[39;00m:\n\u001b[1;32m    343\u001b[0m     object_setattr(__pydantic_self__, \u001b[38;5;124m'\u001b[39m\u001b[38;5;124m__dict__\u001b[39m\u001b[38;5;124m'\u001b[39m, values)\n",
      "\u001b[0;31mValidationError\u001b[0m: 1 validation error for final_answerSchema\ntext\n  field required (type=value_error.missing)"
     ]
    }
   ],
   "source": [
    "steps = g.stream(input=state) \n",
    "for step in steps:\n",
    "    print(step)\n",
    "    print(\"----\")"
   ]
  },
  {
   "cell_type": "markdown",
   "id": "b21cb36f-0fb8-4c2c-adf4-d1818cfd8c36",
   "metadata": {},
   "source": [
    "### 5 - Multiple Agents"
   ]
  },
  {
   "cell_type": "markdown",
   "id": "4bf46ba7-e343-4639-89cc-adab77ffb0d0",
   "metadata": {},
   "source": [
    "##### Second Agent"
   ]
  },
  {
   "cell_type": "code",
   "execution_count": 40,
   "id": "a36fd052-bc1c-40f6-9935-b1e1e8554634",
   "metadata": {},
   "outputs": [
    {
     "data": {
      "text/plain": [
       "'James Earl Jones, an American Tony, Emmy, Grammy, and Golden Globe winning actor, passed away on September 9, 2024, at the age of 93. He was best known for his iconic voice as Darth Vader in the Star Wars franchise.'"
      ]
     },
     "execution_count": 40,
     "metadata": {},
     "output_type": "execute_result"
    }
   ],
   "source": [
    "agent_out"
   ]
  },
  {
   "cell_type": "code",
   "execution_count": 53,
   "id": "e2644f03-f1f6-459d-bc39-6b83399afb3d",
   "metadata": {},
   "outputs": [
    {
     "name": "stdout",
     "output_type": "stream",
     "text": [
      "Page: James Earl Jones\n",
      "Summary: James Earl Jones (January 17, 1931 – September 9, 2024) was an American actor. A pioneer for black actors in the entertainment industry, he is known for his extensive and acclaimed roles on stage and screen. Jones is one of the few performers to achieve the EGOT (Emmy, Grammy, Oscar, and Tony). He was inducted into the American Theater Hall of Fame in 1985, and was honored with the National Medal of Arts in 1992, the Kennedy Center Honor in 2002, the Screen Actors Guild Life Achievement Award in 2009, and the Academy Honorary Award in 2011.\n",
      "Born in Arkabutla, Mississippi, Jones had a stutter since childhood. He said that poetry and acting helped him overcome the challenges of his disability. A pre-med major in college, he served as an officer in the U.S. Army during the Korean War before pursuing a career in acting. His deep voice was praised as a \"stirring basso profondo that has lent gravel and gravitas\" to his projects. Jones made his Broadway debut in the play Sunrise at Campobello (1957). He then gained prominence for acting in numerous productions with Shakespeare in the Park including Othello, Hamlet, Coriolanus, and King Lear. He worked steadily in theater, winning the Tony Award for Best Actor in a Play for his role as a boxer in The Great White Hope (1968), which he reprised in the 1970 film adaptation, earning him Academy Award and Golden Globe nominations.\n",
      "Jones won his second Tony Award for Best Actor in a Play for his role as a working class father in August Wilson's Fences (1987). He was a Tony Award nominee for his roles as the husband in Ernest Thompson's On Golden Pond (2005) about an aging couple, and as a former president in the Gore Vidal play The Best Man (2012). His other Broadway performances included Cat on a Hot Tin Roof (2008), Driving Miss Daisy (2010–2011), You Can't Take It with You (2014), and The Gin Game (2015–2016). He received a Special Tony Award for Lifetime Achievement in 2017.\n",
      "Jones made his film debut in Stanley Kubrick's Dr. Strangelove (1964). He received a Golden Globe Award nomination for Claudine (1974). He gained international fame for his voice role as Darth Vader in the Star Wars franchise, beginning with the original 1977 film. Jones's other notable films include The Man (1972), Conan the Barbarian (1982), Matewan (1987), Coming to America (1988), Field of Dreams (1989), The Hunt for Red October (1990), Sneakers (1992), The Sandlot (1993), The Lion King (1994), and Cry, the Beloved Country (1995). On television, he received eight Primetime Emmy Awards nominations winning twice for his roles in thriller film Heat Wave (1990) and the crime series Gabriel's Fire (1991). He also acted in Roots (1977), Jesus of Nazareth (1977), Picket Fences (1994), Homicide: Life on the Street (1997), and Everwood (2004).\n",
      "\n",
      "Page: List of EGOT winners\n",
      "Summary: EGOT, an acronym for the Emmy, Grammy, Oscar, and Tony Awards, is the designation given to people who have won all four of the major American performing art awards. Respectively, these awards honor outstanding achievements in television, audio recording, film, and Broadway theatre. Achieving the EGOT has been referred to as the \"grand slam\" of American show business. Twenty-one people have achieved competitive EGOT status and six others have done so with honorary or special awards. In 2018, Robert Lopez became the first and currently only double EGOT winner.\n",
      "Five competitive and one non-competitive EGOT holder have been dubbed PEGOTs, for additionally having received either a Peabody Award (4) or Pulitzer Prize (2).  \n",
      "\n",
      "\n",
      "\n",
      "Page: List of awards and nominations received by James Earl Jones\n",
      "Summary: This article is a List of awards and nominations received by James Earl Jones.\n",
      "James Earl Jones was an American actor known for his roles on stage and screen. Jones was known as one of the few entertainers to have won the EGOT (Emmy, Grammy, Oscar, Tony). Jones received two Primetime Emmy Awards, a Grammy Award and three To\n"
     ]
    }
   ],
   "source": [
    "from langchain_community.tools import WikipediaQueryRun\n",
    "from langchain_community.utilities import WikipediaAPIWrapper\n",
    "\n",
    "@tool(\"tool_wikipedia\")\n",
    "def tool_wikipedia(q:str) -> str:\n",
    "    \"\"\"Search on Wikipedia by passing the input `q`\"\"\"\n",
    "    return WikipediaQueryRun(api_wrapper=WikipediaAPIWrapper()).run( q[:50] )\n",
    "\n",
    "# test\n",
    "print( tool_wikipedia(agent_out) )"
   ]
  },
  {
   "cell_type": "code",
   "execution_count": 64,
   "id": "403ce9ce-61fd-4107-9d20-c5ce7c2a5465",
   "metadata": {},
   "outputs": [],
   "source": [
    "dic_tools = {\"tool_browser\":tool_browser,\n",
    "             \"final_answer\":final_answer,\n",
    "             \"tool_wikipedia\":tool_wikipedia}"
   ]
  },
  {
   "cell_type": "code",
   "execution_count": 65,
   "id": "b6c5228b-2e0e-462b-9623-2925e404904f",
   "metadata": {},
   "outputs": [],
   "source": [
    "prompt_2 = \"\"\"\n",
    "Your goal is to use the `tool_wikipedia` to enrich the information already available.\n",
    "Note, when using a tool, you provide the tool name and the arguments to use in JSON format. \n",
    "For each call, you MUST ONLY use one tool AND the response format must ALWAYS be in the pattern:\n",
    "```json\n",
    "{\"name\":\"<tool_name>\", \"parameters\": {\"<tool_input_key>\":<tool_input_value>}}\n",
    "```\n",
    "Once you have collected plenty of information to answer the user's question use the `final_answer` tool.\n",
    "\"\"\""
   ]
  },
  {
   "cell_type": "code",
   "execution_count": 66,
   "id": "5a7d02e3-0643-4f52-904b-ab0d7fdb7bfe",
   "metadata": {},
   "outputs": [],
   "source": [
    "def node_agent_2(state):\n",
    "    print(\"--- node_agent 2 ---\")\n",
    "    agent_res = run_agent(prompt=prompt_2, \n",
    "                          dic_tools={k:v for k,v in dic_tools.items() if k in [\"tool_wikipedia\",\"final_answer\"]},\n",
    "                          user_q=state[\"output\"].tool_output, #<--changed user_q to the last output\n",
    "                          chat_history=state[\"chat_history\"], \n",
    "                          lst_res=state[\"lst_res\"])\n",
    "    print(agent_res)\n",
    "    return {\"lst_res\":[agent_res]} #<--must return a the list of agent_res"
   ]
  },
  {
   "cell_type": "markdown",
   "id": "9db696b2-2531-4c84-8f44-821fdf034d4c",
   "metadata": {},
   "source": [
    "##### Human in the Loop"
   ]
  },
  {
   "cell_type": "code",
   "execution_count": 67,
   "id": "65ed8e7f-ac50-406c-9f45-fd8e806cdcfe",
   "metadata": {},
   "outputs": [
    {
     "name": "stdout",
     "output_type": "stream",
     "text": [
      "--- human ---\n"
     ]
    },
    {
     "name": "stdin",
     "output_type": "stream",
     "text": [
      "Should I continue? [Yes/No] -->  yes\n"
     ]
    },
    {
     "name": "stdout",
     "output_type": "stream",
     "text": [
      "next_node: Agent2\n"
     ]
    },
    {
     "name": "stderr",
     "output_type": "stream",
     "text": [
      "\n",
      "KeyboardInterrupt\n",
      "\n"
     ]
    }
   ],
   "source": [
    "# Node\n",
    "def human_node(state):\n",
    "    pass\n",
    "\n",
    "# Conditional Edges\n",
    "def human_edges(state):\n",
    "    print(\"--- human ---\")\n",
    "    user_feedback = input(\"Should I continue? [Yes/No] --> \")\n",
    "    next_node = \"Agent2\" if user_feedback.lower()[0] == \"y\" else END\n",
    "    print(\"next_node:\", next_node)\n",
    "    return next_node #<--must return the next node to go\n",
    "\n",
    "# test\n",
    "human_edges(state)"
   ]
  },
  {
   "cell_type": "markdown",
   "id": "741831c2-a4b9-403b-98f0-dc95b29d7656",
   "metadata": {},
   "source": [
    "##### New Graph"
   ]
  },
  {
   "cell_type": "code",
   "execution_count": null,
   "id": "4fe7b498-4908-44dc-b765-7dbcd52b9eeb",
   "metadata": {},
   "outputs": [],
   "source": [
    "## start the graph\n",
    "workflow = StateGraph(State)\n",
    "\n",
    "########################## Agent 1 ##########################\n",
    "## add Agent node\n",
    "workflow.add_node(node=\"Agent1\", action=node_agent) \n",
    "workflow.set_entry_point(key=\"Agent1\") #<--user query\n",
    "\n",
    "## add Tools nodes\n",
    "workflow.add_node(node=\"tool_browser\", action=node_tool)\n",
    "workflow.add_node(node=\"final_answer\", action=node_tool)\n",
    "\n",
    "## normal_edges to Agent\n",
    "workflow.add_edge(start_key=\"tool_browser\", end_key=\"Agent1\")\n",
    "\n",
    "## conditional_edges from Agent\n",
    "workflow.add_conditional_edges(source=\"Agent1\", path=conditional_edges)\n",
    "\n",
    "########################## Human ##########################\n",
    "## add Human node\n",
    "workflow.add_node(node=\"Human\", action=human_node)\n",
    "\n",
    "## conditional_edges from Human\n",
    "workflow.add_conditional_edges(source=\"final_answer\", path=human_edges)\n",
    "\n",
    "########################## Agent 2 ##########################\n",
    "## add Agent node\n",
    "workflow.add_node(node=\"Agent2\", action=node_agent_2) \n",
    "\n",
    "## add Tools nodes\n",
    "workflow.add_node(node=\"tool_wikipedia\", action=node_tool)\n",
    "\n",
    "## normal_edges to Agent\n",
    "workflow.add_edge(start_key=\"tool_wikipedia\", end_key=\"Agent2\")\n",
    "\n",
    "## conditional_edges from Agent\n",
    "workflow.add_conditional_edges(source=\"Agent2\", path=conditional_edges)\n",
    "\n",
    "########################## End ##########################\n",
    "## end the graph\n",
    "g2 = workflow.compile()\n",
    "\n",
    "## plot\n",
    "display(Image(\n",
    "    g2.get_graph().draw_mermaid_png(draw_method=MermaidDrawMethod.API)\n",
    "))"
   ]
  },
  {
   "cell_type": "code",
   "execution_count": null,
   "id": "fc72cf35-a9ff-4f09-801f-3db39c00536e",
   "metadata": {},
   "outputs": [],
   "source": [
    "out_2 = g2.invoke(input=state)\n",
    "agent_out_2 = out_2['output'].tool_output\n",
    "\n",
    "print(\"----\")\n",
    "agent_out_2"
   ]
  }
 ],
 "metadata": {
  "kernelspec": {
   "display_name": "Python 3 (ipykernel)",
   "language": "python",
   "name": "python3"
  },
  "language_info": {
   "codemirror_mode": {
    "name": "ipython",
    "version": 3
   },
   "file_extension": ".py",
   "mimetype": "text/x-python",
   "name": "python",
   "nbconvert_exporter": "python",
   "pygments_lexer": "ipython3",
   "version": "3.11.0"
  }
 },
 "nbformat": 4,
 "nbformat_minor": 5
}
