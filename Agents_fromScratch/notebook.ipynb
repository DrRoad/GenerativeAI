{
 "cells": [
  {
   "cell_type": "markdown",
   "id": "8214420c-1936-472c-930e-1f4c9efb3809",
   "metadata": {},
   "source": [
    "# GenAI with Python: Agents from scratch"
   ]
  },
  {
   "cell_type": "markdown",
   "id": "53219017-c57b-4ae8-8442-b89f95ff8bdc",
   "metadata": {},
   "source": [
    "###### [Article: TowardsDataScience]()"
   ]
  },
  {
   "cell_type": "markdown",
   "id": "fbd5a8e7-d0ca-4c6c-88b4-1c1e27591b84",
   "metadata": {},
   "source": [
    "### 0 - Setup"
   ]
  },
  {
   "cell_type": "code",
   "execution_count": 1,
   "id": "10f53cd6-8254-40ff-aca4-ca18a1bc7a8a",
   "metadata": {},
   "outputs": [],
   "source": [
    "#pip install langchain --> 0.2.14\n",
    "#pip install langgraph --> 0.2.19\n",
    "#pip install ollama --> 0.3.1"
   ]
  },
  {
   "cell_type": "code",
   "execution_count": 2,
   "id": "ac37da15-9f5f-46b7-99cb-7bb4301ef088",
   "metadata": {},
   "outputs": [
    {
     "data": {
      "text/plain": [
       "{'model': 'llama3.1',\n",
       " 'created_at': '2024-09-20T10:56:47.065168Z',\n",
       " 'message': {'role': 'assistant',\n",
       "  'content': \"I can't predict the future or provide information about people who have not yet passed away. However, I can suggest some ways you might be able to find information about notable deaths that occurred in your specified timeframe.\\n\\nTo find information about deaths, try checking reputable news sources like BBC News, CNN, Al Jazeera, The New York Times, or local newspapers in the areas relevant to your search. You could also look into online obituary platforms and public databases such as Legacy.com, which aggregates death notices from various sources around the world.\\n\\nKeep in mind that information about deaths becomes available after they occur. Therefore, you will not be able to find accurate information about deaths until September 10th, 2024.\"},\n",
       " 'done_reason': 'stop',\n",
       " 'done': True,\n",
       " 'total_duration': 37671301007,\n",
       " 'load_duration': 7421343079,\n",
       " 'prompt_eval_count': 22,\n",
       " 'prompt_eval_duration': 2119155000,\n",
       " 'eval_count': 144,\n",
       " 'eval_duration': 28113921000}"
      ]
     },
     "execution_count": 2,
     "metadata": {},
     "output_type": "execute_result"
    }
   ],
   "source": [
    "import ollama\n",
    "\n",
    "llm = \"llama3.1\"\n",
    "q = '''who died on September 9, 2024?'''\n",
    "\n",
    "res = ollama.chat(model=llm, \n",
    "                  messages=[{\"role\":\"system\", \"content\":\"\"},\n",
    "                            {\"role\":\"user\", \"content\":q}])\n",
    "res"
   ]
  },
  {
   "cell_type": "markdown",
   "id": "65c648ef-bed3-4179-8dcb-d6678abc0faa",
   "metadata": {},
   "source": [
    "### 1 - Tools"
   ]
  },
  {
   "cell_type": "code",
   "execution_count": 3,
   "id": "f6aa2dbe-0aa0-4d57-964b-b8c7aac331e0",
   "metadata": {},
   "outputs": [
    {
     "name": "stderr",
     "output_type": "stream",
     "text": [
      "/var/folders/_z/cl6cx94516g2tlbhzcbl4nfc0000gn/T/ipykernel_1882/2076258990.py:9: LangChainDeprecationWarning: The method `BaseTool.__call__` was deprecated in langchain-core 0.1.47 and will be removed in 1.0. Use invoke instead.\n",
      "  print( tool_browser(q) )\n"
     ]
    },
    {
     "name": "stdout",
     "output_type": "stream",
     "text": [
      "Famous deaths in September 2024. Learn about 17 historical figures, notable people and celebrities who died in Sep 2024 like James Earl Jones and Alberto Fujimori. Rochester, Indiana. September 9, 2024 (79 years old) Vickey Karen Bryant. Atkins, Arkansas. September 9, 2024 (72 years old) Kathleen A. Jenkins. Yonkers, New York. September 9, 2024 (73 years old) Tommy Collins Jr. Actor James Earl Jones, known for his booming voice and many memorable performances, died Monday morning, according to his agent Barry McPherson. ... Mon September 9, 2024 Link Copied! FILE - James Earl Jones arrives before the 84th Academy Awards on Sunday, Feb. 26, 2012, in the Hollywood section of Los Angeles. Jones, who overcame racial prejudice and a severe stutter to become a celebrated icon of stage and screen has died at age 93. His agent, Barry McPherson, confirmed Jones died Monday morning, Sept. 9, 2024, at home. Frankie Beverly. Prince Williams/WireImage. Frankie Beverly, the soul and R&B legend who founded the funk band Maze, has died at 77. His family announced the news in a Sep. 11 Instagram post ...\n"
     ]
    }
   ],
   "source": [
    "from langchain_core.tools import tool\n",
    "from langchain_community.tools import DuckDuckGoSearchRun\n",
    "\n",
    "@tool(\"tool_browser\")\n",
    "def tool_browser(q:str) -> str:\n",
    "    \"\"\"Search on DuckDuckGo browser\"\"\"\n",
    "    return DuckDuckGoSearchRun().run(q)\n",
    "\n",
    "print( tool_browser(q) )"
   ]
  },
  {
   "cell_type": "code",
   "execution_count": 4,
   "id": "95293ae9-3422-4f48-af4c-6eb4be196416",
   "metadata": {},
   "outputs": [
    {
     "name": "stdout",
     "output_type": "stream",
     "text": [
      "yo\n"
     ]
    }
   ],
   "source": [
    "@tool(\"final_answer\")\n",
    "def final_answer(text:str) -> str:\n",
    "    \"\"\"Returns a natural language response to the user. \n",
    "    You should provide as much context as possible and specify the source of the information.\n",
    "    \"\"\"\n",
    "    return text\n",
    "\n",
    "print( final_answer(\"yo\") )"
   ]
  },
  {
   "cell_type": "code",
   "execution_count": 5,
   "id": "79657a90-ef3c-42db-a067-6829018f3f7b",
   "metadata": {},
   "outputs": [],
   "source": [
    "dic_tools = {\"tool_browser\":tool_browser, \n",
    "             \"final_answer\":final_answer}"
   ]
  },
  {
   "cell_type": "markdown",
   "id": "f182ae77-bed0-4262-b559-3f9c5a4de070",
   "metadata": {},
   "source": [
    "### 2 - Decision Making"
   ]
  },
  {
   "cell_type": "code",
   "execution_count": 6,
   "id": "952d7dad-b331-4e74-8f2d-6301d0d39f3a",
   "metadata": {},
   "outputs": [],
   "source": [
    "prompt = \"\"\"\n",
    "You know everything, you must answer every question from the user, you can use the list of tools provided to you.\n",
    "Your goal is to provide the user with the best possible answer, including key information about the sources and tools used.\n",
    "\n",
    "Note, when using a tool, you provide the tool name and the arguments to use in JSON format. \n",
    "For each call, you MUST ONLY use one tool AND the response format must ALWAYS be in the pattern:\n",
    "```json\n",
    "{\"name\":\"<tool_name>\", \"parameters\": {\"<tool_input_key>\":<tool_input_value>}}\n",
    "```\n",
    "Remember, do NOT use any tool with the same query more than once.\n",
    "Remember, if the user doesn't ask a specific question, you MUST use the `final_answer` tool directly.\n",
    "\n",
    "Every time the user asks a question, you take note of some keywords in the memory.\n",
    "Every time you find some information related to the user's question, you take note of some keywords in the memory.\n",
    "\n",
    "You should aim to collect information from a diverse range of sources before providing the answer to the user. \n",
    "Once you have collected plenty of information to answer the user's question use the `final_answer` tool.\n",
    "\"\"\""
   ]
  },
  {
   "cell_type": "code",
   "execution_count": 7,
   "id": "52813d8f-2579-4925-98df-55bfa5df1d53",
   "metadata": {},
   "outputs": [
    {
     "name": "stdout",
     "output_type": "stream",
     "text": [
      "You can use the following tools:\n",
      "1. `tool_browser`: Search on DuckDuckGo browser\n",
      "2. `final_answer`: Returns a natural language response to the user. \n",
      "    You should provide as much context as possible and specify the source of the information.\n"
     ]
    }
   ],
   "source": [
    "str_tools = \"\\n\".join([str(n+1)+\". `\"+str(v.name)+\"`: \"+str(v.description) for n,v in enumerate(dic_tools.values())])\n",
    "\n",
    "prompt_tools = f\"You can use the following tools:\\n{str_tools}\"\n",
    "print(prompt_tools)"
   ]
  },
  {
   "cell_type": "code",
   "execution_count": 9,
   "id": "c76fbe59-b967-458f-b8f3-a99b54bf4a0a",
   "metadata": {},
   "outputs": [
    {
     "name": "stdout",
     "output_type": "stream",
     "text": [
      "{'created_at': '2024-09-20T10:57:33.954938Z',\n",
      " 'done': True,\n",
      " 'done_reason': 'stop',\n",
      " 'eval_count': 24,\n",
      " 'eval_duration': 3835831000,\n",
      " 'load_duration': 26255423,\n",
      " 'message': {'content': '{\"name\":\"final_answer\", \"parameters\": '\n",
      "                        '{\"message\":\"Hello! I\\'m happy to chat with you.\"}}',\n",
      "             'role': 'assistant'},\n",
      " 'model': 'llama3.1',\n",
      " 'prompt_eval_count': 309,\n",
      " 'prompt_eval_duration': 218874000,\n",
      " 'total_duration': 4084199400}\n"
     ]
    }
   ],
   "source": [
    "# LLM deciding what tool to use\n",
    "from pprint import pprint\n",
    "\n",
    "llm_res = ollama.chat(\n",
    "    model=llm,\n",
    "    messages=[{\"role\":\"system\", \"content\":prompt+\"\\n\"+prompt_tools},\n",
    "              {\"role\":\"user\", \"content\":\"hello\"}\n",
    "             ], format=\"json\")\n",
    "\n",
    "pprint(llm_res)"
   ]
  },
  {
   "cell_type": "code",
   "execution_count": 10,
   "id": "9e61195b-cd68-4e22-b335-3a88477c8f6e",
   "metadata": {},
   "outputs": [
    {
     "data": {
      "text/plain": [
       "'{\"name\":\"tool_browser\", \"parameters\": {\"q\":\"September 9 2024 death news\"}}'"
      ]
     },
     "execution_count": 10,
     "metadata": {},
     "output_type": "execute_result"
    }
   ],
   "source": [
    "# LLM deciding what tool to use (output format = json)\n",
    "llm_res = ollama.chat(\n",
    "    model=llm,\n",
    "    messages=[{\"role\":\"system\", \"content\":prompt+\"\\n\"+prompt_tools},\n",
    "              {\"role\":\"user\", \"content\":q}\n",
    "             ], format=\"json\")\n",
    "\n",
    "llm_res[\"message\"][\"content\"]"
   ]
  },
  {
   "cell_type": "code",
   "execution_count": 11,
   "id": "b97d4e7f-4d9a-439c-a508-9c40cc44a3f3",
   "metadata": {},
   "outputs": [
    {
     "data": {
      "text/plain": [
       "'September 9 2024 death news'"
      ]
     },
     "execution_count": 11,
     "metadata": {},
     "output_type": "execute_result"
    }
   ],
   "source": [
    "import json\n",
    "\n",
    "input = json.loads(llm_res[\"message\"][\"content\"])[\"parameters\"][\"q\"]\n",
    "input"
   ]
  },
  {
   "cell_type": "code",
   "execution_count": 12,
   "id": "b37eb027-6fe8-448c-8094-570679c89fa8",
   "metadata": {},
   "outputs": [
    {
     "name": "stdout",
     "output_type": "stream",
     "text": [
      "tool output:\n",
      " FILE - James Earl Jones arrives before the 84th Academy Awards on Sunday, Feb. 26, 2012, in the Hollywood section of Los Angeles. Jones, who overcame racial prejudice and a severe stutter to become a celebrated icon of stage and screen has died at age 93. His agent, Barry McPherson, confirmed Jones died Monday morning, Sept. 9, 2024, at home. James Earl Jones sits for a portrait in September 2014. Jesse Dittmar for The Washington Post/Getty Images Jones, seen here in 1960, was born in Arkabutla, Mississippi, in 1931. September 9, 2024 1:33pm. James Earl Jones in 2015 WireImage. James Earl Jones, the revered actor who voiced Star Wars villain Darth Vader, starred in Field of Dreams and many other films and ... Sep 1 John Schultz, Australian Football HOF ruckman (Brownlow Medal 1960; All Australian 1961; Victoria 24 games; Footscray FC), dies at 85. Sep 2 Aleksandr Medved, Ukrainian freestyle wrestler (Olympic gold USSR heavyweight 1964, 68, 72; World C'ship gold x 7), dies at 86. Sep 2 James Darren [Ercolani], American actor (TJ Hooker; Gidget movies ... Frankie Beverly. Prince Williams/WireImage. Frankie Beverly, the soul and R&B legend who founded the funk band Maze, has died at 77. His family announced the news in a Sep. 11 Instagram post ...\n",
      "\n",
      "llm output:\n",
      " James Earl Jones died on Monday morning, September 9, 2024, at age 93.\n"
     ]
    }
   ],
   "source": [
    "# LLM with context\n",
    "context = tool_browser(input)\n",
    "print(\"tool output:\\n\", context)\n",
    "\n",
    "llm_output = ollama.chat(\n",
    "    model=llm,\n",
    "    messages=[{\"role\":\"system\", \"content\":\"Give the most accurate answer using the folling information:\\n\"+context},\n",
    "              {\"role\":\"user\", \"content\":q}\n",
    "             ])\n",
    "\n",
    "print(\"\\nllm output:\\n\", llm_output[\"message\"][\"content\"])"
   ]
  },
  {
   "cell_type": "markdown",
   "id": "abc0ff2b-28cf-43f2-beda-cd620c4f534a",
   "metadata": {},
   "source": [
    "### 3 - Agent"
   ]
  },
  {
   "cell_type": "markdown",
   "id": "46a2a13d-72eb-4fcb-a925-2326aed74869",
   "metadata": {},
   "source": [
    "##### Data Structure"
   ]
  },
  {
   "cell_type": "code",
   "execution_count": 13,
   "id": "fe47f093-1152-46a9-98c1-6bf60a725603",
   "metadata": {},
   "outputs": [
    {
     "name": "stdout",
     "output_type": "stream",
     "text": [
      "from\n",
      " {\"name\":\"tool_browser\", \"parameters\": {\"q\":\"September 9 2024 death news\"}} \n",
      "to\n"
     ]
    },
    {
     "data": {
      "text/plain": [
       "AgentRes(tool_name='tool_browser', tool_input={'q': 'September 9 2024 death news'}, tool_output=None)"
      ]
     },
     "execution_count": 13,
     "metadata": {},
     "output_type": "execute_result"
    }
   ],
   "source": [
    "from pydantic import BaseModel #this is the standard class\n",
    "\n",
    "# Taking for example the last LLM response, I want this structure:\n",
    "# {tool_name: 'tool_browser', \n",
    "#  tool_input: {'q':'September 9 2024 deaths'}, \n",
    "#  tool_output: str( tool_browser({'q':'September 9 2024 deaths'})) }\n",
    "\n",
    "class AgentRes(BaseModel):\n",
    "    tool_name: str  #<--must be a string = 'tool_browser'\n",
    "    tool_input: dict #<--must be a dictionary = {'q':'September 9 2024 deaths'}\n",
    "    tool_output: str | None = None #can be a string or None, default = None\n",
    "    \n",
    "    @classmethod\n",
    "    def from_llm(cls, res:dict): #<--return the class itself\n",
    "        try:\n",
    "            out = json.loads(res[\"message\"][\"content\"])\n",
    "            return cls(tool_name=out[\"name\"], tool_input=out[\"parameters\"])\n",
    "        except Exception as e:\n",
    "            print(f\"Error from Ollama:\\n{res}\\n\")\n",
    "            raise e\n",
    "\n",
    "# test\n",
    "agent_res = AgentRes.from_llm(llm_res)\n",
    "print(\"from\\n\", llm_res[\"message\"][\"content\"], \"\\nto\")\n",
    "agent_res"
   ]
  },
  {
   "cell_type": "code",
   "execution_count": 14,
   "id": "cb5339f4-4a1e-454b-b764-a2e0346e3ef4",
   "metadata": {},
   "outputs": [
    {
     "data": {
      "text/plain": [
       "AgentRes(tool_name='tool_browser', tool_input={'q': 'September 9 2024 deaths'}, tool_output='Famous deaths in September 2024. Learn about 17 historical figures, notable people and celebrities who died in Sep 2024 like James Earl Jones and Alberto Fujimori. Menu. ... James Earl Jones (1931-2024) Sep 9 American Tony, Emmy, Grammy, and Golden Globe winning actor (The Great White Hope; Star Wars - \"voice of Darth Vader\"; Field Of Dreams\"), ... 1926 William S. Scarborough, American linguist and author (Birds of Aristophanes), dies at 74. 1931 Lujo Brentano, German economist and social reformer, dies at 86. 1934 Roger Fry, English artist and art critic, dies at 67. 1941 Gustav Ehrismann, German author and expert on the German language, dies at 85. Updated on September 19, 2024 01:06AM EDT. After saying sad and shocking goodbyes to the many stars who died in 2023, ... died at Aug. 9 at age 74. A cause of death was not immediately released ... Overall, state media reported 21 deaths and at least 299 people injured from the weekend. A man checks his damaged boat on September 8, 2024, after Typhoon Yagi hit Ha Long Bay, in Quang Ninh ... September 9, 2024 4:30PM. Gold Derby. Throughout 2024, we will continue to update this IN MEMORIAM photo gallery with notable celebrity deaths from film, television, theater and music. Major ...')"
      ]
     },
     "execution_count": 14,
     "metadata": {},
     "output_type": "execute_result"
    }
   ],
   "source": [
    "# test the tool output\n",
    "AgentRes(tool_name=\"tool_browser\", \n",
    "         tool_input={'q':'September 9 2024 deaths'}, \n",
    "         tool_output=str( tool_browser({'q':'September 9 2024 deaths'})) )"
   ]
  },
  {
   "cell_type": "markdown",
   "id": "f89d37c6-a49f-47e4-9e83-89e0a1e7b111",
   "metadata": {},
   "source": [
    "##### Memory System"
   ]
  },
  {
   "cell_type": "code",
   "execution_count": 16,
   "id": "05a313a5-eab2-4bfc-a96d-7fd0cd0cd870",
   "metadata": {},
   "outputs": [
    {
     "data": {
      "text/plain": [
       "[]"
      ]
     },
     "execution_count": 16,
     "metadata": {},
     "output_type": "execute_result"
    }
   ],
   "source": [
    "'''\n",
    "Messages in Memory will have this structure:\n",
    "[{'role':'assistant', 'content':'{\"name\":\"final_answer\", \"parameters\":{\"text\":\"How can I assist you today?\"}}'},\n",
    " {'role':'user', 'content':None}]\n",
    "'''\n",
    "\n",
    "def save_memory(lst_res:list[AgentRes], user_q:str) -> list:\n",
    "    ## create\n",
    "    memory = []\n",
    "    for res in [res for res in lst_res if res.tool_output is not None]:\n",
    "        memory.extend([\n",
    "            ### assistant message\n",
    "            {\"role\": \"assistant\", \"content\": json.dumps({\"name\":res.tool_name, \"parameters\":res.tool_input})},\n",
    "            ### user message\n",
    "            {\"role\":\"user\", \"content\":res.tool_output}\n",
    "        ])\n",
    "    \n",
    "    ## add a reminder of the original goal\n",
    "    if memory:\n",
    "        memory += [{\"role\":\"user\", \"content\":(f'''\n",
    "                This is just a reminder that my original query was `{user_q}`.\n",
    "                Only answer to the original query, and nothing else, but use the information I gave you. \n",
    "                Provide as much information as possible when you use the `final_answer` tool.\n",
    "                ''')}]\n",
    "    return memory\n",
    "\n",
    "save_memory(lst_res=[agent_res], user_q=q)"
   ]
  },
  {
   "cell_type": "code",
   "execution_count": 17,
   "id": "8587b83a-c1aa-4b78-a23a-ba1db31571b6",
   "metadata": {},
   "outputs": [],
   "source": [
    "chat_history = [{\"role\": \"user\", \"content\": \"hi there, how are you?\"},\n",
    "                {\"role\": \"assistant\", \"content\": \"I'm good, thanks!\"},\n",
    "                {\"role\": \"user\", \"content\": \"I have a question\"},\n",
    "                {\"role\": \"assistant\", \"content\": \"tell me\"}]"
   ]
  },
  {
   "cell_type": "markdown",
   "id": "22fc2702-61d5-4ed5-b958-8d0c29645c18",
   "metadata": {},
   "source": [
    "##### Run the Agent"
   ]
  },
  {
   "cell_type": "code",
   "execution_count": 21,
   "id": "623dcfac-fde3-41a2-bc74-9aa47d1d1b51",
   "metadata": {},
   "outputs": [
    {
     "name": "stdout",
     "output_type": "stream",
     "text": [
      "[{'content': '\\n'\n",
      "             'You know everything, you must answer every question from the '\n",
      "             'user, you can use the list of tools provided to you.\\n'\n",
      "             'Your goal is to provide the user with the best possible answer, '\n",
      "             'including key information about the sources and tools used.\\n'\n",
      "             '\\n'\n",
      "             'Note, when using a tool, you provide the tool name and the '\n",
      "             'arguments to use in JSON format. \\n'\n",
      "             'For each call, you MUST ONLY use one tool AND the response '\n",
      "             'format must ALWAYS be in the pattern:\\n'\n",
      "             '```json\\n'\n",
      "             '{\"name\":\"<tool_name>\", \"parameters\": '\n",
      "             '{\"<tool_input_key>\":<tool_input_value>}}\\n'\n",
      "             '```\\n'\n",
      "             'Remember, do NOT use any tool with the same query more than '\n",
      "             'once.\\n'\n",
      "             \"Remember, if the user doesn't ask a specific question, you MUST \"\n",
      "             'use the `final_answer` tool directly.\\n'\n",
      "             '\\n'\n",
      "             'Every time the user asks a question, you take note of some '\n",
      "             'keywords in the memory.\\n'\n",
      "             \"Every time you find some information related to the user's \"\n",
      "             'question, you take note of some keywords in the memory.\\n'\n",
      "             '\\n'\n",
      "             'You should aim to collect information from a diverse range of '\n",
      "             'sources before providing the answer to the user. \\n'\n",
      "             'Once you have collected plenty of information to answer the '\n",
      "             \"user's question use the `final_answer` tool.\\n\"\n",
      "             '\\n'\n",
      "             'You can use the following tools:\\n'\n",
      "             '1. `tool_browser`: Search on DuckDuckGo browser\\n'\n",
      "             '2. `final_answer`: Returns a natural language response to the '\n",
      "             'user. \\n'\n",
      "             '    You should provide as much context as possible and specify '\n",
      "             'the source of the information.',\n",
      "  'role': 'system'},\n",
      " {'content': 'hi there, how are you?', 'role': 'user'},\n",
      " {'content': \"I'm good, thanks!\", 'role': 'assistant'},\n",
      " {'content': 'I have a question', 'role': 'user'},\n",
      " {'content': 'tell me', 'role': 'assistant'},\n",
      " {'content': 'who died on September 9, 2024?', 'role': 'user'}]\n",
      "\n",
      "agent_res: tool_name='tool_browser' tool_input={'q': 'September 9 2024 death'} tool_output=None\n"
     ]
    }
   ],
   "source": [
    "def run_agent(user_q:str, chat_history:list[dict], lst_res:list[AgentRes], lst_tools:list) -> AgentRes:\n",
    "    ## start memory\n",
    "    memory = save_memory(lst_res=lst_res, user_q=user_q)\n",
    "    \n",
    "    ## track used tools\n",
    "    if memory:\n",
    "        tools_used = [res.tool_name for res in lst_res]\n",
    "        if len(tools_used) >= len(lst_tools):\n",
    "            memory[-1][\"content\"] = \"You must now use the `final_answer` tool.\"\n",
    "        \n",
    "    ## messages\n",
    "    messages = [{\"role\":\"system\", \"content\":prompt+\"\\n\"+prompt_tools},\n",
    "                *chat_history,\n",
    "                {\"role\":\"user\", \"content\":user_q},\n",
    "                *memory]\n",
    "    pprint(messages)\n",
    "    \n",
    "    ## output\n",
    "    llm_res = ollama.chat(model=llm, messages=messages, format=\"json\")\n",
    "    return AgentRes.from_llm(llm_res)\n",
    "\n",
    "# test\n",
    "agent_res = run_agent(user_q=q, chat_history=chat_history, lst_res=[], lst_tools=dic_tools.keys())\n",
    "print(\"\\nagent_res:\", agent_res)"
   ]
  },
  {
   "cell_type": "markdown",
   "id": "d9ab77b7-8380-4b4c-9914-c34c0404798f",
   "metadata": {},
   "source": [
    "### 4 - Graph Workflow"
   ]
  },
  {
   "cell_type": "markdown",
   "id": "79e9aad9-b664-4cc1-8085-26364bf041a1",
   "metadata": {},
   "source": [
    "##### State"
   ]
  },
  {
   "cell_type": "code",
   "execution_count": 22,
   "id": "fd64eaa3-6bc7-41e0-86a3-6061ba24b468",
   "metadata": {},
   "outputs": [
    {
     "data": {
      "text/plain": [
       "{'user_q': 'who died on September 9, 2024?',\n",
       " 'chat_history': [{'role': 'user', 'content': 'hi there, how are you?'},\n",
       "  {'role': 'assistant', 'content': \"I'm good, thanks!\"},\n",
       "  {'role': 'user', 'content': 'I have a question'},\n",
       "  {'role': 'assistant', 'content': 'tell me'}],\n",
       " 'lst_res': [AgentRes(tool_name='tool_browser', tool_input={'q': 'September 9 2024 death'}, tool_output=None)],\n",
       " 'output': {}}"
      ]
     },
     "execution_count": 22,
     "metadata": {},
     "output_type": "execute_result"
    }
   ],
   "source": [
    "import typing\n",
    "\n",
    "class State(typing.TypedDict):\n",
    "    user_q: str\n",
    "    chat_history: list \n",
    "    lst_res: list[AgentRes]\n",
    "    output: dict\n",
    "\n",
    "# test\n",
    "state = State({\"user_q\":q, \"chat_history\":chat_history, \"lst_res\":[agent_res], \"output\":{}})\n",
    "state"
   ]
  },
  {
   "cell_type": "markdown",
   "id": "8d0581b8-ca39-4e08-b279-f69b9fdedb2c",
   "metadata": {},
   "source": [
    "##### Nodes"
   ]
  },
  {
   "cell_type": "code",
   "execution_count": 24,
   "id": "982a35b4-2523-44b7-99e8-8537a19ce0f5",
   "metadata": {},
   "outputs": [
    {
     "name": "stdout",
     "output_type": "stream",
     "text": [
      "--- node_agent ---\n",
      "[{'content': '\\n'\n",
      "             'You know everything, you must answer every question from the '\n",
      "             'user, you can use the list of tools provided to you.\\n'\n",
      "             'Your goal is to provide the user with the best possible answer, '\n",
      "             'including key information about the sources and tools used.\\n'\n",
      "             '\\n'\n",
      "             'Note, when using a tool, you provide the tool name and the '\n",
      "             'arguments to use in JSON format. \\n'\n",
      "             'For each call, you MUST ONLY use one tool AND the response '\n",
      "             'format must ALWAYS be in the pattern:\\n'\n",
      "             '```json\\n'\n",
      "             '{\"name\":\"<tool_name>\", \"parameters\": '\n",
      "             '{\"<tool_input_key>\":<tool_input_value>}}\\n'\n",
      "             '```\\n'\n",
      "             'Remember, do NOT use any tool with the same query more than '\n",
      "             'once.\\n'\n",
      "             \"Remember, if the user doesn't ask a specific question, you MUST \"\n",
      "             'use the `final_answer` tool directly.\\n'\n",
      "             '\\n'\n",
      "             'Every time the user asks a question, you take note of some '\n",
      "             'keywords in the memory.\\n'\n",
      "             \"Every time you find some information related to the user's \"\n",
      "             'question, you take note of some keywords in the memory.\\n'\n",
      "             '\\n'\n",
      "             'You should aim to collect information from a diverse range of '\n",
      "             'sources before providing the answer to the user. \\n'\n",
      "             'Once you have collected plenty of information to answer the '\n",
      "             \"user's question use the `final_answer` tool.\\n\"\n",
      "             '\\n'\n",
      "             'You can use the following tools:\\n'\n",
      "             '1. `tool_browser`: Search on DuckDuckGo browser\\n'\n",
      "             '2. `final_answer`: Returns a natural language response to the '\n",
      "             'user. \\n'\n",
      "             '    You should provide as much context as possible and specify '\n",
      "             'the source of the information.',\n",
      "  'role': 'system'},\n",
      " {'content': 'hi there, how are you?', 'role': 'user'},\n",
      " {'content': \"I'm good, thanks!\", 'role': 'assistant'},\n",
      " {'content': 'I have a question', 'role': 'user'},\n",
      " {'content': 'tell me', 'role': 'assistant'},\n",
      " {'content': 'who died on September 9, 2024?', 'role': 'user'}]\n"
     ]
    },
    {
     "data": {
      "text/plain": [
       "{'lst_res': [AgentRes(tool_name='tool_browser', tool_input={'q': 'September 9 2024 death'}, tool_output=None)]}"
      ]
     },
     "execution_count": 24,
     "metadata": {},
     "output_type": "execute_result"
    }
   ],
   "source": [
    "# Agent\n",
    "def node_agent(state):\n",
    "    print(\"--- node_agent ---\")\n",
    "    agent_res = run_agent(user_q=state[\"user_q\"], \n",
    "                          chat_history=state[\"chat_history\"], \n",
    "                          lst_res=state[\"lst_res\"],\n",
    "                          lst_tools=dic_tools.keys())\n",
    "    return {\"lst_res\":[agent_res]} #<--must return a the list of agent_res\n",
    "\n",
    "# test\n",
    "node_agent(state)"
   ]
  },
  {
   "cell_type": "code",
   "execution_count": 25,
   "id": "7d66fa3e-7de0-4ea7-90e7-26665cb9b3df",
   "metadata": {},
   "outputs": [
    {
     "name": "stdout",
     "output_type": "stream",
     "text": [
      "--- node_tool ---\n",
      "run_tool --> tool_browser(input={'q': 'September 9 2024 death'})\n"
     ]
    },
    {
     "data": {
      "text/plain": [
       "{'lst_res': [AgentRes(tool_name='tool_browser', tool_input={'q': 'September 9 2024 death'}, tool_output='September 9, 2024 (80 years old) Andrew Wayne Volkers. Sweet Home, Oregon. September 9, 2024 (43 years old) Donald D. Isgrigg. Rushville, Indiana. September 9, 2024 (71 years old) Lenore Jane Bartley. Rocky Hill, Connecticut. Actor James Earl Jones, known for his booming voice and many memorable performances, died Monday morning, according to his agent Barry McPherson. ... Mon September 9, 2024 Link Copied! Famous deaths in September 2024. Learn about 17 historical figures, notable people and celebrities who died in Sep 2024 like James Earl Jones and Alberto Fujimori. Frankie Beverly. Prince Williams/WireImage. Frankie Beverly, the soul and R&B legend who founded the funk band Maze, has died at 77. His family announced the news in a Sep. 11 Instagram post ... FILE - James Earl Jones arrives before the 84th Academy Awards on Sunday, Feb. 26, 2012, in the Hollywood section of Los Angeles. Jones, who overcame racial prejudice and a severe stutter to become a celebrated icon of stage and screen has died at age 93. His agent, Barry McPherson, confirmed Jones died Monday morning, Sept. 9, 2024, at home.')]}"
      ]
     },
     "execution_count": 25,
     "metadata": {},
     "output_type": "execute_result"
    }
   ],
   "source": [
    "# Tools\n",
    "def node_tool(state):\n",
    "    print(\"--- node_tool ---\")\n",
    "    res = state[\"lst_res\"][-1]\n",
    "    print(f\"run_tool --> {res.tool_name}(input={res.tool_input})\")\n",
    "    \n",
    "    agent_res = AgentRes(tool_name=res.tool_name, \n",
    "                         tool_input=res.tool_input, \n",
    "                         tool_output=str(dic_tools[res.tool_name](res.tool_input)) )\n",
    "    \n",
    "    return {\"output\":agent_res} if res.tool_name == \"final_answer\" else {\"lst_res\":[agent_res]}\n",
    "\n",
    "# test\n",
    "node_tool(state)"
   ]
  },
  {
   "cell_type": "markdown",
   "id": "f0b55681-db5b-4650-955a-875d1c7da163",
   "metadata": {},
   "source": [
    "##### Edges"
   ]
  },
  {
   "cell_type": "code",
   "execution_count": 26,
   "id": "fe58b028-e548-430c-a009-608b144aae72",
   "metadata": {},
   "outputs": [
    {
     "name": "stdout",
     "output_type": "stream",
     "text": [
      "--- edges ---\n"
     ]
    },
    {
     "data": {
      "text/plain": [
       "'tool_browser'"
      ]
     },
     "execution_count": 26,
     "metadata": {},
     "output_type": "execute_result"
    }
   ],
   "source": [
    "def edges(state):\n",
    "    print(\"--- edges ---\")\n",
    "    return state[\"lst_res\"][-1].tool_name if isinstance(state[\"lst_res\"], list) else \"final_answer\"\n",
    "\n",
    "edges(state)"
   ]
  },
  {
   "cell_type": "markdown",
   "id": "6cb86f8a-f7c6-41d5-b314-c07c7b385ba9",
   "metadata": {},
   "source": [
    "##### Graph"
   ]
  },
  {
   "cell_type": "code",
   "execution_count": 27,
   "id": "3559fc30-33ce-466a-88be-ebe85985084b",
   "metadata": {},
   "outputs": [],
   "source": [
    "from langgraph.graph import StateGraph, END\n",
    "\n",
    "## start the graph\n",
    "workflow = StateGraph(State)\n",
    "\n",
    "## add Agent node\n",
    "workflow.add_node(node=\"Agent\", action=node_agent) \n",
    "workflow.set_entry_point(key=\"Agent\")  #<--user query\n",
    "\n",
    "## add Tools nodes\n",
    "for k in dic_tools.keys():\n",
    "    workflow.add_node(node=k, action=node_tool)\n",
    "\n",
    "## edges from Agent\n",
    "workflow.add_conditional_edges(source=\"Agent\", path=edges)\n",
    "\n",
    "## edges to Agent\n",
    "for k in dic_tools.keys():\n",
    "    if k != \"final_answer\":\n",
    "        workflow.add_edge(start_key=k, end_key=\"Agent\")\n",
    "\n",
    "## end the graph\n",
    "workflow.add_edge(start_key=\"final_answer\", end_key=END)\n",
    "g = workflow.compile()"
   ]
  },
  {
   "cell_type": "code",
   "execution_count": 28,
   "id": "5ccd3876-579f-463c-8a8f-29baea3c5574",
   "metadata": {},
   "outputs": [
    {
     "data": {
      "image/jpeg": "[encoded data removed]",
      "text/plain": [
       "<IPython.core.display.Image object>"
      ]
     },
     "metadata": {},
     "output_type": "display_data"
    }
   ],
   "source": [
    "from IPython.display import Image, display\n",
    "from langchain_core.runnables.graph import MermaidDrawMethod\n",
    "\n",
    "display(Image(\n",
    "    g.get_graph().draw_mermaid_png(draw_method=MermaidDrawMethod.API)\n",
    "))"
   ]
  },
  {
   "cell_type": "markdown",
   "id": "1daf810a-4da2-46a3-91b5-87693c58c658",
   "metadata": {},
   "source": [
    "##### Run"
   ]
  },
  {
   "cell_type": "code",
   "execution_count": 29,
   "id": "b38fc540-3b6f-44bf-aa08-652ae56ddeb1",
   "metadata": {},
   "outputs": [
    {
     "name": "stdout",
     "output_type": "stream",
     "text": [
      "--- node_agent ---\n",
      "[{'content': '\\n'\n",
      "             'You know everything, you must answer every question from the '\n",
      "             'user, you can use the list of tools provided to you.\\n'\n",
      "             'Your goal is to provide the user with the best possible answer, '\n",
      "             'including key information about the sources and tools used.\\n'\n",
      "             '\\n'\n",
      "             'Note, when using a tool, you provide the tool name and the '\n",
      "             'arguments to use in JSON format. \\n'\n",
      "             'For each call, you MUST ONLY use one tool AND the response '\n",
      "             'format must ALWAYS be in the pattern:\\n'\n",
      "             '```json\\n'\n",
      "             '{\"name\":\"<tool_name>\", \"parameters\": '\n",
      "             '{\"<tool_input_key>\":<tool_input_value>}}\\n'\n",
      "             '```\\n'\n",
      "             'Remember, do NOT use any tool with the same query more than '\n",
      "             'once.\\n'\n",
      "             \"Remember, if the user doesn't ask a specific question, you MUST \"\n",
      "             'use the `final_answer` tool directly.\\n'\n",
      "             '\\n'\n",
      "             'Every time the user asks a question, you take note of some '\n",
      "             'keywords in the memory.\\n'\n",
      "             \"Every time you find some information related to the user's \"\n",
      "             'question, you take note of some keywords in the memory.\\n'\n",
      "             '\\n'\n",
      "             'You should aim to collect information from a diverse range of '\n",
      "             'sources before providing the answer to the user. \\n'\n",
      "             'Once you have collected plenty of information to answer the '\n",
      "             \"user's question use the `final_answer` tool.\\n\"\n",
      "             '\\n'\n",
      "             'You can use the following tools:\\n'\n",
      "             '1. `tool_browser`: Search on DuckDuckGo browser\\n'\n",
      "             '2. `final_answer`: Returns a natural language response to the '\n",
      "             'user. \\n'\n",
      "             '    You should provide as much context as possible and specify '\n",
      "             'the source of the information.',\n",
      "  'role': 'system'},\n",
      " {'content': 'hi there, how are you?', 'role': 'user'},\n",
      " {'content': \"I'm good, thanks!\", 'role': 'assistant'},\n",
      " {'content': 'I have a question', 'role': 'user'},\n",
      " {'content': 'tell me', 'role': 'assistant'},\n",
      " {'content': 'who died on September 9, 2024?', 'role': 'user'}]\n",
      "--- edges ---\n",
      "--- node_tool ---\n",
      "run_tool --> tool_browser(input={'q': 'September 9 2024 death news'})\n",
      "--- node_agent ---\n",
      "[{'content': '\\n'\n",
      "             'You know everything, you must answer every question from the '\n",
      "             'user, you can use the list of tools provided to you.\\n'\n",
      "             'Your goal is to provide the user with the best possible answer, '\n",
      "             'including key information about the sources and tools used.\\n'\n",
      "             '\\n'\n",
      "             'Note, when using a tool, you provide the tool name and the '\n",
      "             'arguments to use in JSON format. \\n'\n",
      "             'For each call, you MUST ONLY use one tool AND the response '\n",
      "             'format must ALWAYS be in the pattern:\\n'\n",
      "             '```json\\n'\n",
      "             '{\"name\":\"<tool_name>\", \"parameters\": '\n",
      "             '{\"<tool_input_key>\":<tool_input_value>}}\\n'\n",
      "             '```\\n'\n",
      "             'Remember, do NOT use any tool with the same query more than '\n",
      "             'once.\\n'\n",
      "             \"Remember, if the user doesn't ask a specific question, you MUST \"\n",
      "             'use the `final_answer` tool directly.\\n'\n",
      "             '\\n'\n",
      "             'Every time the user asks a question, you take note of some '\n",
      "             'keywords in the memory.\\n'\n",
      "             \"Every time you find some information related to the user's \"\n",
      "             'question, you take note of some keywords in the memory.\\n'\n",
      "             '\\n'\n",
      "             'You should aim to collect information from a diverse range of '\n",
      "             'sources before providing the answer to the user. \\n'\n",
      "             'Once you have collected plenty of information to answer the '\n",
      "             \"user's question use the `final_answer` tool.\\n\"\n",
      "             '\\n'\n",
      "             'You can use the following tools:\\n'\n",
      "             '1. `tool_browser`: Search on DuckDuckGo browser\\n'\n",
      "             '2. `final_answer`: Returns a natural language response to the '\n",
      "             'user. \\n'\n",
      "             '    You should provide as much context as possible and specify '\n",
      "             'the source of the information.',\n",
      "  'role': 'system'},\n",
      " {'content': 'hi there, how are you?', 'role': 'user'},\n",
      " {'content': \"I'm good, thanks!\", 'role': 'assistant'},\n",
      " {'content': 'I have a question', 'role': 'user'},\n",
      " {'content': 'tell me', 'role': 'assistant'},\n",
      " {'content': 'who died on September 9, 2024?', 'role': 'user'},\n",
      " {'content': '{\"name\": \"tool_browser\", \"parameters\": {\"q\": \"September 9 2024 '\n",
      "             'death news\"}}',\n",
      "  'role': 'assistant'},\n",
      " {'content': 'James Earl Jones sits for a portrait in September 2014. Jesse '\n",
      "             'Dittmar for The Washington Post/Getty Images Jones, seen here in '\n",
      "             '1960, was born in Arkabutla, Mississippi, in 1931. FILE - James '\n",
      "             'Earl Jones arrives before the 84th Academy Awards on Sunday, '\n",
      "             'Feb. 26, 2012, in the Hollywood section of Los Angeles. Jones, '\n",
      "             'who overcame racial prejudice and a severe stutter to become a '\n",
      "             'celebrated icon of stage and screen has died at age 93. His '\n",
      "             'agent, Barry McPherson, confirmed Jones died Monday morning, '\n",
      "             'Sept. 9, 2024, at home. September 9, 2024 1:33pm. James Earl '\n",
      "             'Jones in 2015 WireImage. James Earl Jones, the revered actor who '\n",
      "             'voiced Star Wars villain Darth Vader, starred in Field of Dreams '\n",
      "             'and many other films and ... September 9, 2024, 12:57 PM 0:49 A '\n",
      "             'firefighter stands outside the FDNY Ten House on the 20th '\n",
      "             'anniversary of the September 11th terrorist attacks on the World '\n",
      "             'Trade Center in New York City, Sep. 11 ... Sep 1 John Schultz, '\n",
      "             'Australian Football HOF ruckman (Brownlow Medal 1960; All '\n",
      "             'Australian 1961; Victoria 24 games; Footscray FC), dies at 85. '\n",
      "             'Sep 2 Aleksandr Medved, Ukrainian freestyle wrestler (Olympic '\n",
      "             \"gold USSR heavyweight 1964, 68, 72; World C'ship gold x 7), dies \"\n",
      "             'at 86. Sep 2 James Darren [Ercolani], American actor (TJ Hooker; '\n",
      "             'Gidget movies ...',\n",
      "  'role': 'user'},\n",
      " {'content': '\\n'\n",
      "             '                This is just a reminder that my original query '\n",
      "             'was `who died on September 9, 2024?`.\\n'\n",
      "             '                Only answer to the original query, and nothing '\n",
      "             'else, but use the information I gave you. \\n'\n",
      "             '                Provide as much information as possible when you '\n",
      "             'use the `final_answer` tool.\\n'\n",
      "             '                ',\n",
      "  'role': 'user'}]\n",
      "--- edges ---\n",
      "--- node_tool ---\n",
      "run_tool --> tool_browser(input={'q': 'James Earl Jones death news'})\n",
      "--- node_agent ---\n",
      "[{'content': '\\n'\n",
      "             'You know everything, you must answer every question from the '\n",
      "             'user, you can use the list of tools provided to you.\\n'\n",
      "             'Your goal is to provide the user with the best possible answer, '\n",
      "             'including key information about the sources and tools used.\\n'\n",
      "             '\\n'\n",
      "             'Note, when using a tool, you provide the tool name and the '\n",
      "             'arguments to use in JSON format. \\n'\n",
      "             'For each call, you MUST ONLY use one tool AND the response '\n",
      "             'format must ALWAYS be in the pattern:\\n'\n",
      "             '```json\\n'\n",
      "             '{\"name\":\"<tool_name>\", \"parameters\": '\n",
      "             '{\"<tool_input_key>\":<tool_input_value>}}\\n'\n",
      "             '```\\n'\n",
      "             'Remember, do NOT use any tool with the same query more than '\n",
      "             'once.\\n'\n",
      "             \"Remember, if the user doesn't ask a specific question, you MUST \"\n",
      "             'use the `final_answer` tool directly.\\n'\n",
      "             '\\n'\n",
      "             'Every time the user asks a question, you take note of some '\n",
      "             'keywords in the memory.\\n'\n",
      "             \"Every time you find some information related to the user's \"\n",
      "             'question, you take note of some keywords in the memory.\\n'\n",
      "             '\\n'\n",
      "             'You should aim to collect information from a diverse range of '\n",
      "             'sources before providing the answer to the user. \\n'\n",
      "             'Once you have collected plenty of information to answer the '\n",
      "             \"user's question use the `final_answer` tool.\\n\"\n",
      "             '\\n'\n",
      "             'You can use the following tools:\\n'\n",
      "             '1. `tool_browser`: Search on DuckDuckGo browser\\n'\n",
      "             '2. `final_answer`: Returns a natural language response to the '\n",
      "             'user. \\n'\n",
      "             '    You should provide as much context as possible and specify '\n",
      "             'the source of the information.',\n",
      "  'role': 'system'},\n",
      " {'content': 'hi there, how are you?', 'role': 'user'},\n",
      " {'content': \"I'm good, thanks!\", 'role': 'assistant'},\n",
      " {'content': 'I have a question', 'role': 'user'},\n",
      " {'content': 'tell me', 'role': 'assistant'},\n",
      " {'content': 'who died on September 9, 2024?', 'role': 'user'},\n",
      " {'content': '{\"name\": \"tool_browser\", \"parameters\": {\"q\": \"James Earl Jones '\n",
      "             'death news\"}}',\n",
      "  'role': 'assistant'},\n",
      " {'content': 'FILE - James Earl Jones arrives before the 84th Academy Awards '\n",
      "             'on Sunday, Feb. 26, 2012, in the Hollywood section of Los '\n",
      "             'Angeles. Jones, who overcame racial prejudice and a severe '\n",
      "             'stutter to become a celebrated icon of stage and screen has died '\n",
      "             'at age 93. His agent, Barry McPherson, confirmed Jones died '\n",
      "             'Monday morning, Sept. 9, 2024, at home. Jesse Dittmar for The '\n",
      "             \"Washington Post/Getty Images. One of America's most beloved \"\n",
      "             'actors, James Earl Jones, died Monday at age 93. He was at home '\n",
      "             'in Dutchess County, N.Y. surrounded by his family ... James Earl '\n",
      "             'Jones, Emmy Winner and Voice of Darth Vader, Dead at 93. Veteran '\n",
      "             'actor James Earl Jones, whose distinct voice made him a staple '\n",
      "             'of film and television, died Monday morning at his home ... '\n",
      "             'James Earl Jones, legendary actor who was the voice of Darth '\n",
      "             'Vader and Mufasa, died September 9, 2024 at his home in Dutchess '\n",
      "             'County, New York at the age of 93. James Earl Jones, whose '\n",
      "             'prodigious acting talent was often overshadowed by his '\n",
      "             'distinctive baritone over a seven-decade career both onstage and '\n",
      "             'on the screen, died Monday, his representative said ...',\n",
      "  'role': 'user'},\n",
      " {'content': '\\n'\n",
      "             '                This is just a reminder that my original query '\n",
      "             'was `who died on September 9, 2024?`.\\n'\n",
      "             '                Only answer to the original query, and nothing '\n",
      "             'else, but use the information I gave you. \\n'\n",
      "             '                Provide as much information as possible when you '\n",
      "             'use the `final_answer` tool.\\n'\n",
      "             '                ',\n",
      "  'role': 'user'}]\n",
      "--- edges ---\n",
      "--- node_tool ---\n",
      "run_tool --> final_answer(input={'text': 'James Earl Jones died on September 9, 2024, at the age of 93, at his home in Dutchess County, New York. He was a celebrated actor and voice artist, best known for his iconic roles as Darth Vader in Star Wars and Mufasa in The Lion King. He had a long and distinguished career, with numerous awards and accolades to his name, including an Emmy Award.', 'source': 'various news sources'})\n"
     ]
    }
   ],
   "source": [
    "out = g.invoke(input={'user_q':q,\n",
    "                      'chat_history':chat_history, \n",
    "                      'lst_res':[], \n",
    "                      'output':{}\n",
    "                     })"
   ]
  },
  {
   "cell_type": "code",
   "execution_count": 30,
   "id": "8dd7ff20-c631-4848-ab01-ab316b7fe555",
   "metadata": {},
   "outputs": [
    {
     "name": "stdout",
     "output_type": "stream",
     "text": [
      "--- node_agent ---\n",
      "[{'content': '\\n'\n",
      "             'You know everything, you must answer every question from the '\n",
      "             'user, you can use the list of tools provided to you.\\n'\n",
      "             'Your goal is to provide the user with the best possible answer, '\n",
      "             'including key information about the sources and tools used.\\n'\n",
      "             '\\n'\n",
      "             'Note, when using a tool, you provide the tool name and the '\n",
      "             'arguments to use in JSON format. \\n'\n",
      "             'For each call, you MUST ONLY use one tool AND the response '\n",
      "             'format must ALWAYS be in the pattern:\\n'\n",
      "             '```json\\n'\n",
      "             '{\"name\":\"<tool_name>\", \"parameters\": '\n",
      "             '{\"<tool_input_key>\":<tool_input_value>}}\\n'\n",
      "             '```\\n'\n",
      "             'Remember, do NOT use any tool with the same query more than '\n",
      "             'once.\\n'\n",
      "             \"Remember, if the user doesn't ask a specific question, you MUST \"\n",
      "             'use the `final_answer` tool directly.\\n'\n",
      "             '\\n'\n",
      "             'Every time the user asks a question, you take note of some '\n",
      "             'keywords in the memory.\\n'\n",
      "             \"Every time you find some information related to the user's \"\n",
      "             'question, you take note of some keywords in the memory.\\n'\n",
      "             '\\n'\n",
      "             'You should aim to collect information from a diverse range of '\n",
      "             'sources before providing the answer to the user. \\n'\n",
      "             'Once you have collected plenty of information to answer the '\n",
      "             \"user's question use the `final_answer` tool.\\n\"\n",
      "             '\\n'\n",
      "             'You can use the following tools:\\n'\n",
      "             '1. `tool_browser`: Search on DuckDuckGo browser\\n'\n",
      "             '2. `final_answer`: Returns a natural language response to the '\n",
      "             'user. \\n'\n",
      "             '    You should provide as much context as possible and specify '\n",
      "             'the source of the information.',\n",
      "  'role': 'system'},\n",
      " {'content': 'hi there, how are you?', 'role': 'user'},\n",
      " {'content': \"I'm good, thanks!\", 'role': 'assistant'},\n",
      " {'content': 'I have a question', 'role': 'user'},\n",
      " {'content': 'tell me', 'role': 'assistant'},\n",
      " {'content': 'who died on September 9, 2024?', 'role': 'user'}]\n",
      "--- edges ---\n",
      "{'Agent': {'lst_res': [AgentRes(tool_name='tool_browser', tool_input={'q': 'September 9 2024 deaths'}, tool_output=None)]}}\n",
      "----\n",
      "--- node_tool ---\n",
      "run_tool --> tool_browser(input={'q': 'September 9 2024 deaths'})\n",
      "{'tool_browser': {'lst_res': [AgentRes(tool_name='tool_browser', tool_input={'q': 'September 9 2024 deaths'}, tool_output='Famous deaths in September 2024. Learn about 23 historical figures, notable people and celebrities who died in Sep 2024 like James Earl Jones and Alberto Fujimori. Menu. ... James Earl Jones (1931-2024) Sep 9 American Tony, Emmy, Grammy, and Golden Globe winning actor (The Great White Hope; Star Wars - \"voice of Darth Vader\"; Field Of Dreams\"), ... Updated on September 19, 2024 01:06AM EDT. After saying sad and shocking goodbyes to the many stars who died in 2023, ... died at Aug. 9 at age 74. A cause of death was not immediately released ... The following notable deaths occurred in 2024. Names are reported under the date of death, in alphabetical order. A typical entry reports information in the following sequence: ... This page was last edited on 20 September 2024, at 06:27 (UTC). Text is available under the Creative Commons Attribution-ShareAlike License 4.0; additional terms may ... 1926 William S. Scarborough, American linguist and author (Birds of Aristophanes), dies at 74. 1931 Lujo Brentano, German economist and social reformer, dies at 86. 1934 Roger Fry, English artist and art critic, dies at 67. 1941 Gustav Ehrismann, German author and expert on the German language, dies at 85. September 9, 2024, 12:57 PM 0:49 A firefighter stands outside the FDNY Ten House on the 20th anniversary of the September 11th terrorist attacks on the World Trade Center in New York City, Sep. 11 ...')]}}\n",
      "----\n",
      "--- node_agent ---\n",
      "[{'content': '\\n'\n",
      "             'You know everything, you must answer every question from the '\n",
      "             'user, you can use the list of tools provided to you.\\n'\n",
      "             'Your goal is to provide the user with the best possible answer, '\n",
      "             'including key information about the sources and tools used.\\n'\n",
      "             '\\n'\n",
      "             'Note, when using a tool, you provide the tool name and the '\n",
      "             'arguments to use in JSON format. \\n'\n",
      "             'For each call, you MUST ONLY use one tool AND the response '\n",
      "             'format must ALWAYS be in the pattern:\\n'\n",
      "             '```json\\n'\n",
      "             '{\"name\":\"<tool_name>\", \"parameters\": '\n",
      "             '{\"<tool_input_key>\":<tool_input_value>}}\\n'\n",
      "             '```\\n'\n",
      "             'Remember, do NOT use any tool with the same query more than '\n",
      "             'once.\\n'\n",
      "             \"Remember, if the user doesn't ask a specific question, you MUST \"\n",
      "             'use the `final_answer` tool directly.\\n'\n",
      "             '\\n'\n",
      "             'Every time the user asks a question, you take note of some '\n",
      "             'keywords in the memory.\\n'\n",
      "             \"Every time you find some information related to the user's \"\n",
      "             'question, you take note of some keywords in the memory.\\n'\n",
      "             '\\n'\n",
      "             'You should aim to collect information from a diverse range of '\n",
      "             'sources before providing the answer to the user. \\n'\n",
      "             'Once you have collected plenty of information to answer the '\n",
      "             \"user's question use the `final_answer` tool.\\n\"\n",
      "             '\\n'\n",
      "             'You can use the following tools:\\n'\n",
      "             '1. `tool_browser`: Search on DuckDuckGo browser\\n'\n",
      "             '2. `final_answer`: Returns a natural language response to the '\n",
      "             'user. \\n'\n",
      "             '    You should provide as much context as possible and specify '\n",
      "             'the source of the information.',\n",
      "  'role': 'system'},\n",
      " {'content': 'hi there, how are you?', 'role': 'user'},\n",
      " {'content': \"I'm good, thanks!\", 'role': 'assistant'},\n",
      " {'content': 'I have a question', 'role': 'user'},\n",
      " {'content': 'tell me', 'role': 'assistant'},\n",
      " {'content': 'who died on September 9, 2024?', 'role': 'user'},\n",
      " {'content': '{\"name\": \"tool_browser\", \"parameters\": {\"q\": \"September 9 2024 '\n",
      "             'deaths\"}}',\n",
      "  'role': 'assistant'},\n",
      " {'content': 'Famous deaths in September 2024. Learn about 23 historical '\n",
      "             'figures, notable people and celebrities who died in Sep 2024 '\n",
      "             'like James Earl Jones and Alberto Fujimori. Menu. ... James Earl '\n",
      "             'Jones (1931-2024) Sep 9 American Tony, Emmy, Grammy, and Golden '\n",
      "             'Globe winning actor (The Great White Hope; Star Wars - \"voice of '\n",
      "             'Darth Vader\"; Field Of Dreams\"), ... Updated on September 19, '\n",
      "             '2024 01:06AM EDT. After saying sad and shocking goodbyes to the '\n",
      "             'many stars who died in 2023, ... died at Aug. 9 at age 74. A '\n",
      "             'cause of death was not immediately released ... The following '\n",
      "             'notable deaths occurred in 2024. Names are reported under the '\n",
      "             'date of death, in alphabetical order. A typical entry reports '\n",
      "             'information in the following sequence: ... This page was last '\n",
      "             'edited on 20 September 2024, at 06:27 (UTC). Text is available '\n",
      "             'under the Creative Commons Attribution-ShareAlike License 4.0; '\n",
      "             'additional terms may ... 1926 William S. Scarborough, American '\n",
      "             'linguist and author (Birds of Aristophanes), dies at 74. 1931 '\n",
      "             'Lujo Brentano, German economist and social reformer, dies at 86. '\n",
      "             '1934 Roger Fry, English artist and art critic, dies at 67. 1941 '\n",
      "             'Gustav Ehrismann, German author and expert on the German '\n",
      "             'language, dies at 85. September 9, 2024, 12:57 PM 0:49 A '\n",
      "             'firefighter stands outside the FDNY Ten House on the 20th '\n",
      "             'anniversary of the September 11th terrorist attacks on the World '\n",
      "             'Trade Center in New York City, Sep. 11 ...',\n",
      "  'role': 'user'},\n",
      " {'content': '\\n'\n",
      "             '                This is just a reminder that my original query '\n",
      "             'was `who died on September 9, 2024?`.\\n'\n",
      "             '                Only answer to the original query, and nothing '\n",
      "             'else, but use the information I gave you. \\n'\n",
      "             '                Provide as much information as possible when you '\n",
      "             'use the `final_answer` tool.\\n'\n",
      "             '                ',\n",
      "  'role': 'user'}]\n",
      "--- edges ---\n",
      "{'Agent': {'lst_res': [AgentRes(tool_name='final_answer', tool_input={'text': 'According to various sources, including a webpage updated on September 19, 2024, and the Wikipedia page last edited on September 20, 2024, James Earl Jones (1931-2024) passed away on September 9, 2024. He was an American actor known for his iconic roles in The Great White Hope, Star Wars, and Field of Dreams.'}, tool_output=None)]}}\n",
      "----\n",
      "--- node_tool ---\n",
      "run_tool --> final_answer(input={'text': 'According to various sources, including a webpage updated on September 19, 2024, and the Wikipedia page last edited on September 20, 2024, James Earl Jones (1931-2024) passed away on September 9, 2024. He was an American actor known for his iconic roles in The Great White Hope, Star Wars, and Field of Dreams.'})\n",
      "{'final_answer': {'output': AgentRes(tool_name='final_answer', tool_input={'text': 'According to various sources, including a webpage updated on September 19, 2024, and the Wikipedia page last edited on September 20, 2024, James Earl Jones (1931-2024) passed away on September 9, 2024. He was an American actor known for his iconic roles in The Great White Hope, Star Wars, and Field of Dreams.'}, tool_output='According to various sources, including a webpage updated on September 19, 2024, and the Wikipedia page last edited on September 20, 2024, James Earl Jones (1931-2024) passed away on September 9, 2024. He was an American actor known for his iconic roles in The Great White Hope, Star Wars, and Field of Dreams.')}}\n",
      "----\n"
     ]
    }
   ],
   "source": [
    "## Give the first input state\n",
    "steps = g.stream(input={'user_q':q,\n",
    "                        'chat_history':chat_history, \n",
    "                        'lst_res':[], \n",
    "                        'output':{}\n",
    "                       }) \n",
    "for step in steps:\n",
    "    print(step)\n",
    "    print(\"----\")"
   ]
  }
 ],
 "metadata": {
  "kernelspec": {
   "display_name": "Python 3 (ipykernel)",
   "language": "python",
   "name": "python3"
  },
  "language_info": {
   "codemirror_mode": {
    "name": "ipython",
    "version": 3
   },
   "file_extension": ".py",
   "mimetype": "text/x-python",
   "name": "python",
   "nbconvert_exporter": "python",
   "pygments_lexer": "ipython3",
   "version": "3.11.0"
  }
 },
 "nbformat": 4,
 "nbformat_minor": 5
}
