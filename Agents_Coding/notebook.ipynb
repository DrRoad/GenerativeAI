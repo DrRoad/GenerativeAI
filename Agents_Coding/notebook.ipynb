{
 "cells": [
  {
   "cell_type": "markdown",
   "id": "a352230a-f5ee-4740-adc5-c4981291a029",
   "metadata": {},
   "source": [
    "# GenAI with Python: Coding Agents"
   ]
  },
  {
   "cell_type": "markdown",
   "id": "0a2f492c-c9a7-436e-871d-6722242797ed",
   "metadata": {},
   "source": [
    "###### [Article: TowardsDataScience]()"
   ]
  },
  {
   "cell_type": "markdown",
   "id": "dc8e876d-4e3e-4466-a89a-b424408f3765",
   "metadata": {},
   "source": [
    "### DB"
   ]
  },
  {
   "cell_type": "code",
   "execution_count": 69,
   "id": "0b37694f-333a-46fe-9497-20ae82d5b200",
   "metadata": {},
   "outputs": [
    {
     "data": {
      "text/html": [
       "<div>\n",
       "<style scoped>\n",
       "    .dataframe tbody tr th:only-of-type {\n",
       "        vertical-align: middle;\n",
       "    }\n",
       "\n",
       "    .dataframe tbody tr th {\n",
       "        vertical-align: top;\n",
       "    }\n",
       "\n",
       "    .dataframe thead th {\n",
       "        text-align: right;\n",
       "    }\n",
       "</style>\n",
       "<table border=\"1\" class=\"dataframe\">\n",
       "  <thead>\n",
       "    <tr style=\"text-align: right;\">\n",
       "      <th></th>\n",
       "      <th>PassengerId</th>\n",
       "      <th>Survived</th>\n",
       "      <th>Pclass</th>\n",
       "      <th>Name</th>\n",
       "      <th>Sex</th>\n",
       "      <th>Age</th>\n",
       "      <th>SibSp</th>\n",
       "      <th>Parch</th>\n",
       "      <th>Ticket</th>\n",
       "      <th>Fare</th>\n",
       "      <th>Cabin</th>\n",
       "      <th>Embarked</th>\n",
       "    </tr>\n",
       "  </thead>\n",
       "  <tbody>\n",
       "    <tr>\n",
       "      <th>0</th>\n",
       "      <td>1</td>\n",
       "      <td>0</td>\n",
       "      <td>3</td>\n",
       "      <td>Braund, Mr. Owen Harris</td>\n",
       "      <td>male</td>\n",
       "      <td>22.0</td>\n",
       "      <td>1</td>\n",
       "      <td>0</td>\n",
       "      <td>A/5 21171</td>\n",
       "      <td>7.2500</td>\n",
       "      <td>NaN</td>\n",
       "      <td>S</td>\n",
       "    </tr>\n",
       "    <tr>\n",
       "      <th>1</th>\n",
       "      <td>2</td>\n",
       "      <td>1</td>\n",
       "      <td>1</td>\n",
       "      <td>Cumings, Mrs. John Bradley (Florence Briggs Th...</td>\n",
       "      <td>female</td>\n",
       "      <td>38.0</td>\n",
       "      <td>1</td>\n",
       "      <td>0</td>\n",
       "      <td>PC 17599</td>\n",
       "      <td>71.2833</td>\n",
       "      <td>C85</td>\n",
       "      <td>C</td>\n",
       "    </tr>\n",
       "    <tr>\n",
       "      <th>2</th>\n",
       "      <td>3</td>\n",
       "      <td>1</td>\n",
       "      <td>3</td>\n",
       "      <td>Heikkinen, Miss. Laina</td>\n",
       "      <td>female</td>\n",
       "      <td>26.0</td>\n",
       "      <td>0</td>\n",
       "      <td>0</td>\n",
       "      <td>STON/O2. 3101282</td>\n",
       "      <td>7.9250</td>\n",
       "      <td>NaN</td>\n",
       "      <td>S</td>\n",
       "    </tr>\n",
       "  </tbody>\n",
       "</table>\n",
       "</div>"
      ],
      "text/plain": [
       "   PassengerId  Survived  Pclass  \\\n",
       "0            1         0       3   \n",
       "1            2         1       1   \n",
       "2            3         1       3   \n",
       "\n",
       "                                                Name     Sex   Age  SibSp  \\\n",
       "0                            Braund, Mr. Owen Harris    male  22.0      1   \n",
       "1  Cumings, Mrs. John Bradley (Florence Briggs Th...  female  38.0      1   \n",
       "2                             Heikkinen, Miss. Laina  female  26.0      0   \n",
       "\n",
       "   Parch            Ticket     Fare Cabin Embarked  \n",
       "0      0         A/5 21171   7.2500   NaN        S  \n",
       "1      0          PC 17599  71.2833   C85        C  \n",
       "2      0  STON/O2. 3101282   7.9250   NaN        S  "
      ]
     },
     "execution_count": 69,
     "metadata": {},
     "output_type": "execute_result"
    }
   ],
   "source": [
    "import pandas as pd\n",
    "\n",
    "dtf = pd.read_csv(\"data_titanic.csv\")\n",
    "dtf.head(3)"
   ]
  },
  {
   "cell_type": "code",
   "execution_count": 70,
   "id": "386aa86f-dbc4-43ee-98c6-3f93e817ca2e",
   "metadata": {},
   "outputs": [
    {
     "name": "stdout",
     "output_type": "stream",
     "text": [
      "How many people died? --> 549\n"
     ]
    }
   ],
   "source": [
    "print(\"How many people died? -->\", len(dtf[dtf[\"Survived\"]==0]))"
   ]
  },
  {
   "cell_type": "code",
   "execution_count": 71,
   "id": "726cf893-7605-443c-8d75-11c9e2e19fa2",
   "metadata": {},
   "outputs": [
    {
     "data": {
      "text/plain": [
       "891"
      ]
     },
     "execution_count": 71,
     "metadata": {},
     "output_type": "execute_result"
    }
   ],
   "source": [
    "import sqlite3\n",
    "\n",
    "dtf.to_sql(index=False, name=\"titanic\", con=sqlite3.connect(\"database.db\"), if_exists=\"replace\")"
   ]
  },
  {
   "cell_type": "code",
   "execution_count": 72,
   "id": "3864c620-cc56-41df-8129-dc97c56f0d46",
   "metadata": {},
   "outputs": [],
   "source": [
    "from langchain_community.utilities.sql_database import SQLDatabase\n",
    "\n",
    "db = SQLDatabase.from_uri(\"sqlite:///database.db\")"
   ]
  },
  {
   "cell_type": "markdown",
   "id": "a47f65f1-46e0-4edf-92dc-96123c8ff06e",
   "metadata": {},
   "source": [
    "### LLM"
   ]
  },
  {
   "cell_type": "code",
   "execution_count": 73,
   "id": "016f6191-755e-483d-aa92-d7cd2cd3146b",
   "metadata": {},
   "outputs": [
    {
     "name": "stdout",
     "output_type": "stream",
     "text": [
      "I have been trained on a wide range of programming languages and can understand code in many different formats. However, I don't have personal experience or the ability to write code from scratch like a human developer would.\n"
     ]
    }
   ],
   "source": [
    "from langchain_community.llms import Ollama #0.2.12\n",
    "\n",
    "llm = Ollama(model=\"llama3.1\")\n",
    "res = llm.invoke(input=[\"Do you know how to code?\"]).split(\"\\n\")[0]\n",
    "print(res)"
   ]
  },
  {
   "cell_type": "markdown",
   "id": "13bf428e-687c-4eee-b4f1-1d9db6ab1429",
   "metadata": {},
   "source": [
    "### 1 - SQL Agent"
   ]
  },
  {
   "cell_type": "markdown",
   "id": "683eb6fb-2754-4bd6-9bb0-58d3e928afbc",
   "metadata": {},
   "source": [
    "##### Tools"
   ]
  },
  {
   "cell_type": "code",
   "execution_count": 74,
   "id": "083d3f5f-5c4d-4187-b6ff-63d4e91594a9",
   "metadata": {},
   "outputs": [
    {
     "name": "stdout",
     "output_type": "stream",
     "text": [
      "--- Get Tables ---\n",
      "Using Tool: tool_tables\n",
      "titanic\n",
      "\n",
      "--- Get Schema ---\n",
      "Using Tool: tool_tables\n",
      "Using Tool: tool_schema\n",
      "\n",
      "CREATE TABLE titanic (\n",
      "\t\"PassengerId\" INTEGER, \n",
      "\t\"Survived\" INTEGER, \n",
      "\t\"Pclass\" INTEGER, \n",
      "\t\"Name\" TEXT, \n",
      "\t\"Sex\" TEXT, \n",
      "\t\"Age\" REAL, \n",
      "\t\"SibSp\" INTEGER, \n",
      "\t\"Parch\" INTEGER, \n",
      "\t\"Ticket\" TEXT, \n",
      "\t\"Fare\" REAL, \n",
      "\t\"Cabin\" TEXT, \n",
      "\t\"Embarked\" TEXT\n",
      ")\n",
      "\n",
      "/*\n",
      "3 rows from titanic table:\n",
      "PassengerId\tSurvived\tPclass\tName\tSex\tAge\tSibSp\tParch\tTicket\tFare\tCabin\tEmbarked\n",
      "1\t0\t3\tBraund, Mr. Owen Harris\tmale\t22.0\t1\t0\tA/5 21171\t7.25\tNone\tS\n",
      "2\t1\t1\tCumings, Mrs. John Bradley (Florence Briggs Thayer)\tfemale\t38.0\t1\t0\tPC 17599\t71.2833\tC85\tC\n",
      "3\t1\t3\tHeikkinen, Miss. Laina\tfemale\t26.0\t0\t0\tSTON/O2. 3101282\t7.925\tNone\tS\n",
      "*/\n",
      "\n",
      "--- SQL Query ---\n",
      "Using Tool: tool_tables\n",
      "Using Tool: tool_query\n",
      "[(1, 0, 3, 'Braund, Mr. Owen Harris', 'male', 22.0, 1, 0, 'A/5 21171', 7.25, None, 'S'), (2, 1, 1, 'Cumings, Mrs. John Bradley (Florence Briggs Thayer)', 'female', 38.0, 1, 0, 'PC 17599', 71.2833, 'C85', 'C'), (3, 1, 3, 'Heikkinen, Miss. Laina', 'female', 26.0, 0, 0, 'STON/O2. 3101282', 7.925, None, 'S')]\n"
     ]
    }
   ],
   "source": [
    "## DB Connection\n",
    "from crewai_tools import tool #0.8.3\n",
    "from langchain_community.tools.sql_database.tool import ListSQLDatabaseTool, InfoSQLDatabaseTool, QuerySQLDataBaseTool\n",
    "\n",
    "@tool(\"tool_tables\")\n",
    "def tool_tables() -> str:\n",
    "    \"\"\"Get all the tables in the database\"\"\"\n",
    "    return ListSQLDatabaseTool(db=db).invoke(\"\")\n",
    "\n",
    "@tool(\"tool_schema\")\n",
    "def tool_schema(tables: str) -> str:\n",
    "    \"\"\"\n",
    "    Example Input: table1, table2, table3\n",
    "    \"\"\"\n",
    "    tool = InfoSQLDatabaseTool(db=db)\n",
    "    return tool.invoke(tables)\n",
    "\n",
    "@tool(\"tool_query\")\n",
    "def tool_query(sql: str) -> str:\n",
    "    \"\"\"Execute a SQL query on the database and return the result\"\"\"\n",
    "    return QuerySQLDataBaseTool(db=db).invoke(sql)\n",
    "\n",
    "print(\"--- Get Tables ---\")\n",
    "print( tool_tables.run() )\n",
    "\n",
    "print(\"\\n--- Get Schema ---\")\n",
    "print( tool_schema.run( tables=tool_tables.run() ) )\n",
    "\n",
    "print(\"\\n--- SQL Query ---\")\n",
    "print( tool_query.run(f\"SELECT * FROM {tool_tables.run()} LIMIT 3\") )"
   ]
  },
  {
   "cell_type": "code",
   "execution_count": 75,
   "id": "6a161d84-0238-4350-94fe-897def79d4e5",
   "metadata": {},
   "outputs": [
    {
     "name": "stdout",
     "output_type": "stream",
     "text": [
      "Using Tool: tool_tables\n",
      "Using Tool: tool_check\n"
     ]
    },
    {
     "data": {
      "text/plain": [
       "'SELECT * FROM titanic LIMIT 3'"
      ]
     },
     "execution_count": 75,
     "metadata": {},
     "output_type": "execute_result"
    }
   ],
   "source": [
    "## LLM Checking SQL\n",
    "from langchain_community.tools.sql_database.tool import QuerySQLCheckerTool\n",
    "\n",
    "@tool(\"tool_check\")\n",
    "def tool_check(sql: str) -> str:\n",
    "    \"\"\"\n",
    "    Use this tool to double check if your query is correct before executing it. \n",
    "    Always use this tool before executing a query with `tool_query`.\n",
    "    \"\"\"\n",
    "    return QuerySQLCheckerTool(db=db, llm=llm).invoke({\"query\":sql})\n",
    "\n",
    "tool_check.run(f\"SELECT * FROM {tool_tables.run()} LIMIT 3 +db+\")"
   ]
  },
  {
   "cell_type": "markdown",
   "id": "26d33ea5-1b4c-457d-b51b-60bce93dacc1",
   "metadata": {},
   "source": [
    "##### Agent"
   ]
  },
  {
   "cell_type": "code",
   "execution_count": 76,
   "id": "835bf37b-146a-49d9-989b-09802a8e4aff",
   "metadata": {},
   "outputs": [],
   "source": [
    "import crewai #0.51.1\n",
    "\n",
    "prompt = '''Construct and execute SQL queries based on {user_input}'''\n",
    "\n",
    "## Agent\n",
    "agent_sql = crewai.Agent(\n",
    "    role=\"Database Engineer\",\n",
    "    goal=prompt,\n",
    "    backstory='''\n",
    "        You are an experienced database engineer who is master at creating efficient and complex SQL queries.\n",
    "        You have a deep understanding of how different databases work and how to optimize queries.\n",
    "        Use the `tool_tables` to find available tables.\n",
    "        Use the `tool_schema` to understand the metadata for the tables.\n",
    "        Use the `tool_query` to check your queries for correctness.\n",
    "        Use the `tool_check` to execute queries against the database.\n",
    "     ''',\n",
    "    tools=[tool_tables, tool_schema, tool_query, tool_check], \n",
    "    max_iter=3,\n",
    "    llm=llm,\n",
    "    allow_delegation=False, verbose=False)\n",
    "\n",
    "## Task\n",
    "task_sql = crewai.Task(\n",
    "    description=prompt,\n",
    "    agent=agent_sql,\n",
    "    expected_output='''Database result from the query''')"
   ]
  },
  {
   "cell_type": "markdown",
   "id": "eeec31e3-ef5d-4dd6-a5e2-640df375573f",
   "metadata": {},
   "source": [
    "##### Test single Agent"
   ]
  },
  {
   "cell_type": "code",
   "execution_count": 77,
   "id": "ef519d9f-4551-4cce-93bc-c018b9f0c0e6",
   "metadata": {},
   "outputs": [
    {
     "name": "stderr",
     "output_type": "stream",
     "text": [
      "2024-08-27 00:43:04,800 - 140704473259456 - __init__.py-__init__:531 - WARNING: Overriding of current TracerProvider is not allowed\n"
     ]
    },
    {
     "name": "stdout",
     "output_type": "stream",
     "text": [
      "\n",
      "---Res---\n",
      " Agent stopped due to iteration limit or time limit.\n"
     ]
    }
   ],
   "source": [
    "crew = crewai.Crew(agents=[agent_sql], tasks=[task_sql], verbose=False)\n",
    "res = crew.kickoff(inputs={\"user_input\":\"how many people died?\"})\n",
    "print(\"\\n---Res---\\n\", res)"
   ]
  },
  {
   "cell_type": "markdown",
   "id": "3ec402fa-3c2d-419b-83e0-1e1848ed409f",
   "metadata": {},
   "source": [
    "### 2 - Python Agent"
   ]
  },
  {
   "cell_type": "markdown",
   "id": "aa92db4e-8000-4083-a484-6693c7abf67d",
   "metadata": {},
   "source": [
    "##### Tools"
   ]
  },
  {
   "cell_type": "code",
   "execution_count": null,
   "id": "46ffdb71-2c82-4db1-9ec1-14579fe4804c",
   "metadata": {},
   "outputs": [],
   "source": []
  },
  {
   "cell_type": "markdown",
   "id": "f005f751-36cd-450a-a08a-3068f89f595b",
   "metadata": {},
   "source": [
    "##### Agent"
   ]
  },
  {
   "cell_type": "code",
   "execution_count": 78,
   "id": "d9ff6ba2-9afa-4ede-b9be-c4fa467ecb6b",
   "metadata": {},
   "outputs": [],
   "source": [
    "prompt = '''You receive data from the database engineer and analyze it to answer {user_input}'''\n",
    "\n",
    "## Agent\n",
    "agent_py = crewai.Agent(\n",
    "    role=\"Data Analyst\",\n",
    "    goal=prompt,\n",
    "    backstory='''\n",
    "        You are an experienced data anlyst that analyzes datasets using Python.\n",
    "        Your work is always based on the provided data and is clear,\n",
    "        easy-to-understand and to the point. \n",
    "        You have attention to detail and always produce very detailed work.\n",
    "     ''',\n",
    "    #tools=[], \n",
    "    max_iter=3,\n",
    "    llm=llm,\n",
    "    allow_delegation=False, verbose=False)\n",
    "\n",
    "## Task\n",
    "task_py = crewai.Task(\n",
    "    description=prompt,\n",
    "    agent=agent_py,\n",
    "    expected_output='''Detailed analysis''')"
   ]
  },
  {
   "cell_type": "markdown",
   "id": "6d3ac7fe-58af-4921-91db-33b67f18aa8a",
   "metadata": {},
   "source": [
    "##### Test single Agent"
   ]
  },
  {
   "cell_type": "code",
   "execution_count": 79,
   "id": "009a6564-3e1e-4e70-86fa-ccfd83d2aa09",
   "metadata": {},
   "outputs": [
    {
     "name": "stderr",
     "output_type": "stream",
     "text": [
      "2024-08-27 00:46:25,886 - 140704473259456 - __init__.py-__init__:531 - WARNING: Overriding of current TracerProvider is not allowed\n"
     ]
    },
    {
     "name": "stdout",
     "output_type": "stream",
     "text": [
      "\n",
      "---Res---\n",
      " Number of people who died: 1\n"
     ]
    }
   ],
   "source": [
    "crew = crewai.Crew(agents=[agent_py], tasks=[task_py], verbose=False)\n",
    "res = crew.kickoff(inputs={\"user_input\":\n",
    "'''\n",
    "how many people died in this dataset?\n",
    "/*\n",
    "3 rows from titanic table:\n",
    "PassengerId\tSurvived\tPclass\tName\tSex\tAge\tSibSp\tParch\tTicket\tFare\tCabin\tEmbarked\n",
    "1\t0\t3\tBraund, Mr. Owen Harris\tmale\t22.0\t1\t0\tA/5 21171\t7.25\tNone\tS\n",
    "2\t1\t1\tCumings, Mrs. John Bradley (Florence Briggs Thayer)\tfemale\t38.0\t1\t0\tPC 17599\t71.2833\tC85\tC\n",
    "3\t1\t3\tHeikkinen, Miss. Laina\tfemale\t26.0\t0\t0\tSTON/O2. 3101282\t7.925\tNone\tS\n",
    "*/\n",
    "'''})\n",
    "print(\"\\n---Res---\\n\", res)"
   ]
  },
  {
   "cell_type": "markdown",
   "id": "de599ada-2adf-4866-8e4a-b45607102f21",
   "metadata": {},
   "source": [
    "### 3 - HTML Agent"
   ]
  },
  {
   "cell_type": "markdown",
   "id": "b72fa1aa-cf6c-4820-a34c-f73abb9431ce",
   "metadata": {},
   "source": [
    "##### Tools"
   ]
  },
  {
   "cell_type": "code",
   "execution_count": null,
   "id": "00763aed-6221-4aeb-8cb8-94782cc31831",
   "metadata": {},
   "outputs": [],
   "source": []
  },
  {
   "cell_type": "markdown",
   "id": "783a1012-5747-49d2-8408-8be7dfe6055f",
   "metadata": {},
   "source": [
    "##### Agent"
   ]
  },
  {
   "cell_type": "code",
   "execution_count": 80,
   "id": "5f30aa11-8544-4ad5-9bdd-173aac329f28",
   "metadata": {},
   "outputs": [],
   "source": [
    "prompt = '''You write an executive summary type of report based on the work of the analyst to answer {user_input}'''\n",
    "\n",
    "## Agent\n",
    "agent_html = crewai.Agent(\n",
    "    role=\"Reporting Specialist\",\n",
    "    goal=prompt,\n",
    "    backstory='''\n",
    "        You are an experienced reporting specialist that writes beautiful reports using HTML.\n",
    "        Your writing style is well known for clear and effective communication.\n",
    "        You always summarize long texts into bullet points that contain the most important details.\n",
    "     ''',\n",
    "    #tools=[], \n",
    "    max_iter=3,\n",
    "    llm=llm,\n",
    "    allow_delegation=False, verbose=False)\n",
    "\n",
    "## Task\n",
    "task_html = crewai.Task(\n",
    "    description=prompt,\n",
    "    agent=agent_py,\n",
    "    expected_output='''HTML report''')"
   ]
  },
  {
   "cell_type": "markdown",
   "id": "fe64baef-2b81-4e27-bc02-d751765d9c90",
   "metadata": {},
   "source": [
    "##### Test single Agent"
   ]
  },
  {
   "cell_type": "code",
   "execution_count": 81,
   "id": "7fbf6f3a-bc83-432d-9135-4215fdd733b5",
   "metadata": {},
   "outputs": [
    {
     "name": "stderr",
     "output_type": "stream",
     "text": [
      "2024-08-27 00:49:55,071 - 140704473259456 - __init__.py-__init__:531 - WARNING: Overriding of current TracerProvider is not allowed\n"
     ]
    },
    {
     "name": "stdout",
     "output_type": "stream",
     "text": [
      "\n",
      "---Res---\n",
      " <!DOCTYPE html>\n",
      "<html>\n",
      "<head>\n",
      "\t<title>Analysis Report: How Many People Died in this Dataset?</title>\n",
      "</head>\n",
      "<body>\n",
      "\n",
      "<h1>Executive Summary Report</h1>\n",
      "<p>How many people died in this dataset?</p>\n",
      "\n",
      "<h2>Key Findings:</h2>\n",
      "<ul>\n",
      "  <li>There was **1** person who survived.</li>\n",
      "  <li>Unfortunately, there was only **1** person who did not survive, which means 1 person died.</li>\n",
      "</ul>\n",
      "\n",
      "<p>The individual who passed away had:\n",
      "- PassengerId: 1\n",
      "- Survived: 0 (indicating they did not survive the event)\n",
      "- Pclass: 3 (the passenger class)\n",
      "- Name: Braund, Mr. Owen Harris\n",
      "- Sex: male\n",
      "- Age: 22.0\n",
      "- SibSp: 1 (number of siblings/spouses aboard)\n",
      "- Parch: 0 (number of parents/children aboard)\n",
      "- Ticket: A/5 21171\n",
      "- Fare: 7.25 (the ticket fare)\n",
      "- Cabin: None (no cabin was allocated to the passenger)\n",
      "- Embarked: S (the location where the passenger boarded)</p>\n",
      "\n",
      "<h2>Conclusion:</h2>\n",
      "<p>In conclusion, there was only **1** person who died in this dataset.</p>\n",
      "\n",
      "<h3>Summary Tables</h3>\n",
      "<h4>Table 1: Summary of Individual Who Died</h4>\n",
      "<table border=\"1\">\n",
      "\t<tr>\n",
      "\t\t<th>Column Name</th>\n",
      "\t\t<th>Value</th>\n",
      "\t</tr>\n",
      "\t<tr>\n",
      "\t\t<td>PassengerId</td>\n",
      "\t\t<td>1</td>\n",
      "\t</tr>\n",
      "\t<tr>\n",
      "\t\t<td>Survived</td>\n",
      "\t\t<td>0</td>\n",
      "\t</tr>\n",
      "\t<tr>\n",
      "\t\t<td>Pclass</td>\n",
      "\t\t<td>3</td>\n",
      "\t</tr>\n",
      "\t<tr>\n",
      "\t\t<td>Name</td>\n",
      "\t\t<td>Braund, Mr. Owen Harris</td>\n",
      "\t</tr>\n",
      "\t<tr>\n",
      "\t\t<td>Sex</td>\n",
      "\t\t<td>male</td>\n",
      "\t</tr>\n",
      "\t<tr>\n",
      "\t\t<td>Age</td>\n",
      "\t\t<td>22.0</td>\n",
      "\t</tr>\n",
      "\t<tr>\n",
      "\t\t<td>SibSp</td>\n",
      "\t\t<td>1</td>\n",
      "\t</tr>\n",
      "\t<tr>\n",
      "\t\t<td>Parch</td>\n",
      "\t\t<td>0</td>\n",
      "\t</tr>\n",
      "\t<tr>\n",
      "\t\t<td>Ticket</td>\n",
      "\t\t<td>A/5 21171</td>\n",
      "\t</tr>\n",
      "\t<tr>\n",
      "\t\t<td>Fare</td>\n",
      "\t\t<td>7.25</td>\n",
      "\t</tr>\n",
      "\t<tr>\n",
      "\t\t<td>Cabin</td>\n",
      "\t\t<td>None</td>\n",
      "\t</tr>\n",
      "\t<tr>\n",
      "\t\t<td>Embarked</td>\n",
      "\t\t<td>S</td>\n",
      "\t</tr>\n",
      "</table>\n",
      "\n",
      "<h4>Table 2: Total Number of Survivors and Non-Survivors</h4>\n",
      "<table border=\"1\">\n",
      "\t<tr>\n",
      "\t\t<th>Category</th>\n",
      "\t\t<th>Count</th>\n",
      "\t</tr>\n",
      "\t<tr>\n",
      "\t\t<td>Survived</td>\n",
      "\t\t<td>2</td>\n",
      "\t</tr>\n",
      "\t<tr>\n",
      "\t\t<td>Did Not Survive (Died)</td>\n",
      "\t\t<td>1</td>\n",
      "\t</tr>\n",
      "</table>\n",
      "\n",
      "</body>\n",
      "</html>\n"
     ]
    }
   ],
   "source": [
    "crew = crewai.Crew(agents=[agent_html], tasks=[task_html], verbose=False)\n",
    "res = crew.kickoff(inputs={\"user_input\":\n",
    "'''\n",
    "how many people died in this dataset?\n",
    "There was **1** person who died in this dataset.\n",
    "\n",
    "PassengerId: 1\n",
    "Survived: 0\n",
    "Pclass: 3\n",
    "Name: Braund, Mr. Owen Harris\n",
    "Sex: male\n",
    "Age: 22.0\n",
    "SibSp: 1\n",
    "Parch: 0\n",
    "Ticket: A/5 21171\n",
    "Fare: 7.25\n",
    "Cabin: None\n",
    "Embarked: S\n",
    "\n",
    "This is the detailed analysis of the dataset to answer how many people died in this dataset.\n",
    "'''})\n",
    "print(\"\\n---Res---\\n\", res)"
   ]
  },
  {
   "cell_type": "markdown",
   "id": "06848b63-2fe1-4fca-b612-95b241e7c73e",
   "metadata": {},
   "source": [
    "### 4 - Run all"
   ]
  },
  {
   "cell_type": "code",
   "execution_count": 82,
   "id": "f7b34afb-438d-4cef-b0f2-0df6583aa21f",
   "metadata": {},
   "outputs": [
    {
     "name": "stderr",
     "output_type": "stream",
     "text": [
      "2024-08-27 00:54:14,814 - 140704473259456 - __init__.py-__init__:531 - WARNING: Overriding of current TracerProvider is not allowed\n",
      "\n",
      "KeyboardInterrupt\n",
      "\n"
     ]
    }
   ],
   "source": [
    "crew = crewai.Crew(agents=[agent_sql, agent_py, agent_html], \n",
    "                   tasks=[task_sql, task_py, task_html], \n",
    "                   process=crewai.Process.sequential,\n",
    "                   verbose=False)\n",
    "\n",
    "res = crew.kickoff(inputs={\"user_input\":\"how many people died?\"})\n",
    "\n",
    "print(\"\\n---Res---\\n\", res)"
   ]
  },
  {
   "cell_type": "markdown",
   "id": "01042606-ded3-48fb-9978-cedc5794eb03",
   "metadata": {},
   "source": [
    "<div style=\"text-align: center;\">\n",
    "  <h1>Total Number of Deaths</h1>\n",
    "  <p>Based on the analysis, it was determined that:</p>\n",
    "</div>\n",
    "\n",
    "**<div style=\"background-color: #f0f0f0; border: 1px solid #ccc; padding: 10px;\">**\n",
    "\n",
    "| **Total Number of Deaths** | **Description** |\n",
    "| --- | --- |\n",
    "| <font size=6>100,456</font> | The total number of deaths calculated from the dataset. |\n",
    "\n",
    "**</div>**"
   ]
  },
  {
   "cell_type": "markdown",
   "id": "9242aab5-f17c-45ea-b6bd-8c78a1c214bc",
   "metadata": {},
   "source": [
    "### 5 - Machine Learning"
   ]
  },
  {
   "cell_type": "code",
   "execution_count": null,
   "id": "97761218-830c-47a2-a9c0-37331e9e34f1",
   "metadata": {},
   "outputs": [],
   "source": [
    "prompt = '''You take the dataframe from the engineer and make a prediction using sckit-learn to answer {user_input}'''\n",
    "\n",
    "## Agent\n",
    "agent_ml = crewai.Agent(\n",
    "    role=\"Data Scientist\",\n",
    "    goal=prompt,\n",
    "    backstory='''\n",
    "        You are an experienced data scientist that does machine learning using Python and sckit-learn.\n",
    "        Take the dataframe and split into train set and test set and train a simple classification to predict a column.\n",
    "        Then you use the score to evaluate the model predictions.\n",
    "     ''',\n",
    "    #tools=[], \n",
    "    #max_iter=3,\n",
    "    llm=llm,\n",
    "    allow_delegation=False, verbose=True)\n",
    "\n",
    "## Task\n",
    "task_ml = crewai.Task(\n",
    "    description=prompt,\n",
    "    agent=agent_py,\n",
    "    expected_output='''Prediction of the machine learnig model''')"
   ]
  },
  {
   "cell_type": "code",
   "execution_count": null,
   "id": "59c7f53e-d859-4614-9023-2aca1933cdcc",
   "metadata": {},
   "outputs": [],
   "source": [
    "crew = crewai.Crew(agents=[agent_sql, agent_ml], \n",
    "                   tasks=[task_sql, task_ml], \n",
    "                   process=crewai.Process.sequential,\n",
    "                   verbose=False)\n",
    "\n",
    "res = crew.kickoff(inputs={\"user_input\":\"get the whole table and train a classification to predict the column `Survived`\"})\n",
    "\n",
    "print(\"\\n---Res---\\n\", res)"
   ]
  }
 ],
 "metadata": {
  "kernelspec": {
   "display_name": "Python 3 (ipykernel)",
   "language": "python",
   "name": "python3"
  },
  "language_info": {
   "codemirror_mode": {
    "name": "ipython",
    "version": 3
   },
   "file_extension": ".py",
   "mimetype": "text/x-python",
   "name": "python",
   "nbconvert_exporter": "python",
   "pygments_lexer": "ipython3",
   "version": "3.11.0"
  }
 },
 "nbformat": 4,
 "nbformat_minor": 5
}
